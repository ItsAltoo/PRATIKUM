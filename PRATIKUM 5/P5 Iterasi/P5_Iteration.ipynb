{
 "cells": [
  {
   "cell_type": "markdown",
   "id": "b3450a5a-c882-48e6-8aae-8be59018aedb",
   "metadata": {
    "id": "b3450a5a-c882-48e6-8aae-8be59018aedb"
   },
   "source": [
    "\n",
    "# Praktikum 5: Iterasi\n",
    "\n",
    "## Tujuan Pembelajaran\n",
    "- Memahami dan mengimplementasikan jenis-jenis iterasi/perulangan (for, while) dalam Python.\n",
    "- Menggunakan perulangan untuk menyelesaikan berbagai kasus pemrograman.\n",
    "\n",
    "## Pokok Bahasan\n",
    "- Perulangan for\n",
    "- Perulangan while\n",
    "- Penggunaan `break` dan `continue` dalam perulangan\n",
    "\n",
    "Berikut ini adalah beberapa percobaan dan latihan yang bertujuan untuk memahami konsep iterasi dalam Python.\n"
   ]
  },
  {
   "attachments": {},
   "cell_type": "markdown",
   "id": "e989c82b-4c5e-4eaf-9152-4a4c9a494b65",
   "metadata": {},
   "source": [
    "\n",
    "### Percobaan 5.1: Perulangan For\n",
    "\n",
    "Tabel di bawah ini menunjukkan skenario perulangan menggunakan perintah `for`. Buatlah program berdasarkan tabel ini.\n",
    "\n",
    "| Kondisi Perulangan                     | Perintah                                                   |\n",
    "|----------------------------------------|------------------------------------------------------------|\n",
    "| Menampilkan angka 1 sampai 10          | `for i in range(1, 11): print(i)`                          |\n",
    "| Menampilkan bilangan genap 0 sampai 10 | `for i in range(0, 11, 2): print(i)`                       |\n",
    "| Menampilkan setiap karakter dalam \"Python\" | `for char in \"Python\": print(char)`                       |\n",
    "\n",
    "#### Soal:\n",
    "1. Implementasikan program dari setiap skenario pada tabel di atas.\n",
    "2. Uji program dengan output yang benar.\n",
    "\n",
    "<img src=\"Screenshot (1).png\" alt=\"Deskripsi Gambar\" width=\"350\" style=\"margin-left: 30px;\" />\n"
   ]
  },
  {
   "cell_type": "code",
   "execution_count": 21,
   "id": "b4beb5da-51a9-47ff-a732-d6cf9247ae74",
   "metadata": {
    "id": "ea6a12c4-1360-4bfe-a05f-4098604926bc"
   },
   "outputs": [
    {
     "name": "stdout",
     "output_type": "stream",
     "text": [
      "-2 -1 0 1 2 3 4 5 6 7 8 9 10 11 12 13 14 looping pertama selesai\n",
      "0 2 4 6 8 10 12 14 16 18 20 looping kedua selesai\n",
      "M a l i k looping ketiga selesai\n"
     ]
    }
   ],
   "source": [
    "# Ketikan Code Disini lalu Jalankan (Run)\n",
    "for i in range (-2,15):\n",
    "    print(i,end=\" \")\n",
    "print(\"looping pertama selesai\")\n",
    "\n",
    "for i in range(0,21,2):\n",
    "    print(i, end=\" \")\n",
    "print(\"looping kedua selesai\")\n",
    "\n",
    "for char in \"Malik\":\n",
    "    print(char,end=\" \")\n",
    "print(\"looping ketiga selesai\")"
   ]
  },
  {
   "cell_type": "markdown",
   "id": "28e24639-72f7-4d78-8169-b805c5bee744",
   "metadata": {},
   "source": [
    "\n",
    "### Percobaan 5.2: Perulangan While\n",
    "\n",
    "Tabel di bawah ini menunjukkan contoh penggunaan perulangan `while` dalam berbagai skenario.\n",
    "\n",
    "| Kondisi Perulangan                      | Perintah                                                      |\n",
    "|-----------------------------------------|---------------------------------------------------------------|\n",
    "| Menampilkan angka 1 sampai 5            | `i = 1 while i <= 5: print(i) i += 1`                         |\n",
    "| Menampilkan bilangan ganjil 1 sampai 19 | `i = 1 while i < 20: if i % 2 != 0: print(i) i += 1`          |\n",
    "| Berhenti ketika angka mencapai 10       | `i = 0 while True: if i == 10: break print(i) i += 1`         |\n",
    "\n",
    "#### Soal:\n",
    "1. Implementasikan program dari setiap skenario pada tabel di atas.\n",
    "2. Uji program dengan output yang benar.\n",
    "\n",
    "<img src=\"Screenshot (2).png\" alt=\"Deskripsi Gambar\" width=\"350\" style=\"margin-left: 30px;\" />"
   ]
  },
  {
   "cell_type": "code",
   "execution_count": 5,
   "id": "b3f87cea-e50a-46fd-820f-bc12703db8da",
   "metadata": {
    "id": "ea6a12c4-1360-4bfe-a05f-4098604926bc"
   },
   "outputs": [
    {
     "name": "stdout",
     "output_type": "stream",
     "text": [
      "1 2 3 4 5 6 7 8 9 10 11 12 13 14 15 16 17 18 19 20 21 22 23 24 25 26 27 28 29 30 31 32 33 34 35 36 37 38 39 40 41 42 43 44 45 46 47 48 49 50 Looping pertama telah selesai\n",
      "1 3 5 7 9 11 13 15 17 19 21 23 25 27 29 31 33 35 37 39 41 43 45 47 49 51 53 55 57 59 61 63 65 67 69 71 73 75 77 79 81 83 85 87 89 91 93 95 97 99 101 103 105 107 109 111 113 115 117 119 121 123 125 127 129 131 133 135 137 139 141 143 145 147 149 151 153 155 157 159 161 163 165 167 169 171 173 175 177 179 181 183 185 187 189 191 193 195 197 199 201 203 205 207 209 211 213 215 217 219 221 223 225 227 229 231 233 235 237 239 241 243 245 247 249 251 253 255 257 259 261 263 265 267 269 271 273 275 277 279 281 283 285 287 289 291 293 295 297 299 301 303 305 307 309 311 313 315 317 319 321 323 325 327 329 331 333 335 337 339 341 343 345 347 349 351 353 355 357 359 361 363 365 367 369 371 373 375 377 379 381 383 385 387 389 391 393 395 397 399 401 403 405 407 409 411 413 415 417 419 421 423 425 427 429 431 433 435 437 439 441 443 445 447 449 451 453 455 457 459 461 463 465 467 469 471 473 475 477 479 481 483 485 487 489 491 493 495 497 499 Looping kedua telah selesai\n",
      "0 1 2 3 4 5 6 7 8 9 10 11 12 13 14 15 16 17 18 19 20 21 22 23 24 25 26 27 28 29 30 31 32 33 34 35 36 37 38 39 40 41 42 43 44 45 46 47 48 49 Print dihentikan\n",
      "Looping ketiga telah selesai\n"
     ]
    }
   ],
   "source": [
    "# Ketikan Code Disini lalu Jalankan (Run)\n",
    "i = 1\n",
    "while i <= 50:\n",
    "    print(i,end=\" \")\n",
    "    i += 1\n",
    "print(\"Looping pertama telah selesai\")\n",
    "\n",
    "i= 1\n",
    "while i < 500:\n",
    "    if i % 2 != 0:\n",
    "        print(i,end=\" \")\n",
    "    i += 1\n",
    "print(\"Looping kedua telah selesai\")    \n",
    "\n",
    "i = 0\n",
    "while True:\n",
    "    if i == 50:\n",
    "        print(\"Print dihentikan\")\n",
    "        break\n",
    "    print(i,end=\" \")\n",
    "    i += 1\n",
    "print(\"Looping ketiga telah selesai\")"
   ]
  },
  {
   "cell_type": "markdown",
   "id": "04451d75-fd5c-418f-b2b3-bfe3ca35497d",
   "metadata": {},
   "source": [
    "\n",
    "### Percobaan 5.3: Penggunaan `break` dan `continue`\n",
    "\n",
    "Tabel di bawah ini memberikan skenario bagaimana `break` dan `continue` digunakan dalam perulangan.\n",
    "\n",
    "| Kondisi Perulangan                                        | Perintah                                                      |\n",
    "|-----------------------------------------------------------|---------------------------------------------------------------|\n",
    "| Berhenti ketika angka habis dibagi 3 dan 7                 | `for i in range(1, 100): if i % 3 == 0 and i % 7 == 0: break print(i)` |\n",
    "| Menampilkan hanya bilangan genap dari 1 sampai 10 (skip ganjil) | `for i in range(1, 11): if i % 2 != 0: continue print(i)` |\n",
    "\n",
    "#### Soal:\n",
    "1. Implementasikan program berdasarkan tabel di atas.\n",
    "2. Jelaskan peran `break` dan `continue` dalam program yang Anda buat.\n",
    "\n",
    "<img src=\"Screenshot (3).png\" alt=\"Deskripsi Gambar\" width=\"350\" style=\"margin-left: 30px;\" />"
   ]
  },
  {
   "cell_type": "code",
   "execution_count": 13,
   "id": "75357d06-3bb8-4b42-94cf-f4b2be24a792",
   "metadata": {
    "id": "ea6a12c4-1360-4bfe-a05f-4098604926bc"
   },
   "outputs": [
    {
     "name": "stdout",
     "output_type": "stream",
     "text": [
      "1 2 3 4 5 6 7 8 9 10 11 12 13 14 15 16 17 18 19 20 Looping telah di hentikan\n",
      "2 4 6 8 10 12 14 16 18 20 "
     ]
    }
   ],
   "source": [
    "# Ketikan Code Disini lalu Jalankan (Run)\n",
    "\n",
    "for i in range(1,100):\n",
    "    if i % 3 == 0 and i % 7 == 0:\n",
    "        print(\"Looping telah di hentikan\")\n",
    "        break\n",
    "    print(i, end=' ')\n",
    "    \n",
    "\"\"\" \n",
    "untuk i di range/jarak 1 hingga 100,\n",
    "    jika i modulus 3 sama dengan 0 dan i modulus 7 sama dengan 0,\n",
    "        maka menampilkan 1 hingga 20,dan looping di hentikan dengan method break\n",
    "\"\"\"\n",
    "\n",
    "for i in range(1,21):\n",
    "    if i % 2 != 0:\n",
    "        continue\n",
    "    print(i,end=' ')\n",
    "    \n",
    "\"\"\" \n",
    "untuk i di range/jarak 1 hingga 21\n",
    "    jika i modulus 2 dan tidak sama dengan 0,maka method continue akan melewati bilangan ganjil\n",
    "dan hanya menampilkan bilangan genap\n",
    "\"\"\""
   ]
  },
  {
   "cell_type": "markdown",
   "id": "2b0246ff-584f-4484-b52d-18733bcde7ae",
   "metadata": {},
   "source": [
    "\n",
    "### Percobaan 5.4: Perulangan Bersarang (Nested Loops)\n",
    "\n",
    "Buatlah program yang mencetak tabel perkalian (multiplication table) 1 sampai 5 menggunakan perulangan bersarang.\n",
    "\n",
    "#### Soal:\n",
    "1. Gunakan perulangan bersarang untuk mencetak tabel perkalian.\n",
    "2. Jelaskan bagaimana cara kerja perulangan bersarang dalam program ini.\n",
    "\n",
    "<img src=\"Screenshot (4).png\" alt=\"Deskripsi Gambar\" width=\"450\" style=\"margin-left: 30px;\" />"
   ]
  },
  {
   "cell_type": "code",
   "execution_count": 16,
   "id": "a61ed888-46f5-4412-bffe-22824dc41f1e",
   "metadata": {
    "id": "ea6a12c4-1360-4bfe-a05f-4098604926bc"
   },
   "outputs": [
    {
     "name": "stdout",
     "output_type": "stream",
     "text": [
      "1 2 3 4 5 \n",
      "2 4 6 8 10 \n",
      "3 6 9 12 15 \n",
      "4 8 12 16 20 \n",
      "5 10 15 20 25 \n"
     ]
    }
   ],
   "source": [
    "# Ketikan Code Disini lalu Jalankan (Run)\n",
    "for i in range(1,6):\n",
    "    for j in range (1,6):\n",
    "        print(i * j,end=' ')\n",
    "    print()\n",
    "    \n",
    "\"\"\" \n",
    "untuk i di range 1 hingga 6,dan\n",
    "    untuk j di range 1 hingga 6\n",
    "        dan print i * j\n",
    "        dengan cara kerja seperti P = i x [Jn]\n",
    "    jadi,baris pertama akan menampilkan 1,2,3,4,5 \n",
    "    dan baris kedua akan menampilkan 2,4,6,8,10\n",
    "dan seterusnya hingga baris ke 5\n",
    "\"\"\""
   ]
  },
  {
   "cell_type": "markdown",
   "id": "027609a3-346c-4999-a485-772128a8bb6a",
   "metadata": {},
   "source": [
    "\n",
    "### Percobaan 5.5: Perulangan dengan Input Pengguna\n",
    "\n",
    "Buatlah program yang meminta pengguna untuk memasukkan bilangan bulat `n` dan menampilkan bilangan genap dari 1 sampai `n` menggunakan perulangan `for`.\n",
    "\n",
    "#### Soal:\n",
    "1. Gunakan input dari pengguna sebagai batasan perulangan.\n",
    "2. Jelaskan bagaimana program bekerja berdasarkan input pengguna.\n",
    "\n",
    "<img src=\"Screenshot (5).png\" alt=\"Deskripsi Gambar\" width=\"450\" style=\"margin-left: 30px;\" />\n"
   ]
  },
  {
   "cell_type": "code",
   "execution_count": 19,
   "id": "ea6a12c4-1360-4bfe-a05f-4098604926bc",
   "metadata": {
    "id": "ea6a12c4-1360-4bfe-a05f-4098604926bc"
   },
   "outputs": [
    {
     "name": "stdout",
     "output_type": "stream",
     "text": [
      "2\n",
      "4\n",
      "6\n",
      "8\n",
      "10\n"
     ]
    },
    {
     "data": {
      "text/plain": [
       "' \\n\\n'"
      ]
     },
     "execution_count": 19,
     "metadata": {},
     "output_type": "execute_result"
    }
   ],
   "source": [
    "# Ketikan Code Disini lalu Jalankan (Run)\n",
    "n = int(input(\"Masukkan bilangan bulat: \"))\n",
    "\n",
    "for i in range (1, n+1):\n",
    "    if i % 2 == 0:\n",
    "        print(i)\n",
    "        \n",
    "\"\"\" \n",
    "variable n dengan input-an pada user,dengan type int\n",
    "\n",
    "untuk i di range/jarak dari 1 hingga n adalah 10 dan di tambahkan 1\n",
    "    jika i modulus/sisa bagi 2 sama dengan 0\n",
    "        dan tampilkan hasil i hingga n/menampilkan bilangan genap dari 2 hingga 10\n",
    "\"\"\""
   ]
  },
  {
   "cell_type": "markdown",
   "id": "64898842-5af6-4a9b-9b53-4d0b1c697e30",
   "metadata": {},
   "source": [
    "\n",
    "### Percobaan 5.6: Perulangan While dengan Kondisi Spesifik\n",
    "\n",
    "Buatlah program yang terus meminta input bilangan bulat dari pengguna dan hanya berhenti jika pengguna memasukkan angka yang merupakan kelipatan dari 5.\n",
    "\n",
    "#### Soal:\n",
    "1. Gunakan perulangan while untuk terus meminta input pengguna.\n",
    "2. Jelaskan bagaimana kondisi dalam while loop mengontrol kapan perulangan berhenti.\n",
    "\n",
    "<img src=\"Screenshot (6).png\" alt=\"Deskripsi Gambar\" width=\"450\" style=\"margin-left: 30px;\" />\n"
   ]
  },
  {
   "cell_type": "code",
   "execution_count": 23,
   "id": "a9c46ecf-3aef-48a8-9a3e-fce71f2da399",
   "metadata": {
    "id": "ea6a12c4-1360-4bfe-a05f-4098604926bc"
   },
   "outputs": [
    {
     "name": "stdout",
     "output_type": "stream",
     "text": [
      "Bukan kelipatan 5,coba lagi.\n",
      "Anda memasukkan kelipatan 5, program di hentikan, \n"
     ]
    }
   ],
   "source": [
    "# Ketikan Code Disini lalu Jalankan (Run)\n",
    "while True:\n",
    "    angka = int(input(\"Masukkan bilangan bulat: \"))\n",
    "    if angka % 5 == 0:\n",
    "        print(\"Anda memasukkan kelipatan 5, program di hentikan, \")\n",
    "        break\n",
    "    else:\n",
    "        print(\"Bukan kelipatan 5,coba lagi.\")\n",
    "        \n",
    "\"\"\" \n",
    "apabila true,maka \n",
    "    variable angka dengan input-an dari user,dengan type int\n",
    "        jika angka modulus/sisa bagi dari 5\n",
    "            maka looping akan di hentikan.\n",
    "        jika bukan modulus 5,maka\n",
    "            looping akan di ulangi hingga,user memasukkan angka modulus 5\n",
    "\"\"\""
   ]
  },
  {
   "cell_type": "code",
   "execution_count": null,
   "id": "b54abe5c-314e-4f9a-8af8-5f3a371bd786",
   "metadata": {},
   "outputs": [],
   "source": [
    "# Tugas Mandiri (latihan membuat alur teks program)\n",
    "## Buatlah program dengan alur yang anda bikin sesuai materi diatas\n",
    "## Dimulai dari alur teks (Algoritma Informal)\n",
    "\"\"\"\n",
    "Contoh sederhana dari sebuah algoritma informal yang menjelaskan bagaimana menentukan apakah sebuah angka adalah positif, negatif, atau nol:\n",
    "\n",
    "- Mulai - Mulai proses.\n",
    "- Baca angka - Ambil sebuah angka dari pengguna.\n",
    "- Periksa angka tersebut:\n",
    "- - Jika angka itu lebih besar dari nol, cetak \"Angka positif\".\n",
    "- - Jika angka itu kurang dari nol, cetak \"Angka negatif\".\n",
    "- - Jika angka itu sama dengan nol, cetak \"Angka adalah nol\".\n",
    "- Selesai - Proses selesai.\n",
    "\n",
    "atau\n",
    "- Mulai - Mulai proses pengecekan.\n",
    "- Tanya ke diri sendiri - Apakah saya sudah mandi hari ini?\n",
    "- Evaluasi jawaban:\n",
    "- - Jika jawabannya adalah \"tidak\", maka:\n",
    "- - - Kesimpulan: Saya mungkin bau karena tidak mandi.\n",
    "- - - Tindakan: Pertimbangkan untuk mandi agar tidak bau.\n",
    "- - Jika jawabannya adalah \"ya\", maka:\n",
    "- - - Kesimpulan: Saya tidak bau karena sudah mandi.\n",
    "Selesai - Proses selesai, lanjutkan dengan aktivitas lain.\n",
    "\n",
    "\"\"\"\n",
    "\n",
    "\"\"\" \n",
    "- Mulai - Mulai proses pengecekan\n",
    "- tanyakan ke saya - apakah saya sudah makan siang ini?\n",
    "- Evaluasi jawaban:\n",
    "- - Jika jawabannya andalah \"tidak\" maka, pertanyaan akan di tanyakan lagi hingga sudah makan:\n",
    "- - - anda harus makan siang,kalau tidak akan sakit!\n",
    "- - jika jawabannya adalah \"iya\" maka,:\n",
    "- - - anda sudah makan dan anda boleh melanjutkan aktifitas anda..\n",
    "Selesai - Proses selesai\n",
    "\"\"\""
   ]
  },
  {
   "cell_type": "code",
   "execution_count": null,
   "id": "93cdda36-f71b-4995-a92f-b5682f5246f6",
   "metadata": {},
   "outputs": [],
   "source": [
    "# Jelaskan  Kesimpulan dari Pertemuan kali ini Dengan Format Markdown, Min.3 Baris\n",
    "# Note: nilai plus buat yang masukkan gambar, visualisasi penjelasan, dan table penjelasan\n"
   ]
  },
  {
   "cell_type": "markdown",
   "id": "10c4d267",
   "metadata": {},
   "source": [
    "### **Kesimpulan saya pada pertemuan ke 5 ini adalah:**\n",
    "\n",
    "saya telah mempelajari apa itu iterasi,penggulangan,atau looping<br>\n",
    "Berikut salah satu materi yang saya pelajari pada hari ini<br><br>\n",
    "\n",
    "### **Perulangan dengan input pengguna**\n",
    "<img src=\"1.png\"><br>\n",
    "variable n dengan input-an pada user,dengan type int<br>\n",
    "\n",
    "untuk i di range/jarak dari 1 hingga n adalah 10 dan di tambahkan 1<br>\n",
    "jika i modulus/sisa bagi 2 sama dengan 0<br>\n",
    "dan tampilkan hasil i hingga n/menampilkan bilangan genap dari 2 hingga 10<br>\n",
    "| Kegunaannya                                        | Perintah                                                      |\n",
    "|-----------------------------------------------------------|---------------------------------------------------------------|\n",
    "| n adalah variable untuk finishnya                 | `n = int(input(\"Masukkan bilangan bulat: \"))` |\n",
    "| Menampilkan bilangan dari 1 hingga n yang di tentukan user,dan modulus 2 | `for i in range (1, n+1):if i % 2 == 0:print(i)` |"
   ]
  }
 ],
 "metadata": {
  "colab": {
   "provenance": []
  },
  "kernelspec": {
   "display_name": "Python 3",
   "language": "python",
   "name": "python3"
  },
  "language_info": {
   "codemirror_mode": {
    "name": "ipython",
    "version": 3
   },
   "file_extension": ".py",
   "mimetype": "text/x-python",
   "name": "python",
   "nbconvert_exporter": "python",
   "pygments_lexer": "ipython3",
   "version": "3.12.6"
  },
  "widgets": {
   "application/vnd.jupyter.widget-state+json": {
    "state": {},
    "version_major": 2,
    "version_minor": 0
   }
  }
 },
 "nbformat": 4,
 "nbformat_minor": 5
}
