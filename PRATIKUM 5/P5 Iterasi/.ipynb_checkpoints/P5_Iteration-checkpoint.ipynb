{
 "cells": [
  {
   "cell_type": "markdown",
   "id": "b3450a5a-c882-48e6-8aae-8be59018aedb",
   "metadata": {
    "id": "b3450a5a-c882-48e6-8aae-8be59018aedb"
   },
   "source": [
    "\n",
    "# Praktikum 5: Iterasi\n",
    "\n",
    "## Tujuan Pembelajaran\n",
    "- Memahami dan mengimplementasikan jenis-jenis iterasi/perulangan (for, while) dalam Python.\n",
    "- Menggunakan perulangan untuk menyelesaikan berbagai kasus pemrograman.\n",
    "\n",
    "## Pokok Bahasan\n",
    "- Perulangan for\n",
    "- Perulangan while\n",
    "- Penggunaan `break` dan `continue` dalam perulangan\n",
    "\n",
    "Berikut ini adalah beberapa percobaan dan latihan yang bertujuan untuk memahami konsep iterasi dalam Python.\n"
   ]
  },
  {
   "attachments": {},
   "cell_type": "markdown",
   "id": "e989c82b-4c5e-4eaf-9152-4a4c9a494b65",
   "metadata": {},
   "source": [
    "\n",
    "### Percobaan 5.1: Perulangan For\n",
    "\n",
    "Tabel di bawah ini menunjukkan skenario perulangan menggunakan perintah `for`. Buatlah program berdasarkan tabel ini.\n",
    "\n",
    "| Kondisi Perulangan                     | Perintah                                                   |\n",
    "|----------------------------------------|------------------------------------------------------------|\n",
    "| Menampilkan angka 1 sampai 10          | `for i in range(1, 11): print(i)`                          |\n",
    "| Menampilkan bilangan genap 0 sampai 10 | `for i in range(0, 11, 2): print(i)`                       |\n",
    "| Menampilkan setiap karakter dalam \"Python\" | `for char in \"Python\": print(char)`                       |\n",
    "\n",
    "#### Soal:\n",
    "1. Implementasikan program dari setiap skenario pada tabel di atas.\n",
    "2. Uji program dengan output yang benar.\n",
    "\n",
    "<img src=\"Screenshot (1).png\" alt=\"Deskripsi Gambar\" width=\"350\" style=\"margin-left: 30px;\" />\n"
   ]
  },
  {
   "cell_type": "code",
   "execution_count": 3,
   "id": "b4beb5da-51a9-47ff-a732-d6cf9247ae74",
   "metadata": {
    "id": "ea6a12c4-1360-4bfe-a05f-4098604926bc"
   },
   "outputs": [],
   "source": [
    "# Ketikan Code Disini lalu Jalankan (Run)\n"
   ]
  },
  {
   "cell_type": "markdown",
   "id": "28e24639-72f7-4d78-8169-b805c5bee744",
   "metadata": {},
   "source": [
    "\n",
    "### Percobaan 5.2: Perulangan While\n",
    "\n",
    "Tabel di bawah ini menunjukkan contoh penggunaan perulangan `while` dalam berbagai skenario.\n",
    "\n",
    "| Kondisi Perulangan                      | Perintah                                                      |\n",
    "|-----------------------------------------|---------------------------------------------------------------|\n",
    "| Menampilkan angka 1 sampai 5            | `i = 1 while i <= 5: print(i) i += 1`                         |\n",
    "| Menampilkan bilangan ganjil 1 sampai 19 | `i = 1 while i < 20: if i % 2 != 0: print(i) i += 1`          |\n",
    "| Berhenti ketika angka mencapai 10       | `i = 0 while True: if i == 10: break print(i) i += 1`         |\n",
    "\n",
    "#### Soal:\n",
    "1. Implementasikan program dari setiap skenario pada tabel di atas.\n",
    "2. Uji program dengan output yang benar.\n",
    "\n",
    "<img src=\"Screenshot (2).png\" alt=\"Deskripsi Gambar\" width=\"350\" style=\"margin-left: 30px;\" />"
   ]
  },
  {
   "cell_type": "code",
   "execution_count": null,
   "id": "b3f87cea-e50a-46fd-820f-bc12703db8da",
   "metadata": {
    "id": "ea6a12c4-1360-4bfe-a05f-4098604926bc"
   },
   "outputs": [],
   "source": [
    "# Ketikan Code Disini lalu Jalankan (Run)\n"
   ]
  },
  {
   "cell_type": "markdown",
   "id": "04451d75-fd5c-418f-b2b3-bfe3ca35497d",
   "metadata": {},
   "source": [
    "\n",
    "### Percobaan 5.3: Penggunaan `break` dan `continue`\n",
    "\n",
    "Tabel di bawah ini memberikan skenario bagaimana `break` dan `continue` digunakan dalam perulangan.\n",
    "\n",
    "| Kondisi Perulangan                                        | Perintah                                                      |\n",
    "|-----------------------------------------------------------|---------------------------------------------------------------|\n",
    "| Berhenti ketika angka habis dibagi 3 dan 7                 | `for i in range(1, 100): if i % 3 == 0 and i % 7 == 0: break print(i)` |\n",
    "| Menampilkan hanya bilangan genap dari 1 sampai 10 (skip ganjil) | `for i in range(1, 11): if i % 2 != 0: continue print(i)` |\n",
    "\n",
    "#### Soal:\n",
    "1. Implementasikan program berdasarkan tabel di atas.\n",
    "2. Jelaskan peran `break` dan `continue` dalam program yang Anda buat.\n",
    "\n",
    "<img src=\"Screenshot (3).png\" alt=\"Deskripsi Gambar\" width=\"350\" style=\"margin-left: 30px;\" />"
   ]
  },
  {
   "cell_type": "code",
   "execution_count": null,
   "id": "75357d06-3bb8-4b42-94cf-f4b2be24a792",
   "metadata": {
    "id": "ea6a12c4-1360-4bfe-a05f-4098604926bc"
   },
   "outputs": [],
   "source": [
    "# Ketikan Code Disini lalu Jalankan (Run)\n"
   ]
  },
  {
   "cell_type": "markdown",
   "id": "2b0246ff-584f-4484-b52d-18733bcde7ae",
   "metadata": {},
   "source": [
    "\n",
    "### Percobaan 5.4: Perulangan Bersarang (Nested Loops)\n",
    "\n",
    "Buatlah program yang mencetak tabel perkalian (multiplication table) 1 sampai 5 menggunakan perulangan bersarang.\n",
    "\n",
    "#### Soal:\n",
    "1. Gunakan perulangan bersarang untuk mencetak tabel perkalian.\n",
    "2. Jelaskan bagaimana cara kerja perulangan bersarang dalam program ini.\n",
    "\n",
    "<img src=\"Screenshot (4).png\" alt=\"Deskripsi Gambar\" width=\"450\" style=\"margin-left: 30px;\" />"
   ]
  },
  {
   "cell_type": "code",
   "execution_count": null,
   "id": "a61ed888-46f5-4412-bffe-22824dc41f1e",
   "metadata": {
    "id": "ea6a12c4-1360-4bfe-a05f-4098604926bc"
   },
   "outputs": [],
   "source": [
    "# Ketikan Code Disini lalu Jalankan (Run)\n"
   ]
  },
  {
   "cell_type": "markdown",
   "id": "027609a3-346c-4999-a485-772128a8bb6a",
   "metadata": {},
   "source": [
    "\n",
    "### Percobaan 5.5: Perulangan dengan Input Pengguna\n",
    "\n",
    "Buatlah program yang meminta pengguna untuk memasukkan bilangan bulat `n` dan menampilkan bilangan genap dari 1 sampai `n` menggunakan perulangan `for`.\n",
    "\n",
    "#### Soal:\n",
    "1. Gunakan input dari pengguna sebagai batasan perulangan.\n",
    "2. Jelaskan bagaimana program bekerja berdasarkan input pengguna.\n",
    "\n",
    "<img src=\"Screenshot (5).png\" alt=\"Deskripsi Gambar\" width=\"450\" style=\"margin-left: 30px;\" />\n"
   ]
  },
  {
   "cell_type": "code",
   "execution_count": null,
   "id": "ea6a12c4-1360-4bfe-a05f-4098604926bc",
   "metadata": {
    "id": "ea6a12c4-1360-4bfe-a05f-4098604926bc"
   },
   "outputs": [],
   "source": [
    "# Ketikan Code Disini lalu Jalankan (Run)\n"
   ]
  },
  {
   "cell_type": "markdown",
   "id": "64898842-5af6-4a9b-9b53-4d0b1c697e30",
   "metadata": {},
   "source": [
    "\n",
    "### Percobaan 5.6: Perulangan While dengan Kondisi Spesifik\n",
    "\n",
    "Buatlah program yang terus meminta input bilangan bulat dari pengguna dan hanya berhenti jika pengguna memasukkan angka yang merupakan kelipatan dari 5.\n",
    "\n",
    "#### Soal:\n",
    "1. Gunakan perulangan while untuk terus meminta input pengguna.\n",
    "2. Jelaskan bagaimana kondisi dalam while loop mengontrol kapan perulangan berhenti.\n",
    "\n",
    "<img src=\"Screenshot (6).png\" alt=\"Deskripsi Gambar\" width=\"450\" style=\"margin-left: 30px;\" />\n"
   ]
  },
  {
   "cell_type": "code",
   "execution_count": null,
   "id": "a9c46ecf-3aef-48a8-9a3e-fce71f2da399",
   "metadata": {
    "id": "ea6a12c4-1360-4bfe-a05f-4098604926bc"
   },
   "outputs": [],
   "source": [
    "# Ketikan Code Disini lalu Jalankan (Run)\n"
   ]
  },
  {
   "cell_type": "code",
   "execution_count": null,
   "id": "b54abe5c-314e-4f9a-8af8-5f3a371bd786",
   "metadata": {},
   "outputs": [],
   "source": [
    "# Tugas Mandiri (latihan membuat alur teks program)\n",
    "## Buatlah program dengan alur yang anda bikin sesuai materi diatas\n",
    "## Dimulai dari alur teks (Algoritma Informal)\n",
    "\"\"\"\n",
    "Contoh sederhana dari sebuah algoritma informal yang menjelaskan bagaimana menentukan apakah sebuah angka adalah positif, negatif, atau nol:\n",
    "\n",
    "- Mulai - Mulai proses.\n",
    "- Baca angka - Ambil sebuah angka dari pengguna.\n",
    "- Periksa angka tersebut:\n",
    "- - Jika angka itu lebih besar dari nol, cetak \"Angka positif\".\n",
    "- - Jika angka itu kurang dari nol, cetak \"Angka negatif\".\n",
    "- - Jika angka itu sama dengan nol, cetak \"Angka adalah nol\".\n",
    "- Selesai - Proses selesai.\n",
    "\n",
    "atau\n",
    "- Mulai - Mulai proses pengecekan.\n",
    "- Tanya ke diri sendiri - Apakah saya sudah mandi hari ini?\n",
    "- Evaluasi jawaban:\n",
    "- - Jika jawabannya adalah \"tidak\", maka:\n",
    "- - - Kesimpulan: Saya mungkin bau karena tidak mandi.\n",
    "- - - Tindakan: Pertimbangkan untuk mandi agar tidak bau.\n",
    "- - Jika jawabannya adalah \"ya\", maka:\n",
    "- - - Kesimpulan: Saya tidak bau karena sudah mandi.\n",
    "Selesai - Proses selesai, lanjutkan dengan aktivitas lain.\n",
    "\n",
    "\"\"\""
   ]
  },
  {
   "cell_type": "code",
   "execution_count": null,
   "id": "93cdda36-f71b-4995-a92f-b5682f5246f6",
   "metadata": {},
   "outputs": [],
   "source": [
    "# Jelaskan  Kesimpulan dari Pertemuan kali ini Dengan Format Markdown, Min.3 Baris\n",
    "# Note: nilai plus buat yang masukkan gambar, visualisasi penjelasan, dan table penjelasan\n"
   ]
  }
 ],
 "metadata": {
  "colab": {
   "provenance": []
  },
  "kernelspec": {
   "display_name": "Python 3 (ipykernel)",
   "language": "python",
   "name": "python3"
  },
  "language_info": {
   "codemirror_mode": {
    "name": "ipython",
    "version": 3
   },
   "file_extension": ".py",
   "mimetype": "text/x-python",
   "name": "python",
   "nbconvert_exporter": "python",
   "pygments_lexer": "ipython3",
   "version": "3.12.2"
  },
  "widgets": {
   "application/vnd.jupyter.widget-state+json": {
    "state": {},
    "version_major": 2,
    "version_minor": 0
   }
  }
 },
 "nbformat": 4,
 "nbformat_minor": 5
}
