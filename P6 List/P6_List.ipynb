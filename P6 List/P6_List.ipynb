{
 "cells": [
  {
   "cell_type": "markdown",
   "id": "b3450a5a-c882-48e6-8aae-8be59018aedb",
   "metadata": {
    "id": "b3450a5a-c882-48e6-8aae-8be59018aedb"
   },
   "source": [
    "# Modul Soal Pertemuan 6 - **List**\n",
    "\n",
    "**Topik:** List dalam Python\n",
    "\n",
    "**Tujuan Pembelajaran:**\n",
    "- Memahami konsep dasar List dalam Python.\n",
    "- Mampu melakukan manipulasi data dalam List menggunakan operasi dan method.\n",
    "- Menggunakan fungsi dan method yang terkait dengan List untuk berbagai aplikasi praktis.\n",
    "\n",
    "---\n",
    "\n",
    "## 1. **Pendahuluan**\n",
    "\n",
    "List adalah salah satu struktur data yang paling sering digunakan dalam Python karena fleksibilitasnya. List dapat menyimpan berbagai jenis data dan memungkinkan kita melakukan berbagai operasi seperti menambah, menghapus, dan mengubah elemen.\n",
    "\n",
    "---\n",
    "\n",
    "## 2. **Pembahasan Singkat Fungsi dan Method pada List**\n",
    "\n",
    "| **No** | **Fungsi/Method**   | **Penjelasan**                                                                                   | **Contoh Kode**                                                                                                                                  |\n",
    "|--------|---------------------|---------------------------------------------------------------------------------------------------|--------------------------------------------------------------------------------------------------------------------------------------------------|\n",
    "| 1      | `len()`              | Menghitung jumlah elemen dalam List.                                                             | ```python len([1, 2, 3])  # Output: 3```                                                                                                         |\n",
    "| 2      | `min()`              | Mengembalikan elemen dengan nilai terkecil (hanya bisa digunakan pada elemen yang bisa dibandingkan). | ```python min([4, 2, 8, 1])  # Output: 1```                                                                                                     |\n",
    "| 3      | `max()`              | Mengembalikan elemen dengan nilai terbesar.                                                      | ```python max([4, 2, 8, 1])  # Output: 8```                                                                                                     |\n",
    "| 4      | `append()`           | Menambahkan elemen baru di akhir List.                                                          | ```python buah = ['apel', 'jeruk'] buah.append('pisang')  # Output: ['apel', 'jeruk', 'pisang']```                                               |\n",
    "| 5      | `insert()`           | Menyisipkan elemen baru pada posisi tertentu dalam List.                                         | ```python buah = ['apel', 'jeruk'] buah.insert(1, 'mangga')  # Output: ['apel', 'mangga', 'jeruk']```                                           |\n",
    "| 6      | `extend()`           | Menggabungkan dua List atau koleksi data lainnya ke akhir List.                                  | ```python buah = ['apel'] sayur = ['bayam'] buah.extend(sayur)  # Output: ['apel', 'bayam']```                                                   |\n",
    "| 7      | `remove()`           | Menghapus elemen pertama yang ditemukan dengan nilai tertentu dari List.                        | ```python buah = ['apel', 'jeruk', 'mangga'] buah.remove('jeruk')  # Output: ['apel', 'mangga']```                                               |\n",
    "| 8      | `pop()`              | Menghapus elemen pada indeks tertentu (default: elemen terakhir) dan mengembalikannya.           | ```python buah = ['apel', 'jeruk', 'mangga'] buah.pop()  # Output: 'mangga'```                                                                  |\n",
    "| 9      | `clear()`            | Menghapus semua elemen dalam List.                                                              | ```python buah = ['apel', 'jeruk'] buah.clear()  # Output: []```                                                                                 |\n",
    "| 10     | `sort()`             | Mengurutkan elemen dalam List secara menaik (secara default).                                   | ```python angka = [5, 2, 9] angka.sort()  # Output: [2, 5, 9]```                                                                                 |\n",
    "| 11     | `reverse()`          | Membalik urutan elemen dalam List.                                                              | ```python angka = [1, 2, 3] angka.reverse()  # Output: [3, 2, 1]```                                                                             |\n",
    "| 12     | `copy()`             | Membuat salinan List baru dari List yang ada.                                                   | ```python buah = ['apel'] buah_copy = buah.copy()  # Output: ['apel']```                                                                         |\n",
    "| 13     | `count()`            | Menghitung jumlah kemunculan elemen tertentu dalam List.                                        | ```python buah = ['apel', 'apel', 'jeruk'] buah.count('apel')  # Output: 2```                                                                   |\n",
    "| 14     | `index()`            | Mengembalikan indeks dari elemen pertama yang ditemukan.                                         | ```python buah = ['apel', 'jeruk'] buah.index('jeruk')  # Output: 1```                                                                          |\n",
    "---\n",
    "\n",
    "## 3. **Soal dan Latihan** \n",
    "**Note:** Gunakan logika pemrograman bukan cuman ngikutin gambar. Baca betul-betul apa yang di intruksikan!!\n",
    "\n"
   ]
  },
  {
   "cell_type": "markdown",
   "id": "a248317e-96f4-4bc7-b72c-5604ae57cab5",
   "metadata": {},
   "source": [
    "### **Soal 1 - Fungsi `len()`, `min()`, dan `max()`**\n",
    "<img src=\"Screenshot (1).png\" alt=\"Deskripsi Gambar\" width=\"450\" style=\"margin-left: 30px;\" />\n",
    "\n",
    "**Instruksi:**\n",
    "1. Buat sebuah List berisi angka NIM dibagi 2 value tiap NIM nya.\n",
    "2. Tampilkan jumlah elemen dalam List, nilai terkecil, dan nilai terbesar.\n",
    "3. Jelaskan code beserta outputnya!"
   ]
  },
  {
   "cell_type": "code",
   "execution_count": null,
   "id": "b3f87cea-e50a-46fd-820f-bc12703db8da",
   "metadata": {
    "id": "ea6a12c4-1360-4bfe-a05f-4098604926bc"
   },
   "outputs": [],
   "source": [
    "# Ketikan Code Disini lalu Jalankan (Run)\n",
    "angka = [24,11,10,24,41,25,0]\n",
    "print(f\"jumlah elemen:{len(angka)}\") #jumlah list yang ada pada variable angka\n",
    "print(f\"jumlah elemen:{min(angka)}\") #menampilkan angka yang paling kecil\n",
    "print(f\"jumlah elemen:{max(angka)}\") #menampilkan angka yang paling tinggi pada variablenya"
   ]
  },
  {
   "cell_type": "markdown",
   "id": "2b0246ff-584f-4484-b52d-18733bcde7ae",
   "metadata": {},
   "source": [
    "### **Soal 2 - Method `append()`, `insert()`, dan `extend()`**\n",
    "<img src=\"Screenshot (2).png\" alt=\"Deskripsi Gambar\" width=\"450\" style=\"margin-left: 30px;\" />\n",
    "\n",
    "**Instruksi:**\n",
    "1. Buatlah List berisi nama-nama kota.\n",
    "2. Tambahkan satu kota baru menggunakan `append()`.\n",
    "3. Sisipkan kota baru di posisi kedua menggunakan `insert()`.\n",
    "4. Gabungkan List kota dengan List negara menggunakan `extend()`.\n",
    "5. Jelaskan code beserta outputnya!"
   ]
  },
  {
   "cell_type": "code",
   "execution_count": null,
   "id": "a61ed888-46f5-4412-bffe-22824dc41f1e",
   "metadata": {
    "id": "ea6a12c4-1360-4bfe-a05f-4098604926bc"
   },
   "outputs": [],
   "source": [
    "# Ketikan Code Disini lalu Jalankan (Run)\n",
    "kota = [\"samarinda\",\"bali\",\"bontang\"]\n",
    "\n",
    "kota.append(\"lempake\") #menambahkan value di akhir list\n",
    "print(f\"Hasil dari Penggunaan append :{kota}\")#menampilkan hasil dari append\n",
    "\n",
    "kota.insert(1,\"bandung\") #menambahkan value \"bandung\" ke index [1]\n",
    "print(f\"Hasil dari Penggunaan insert :{kota}\")#menampilkan hasil dari insert\n",
    "\n",
    "negara = [\"China\",\"Canada\",\"Japan\"]\n",
    "kota.extend(negara) #menggabungkan list kota dan list negara\n",
    "print(f\"Hasil dari Penggunaan extend :{kota}\")#menampilkan hasil dari extend"
   ]
  },
  {
   "cell_type": "markdown",
   "id": "027609a3-346c-4999-a485-772128a8bb6a",
   "metadata": {},
   "source": [
    "### **Soal 3 - Method `pop()`, `remove()`, dan `clear()`**\n",
    "<img src=\"Screenshot (3).png\" alt=\"Deskripsi Gambar\" width=\"450\" style=\"margin-left: 30px;\" />\n",
    "\n",
    "**Instruksi:**\n",
    "1. Buat sebuah List berisi nama buah.\n",
    "2. Hapus elemen terakhir dari List menggunakan `pop()`.\n",
    "3. Hapus buah tertentu dari List menggunakan `remove()`.\n",
    "4. Kosongkan seluruh List menggunakan `clear()`.\n",
    "5. Jelaskan code beserta outputnya!"
   ]
  },
  {
   "cell_type": "code",
   "execution_count": null,
   "id": "64ab0c5d-e597-4c67-94f2-4d239e9009b5",
   "metadata": {},
   "outputs": [],
   "source": [
    "# Ketikan Code Disini lalu Jalankan (Run)\n",
    "buah = [\"kurma\",\"jeruk\",\"mangga\",\"anggur\"]\n",
    "\n",
    "\n",
    "buah.pop() #menghapus value list yang akhir\n",
    "print(f\"Hasil dari Penggunaan pop :{buah}\")#menampilkan hasil dari pop\n",
    "\n",
    "buah.remove(\"jeruk\") #menghapus salah satu value yang ada di list \n",
    "print(f\"Hasil dari Penggunaan remove :{buah}\")#menampilkan hasil dari remove\n",
    "\n",
    "buah.clear() #menghapus semua list yang ada\n",
    "print(f\"Hasil dari Penggunaan clear :{buah}\")#menampilkan hasil dari clear"
   ]
  },
  {
   "cell_type": "markdown",
   "id": "c787923f-618e-435c-9f45-280b9ce74bef",
   "metadata": {},
   "source": [
    "### **Soal 4 - Method `sort()` dan `reverse()`**\n",
    "<img src=\"Screenshot (4).png\" alt=\"Deskripsi Gambar\" width=\"300\" style=\"margin-left: 30px;\" />\n",
    "\n",
    "**Instruksi:**\n",
    "1. Buatlah sebuah List berisi beberapa angka.\n",
    "2. Urutkan List tersebut dalam urutan menaik menggunakan `sort()`.\n",
    "3. Balik urutan List menggunakan `reverse()`.\n",
    "4. Jelaskan code beserta outputnya!\n"
   ]
  },
  {
   "cell_type": "code",
   "execution_count": null,
   "id": "ea6a12c4-1360-4bfe-a05f-4098604926bc",
   "metadata": {
    "id": "ea6a12c4-1360-4bfe-a05f-4098604926bc"
   },
   "outputs": [],
   "source": [
    "# Ketikan Code Disini lalu Jalankan (Run)\n",
    "angka = [7,6,3,4,5,2,1]\n",
    "\n",
    "angka.sort() #menyusun variable angka dari angka terkecil hingga ke besar\n",
    "print(f\"Hasil dari Penggunaan sort :{angka}\")#menampilkan hasil dari sort\n",
    "\n",
    "angka.reverse() #menyusun variable angka dari angka ke besar hingga ke kecil\n",
    "print(f\"Hasil dari Penggunaan reverse :{angka}\")#menampilkan hasil dari reverse"
   ]
  },
  {
   "cell_type": "markdown",
   "id": "ca4c6caa-fb54-453a-bef8-99634775a4f1",
   "metadata": {},
   "source": [
    "### **Soal 5 - Menerapkan Semua Fungsi dan Method**\n",
    "<img src=\"Screenshot (5).png\" alt=\"Deskripsi Gambar\" width=\"450\" style=\"margin-left: 30px;\" />\n",
    "\n",
    "**Instruksi:**\n",
    "1. Buatlah program yang meminta pengguna memasukkan 5 nilai numerik.\n",
    "2. Simpan nilai-nilai tersebut ke dalam List.\n",
    "3. Gunakan:\n",
    "   - `len()` untuk menghitung jumlah elemen.\n",
    "   - `min()` dan `max()` untuk mencari nilai terkecil dan terbesar.\n",
    "   - `append()` untuk menambahkan nilai baru yang diminta dari pengguna.\n",
    "   - `pop()` untuk menghapus elemen terakhir.\n",
    "   - `sort()` untuk mengurutkan nilai-nilai dalam List.\n",
    "4. Tampilkan hasil setelah setiap operasi dan jelaskan code beserta outputnya!.\n",
    "\n"
   ]
  },
  {
   "cell_type": "code",
   "execution_count": null,
   "id": "f2fd563a-d434-422c-a920-aab426953dbf",
   "metadata": {
    "id": "ea6a12c4-1360-4bfe-a05f-4098604926bc"
   },
   "outputs": [],
   "source": [
    "# Ketikan Code Disini lalu Jalankan (Run)\n",
    "nilai = []\n",
    "\n",
    "for i in range(5):\n",
    "    angka = int(input(f\"masukkan nilai ke-{i+1}: \")) #memasukkan nilai hingga 5 kali\n",
    "    nilai.append(angka) #menambahkan value \"angka\" kedalam value dari \"nilai\" \n",
    "\n",
    "print(f\"jumlah elemen: {len(nilai)}\") #menampilkan jumlah dari nilai\n",
    "print(f\"jumlah terkecil: {min(nilai)}\") #menampilkan nilai terkecil dari nilai\n",
    "print(f\"jumlah terbesar: {max(nilai)}\") #menampilkan nilai terbesar dari nilai\n",
    "\n",
    "nilaBaru = int(input(f\"nilai tambahan :\")) #menambahkan nilai tambahan\n",
    "nilai.append(nilaBaru) #menambahkan value \"nilaiBaru\" kedalam value dari \"nilai\"\n",
    "print(f\"setelah nilai ditambahkan: {nilai}\") #menampilkan hasil dari setelah nilai di tambahkan dengan nilaiBaru\n",
    "\n",
    "nilai.pop() #menghapus nilai akhir \n",
    "print(f'setelah value terakhir di hapus :{nilai}') #menampilkan hasil setelah var nilai di hapus di bagian akhirnya\n",
    "\n",
    "nilai.sort() #mengurutkan var nilai dari terkecil hingga ke besar\n",
    "print(f\"setelah diurutkan: {nilai}\") #menampilkan hasil dari sort"
   ]
  },
  {
   "cell_type": "markdown",
   "id": "7b1c0c84-10dc-472e-9ec1-2c43f1ffaeb7",
   "metadata": {},
   "source": [
    "<span style=\"color:red; font-size: 20px;\">\n",
    "<b>Tugas Mandiri </b>\n",
    "</span>\n",
    "\n",
    "1. Buatlah program untuk mengelola daftar belanja menggunakan List, di mana pengguna bisa menambahkan, menghapus, dan melihat item dalam daftar belanja tersebut.\n",
    "2. Implementasikan semua fungsi dan method yang telah dipelajari pada skenario yang lebih relevan dengan aplikasi dunia nyata.\n"
   ]
  },
  {
   "cell_type": "code",
   "execution_count": null,
   "id": "e9d65228-9b6d-4496-8074-529cdf7e909f",
   "metadata": {
    "id": "ea6a12c4-1360-4bfe-a05f-4098604926bc"
   },
   "outputs": [],
   "source": [
    "belanjaan = []\n",
    "\n",
    "while True:\n",
    "    print(\"\\n~~~~~~~~~~~~~pilih belanjaan anda~~~~~~~~~~~~~\")\n",
    "    print(\"1.Kangkung\")\n",
    "    print(\"2.Sabun\")\n",
    "    print(\"3.Baju\")\n",
    "    print(\"4.Biskuit\")\n",
    "    print(\"5.Tampilkan hasil belanjaan\")\n",
    "    print(\"6.Keluar\")\n",
    "    print(\"~~~~~~~~~~~~~~~~~~~~~~~~~~~~~~~~~~~~~~~~~~~~~~~~\")\n",
    "    \n",
    "    pilihan = input(\"pilih pilihan anda 1-5 :\")\n",
    "    \n",
    "    if pilihan == \"1\":\n",
    "        pilihan = \"Kangkung\"\n",
    "        belanjaan.append(pilihan)\n",
    "        print(f\"pilihan {pilihan} anda telah di tambahkan\")\n",
    "        \n",
    "    elif pilihan == \"2\":\n",
    "        pilihan = \"Sabun\"\n",
    "        belanjaan.append(pilihan)\n",
    "        print(f\"pilihan {pilihan} anda telah di tambahkan\")\n",
    "        \n",
    "    elif pilihan == \"3\":\n",
    "        pilihan = \"Baju\"\n",
    "        belanjaan.append(pilihan)\n",
    "        print(f\"pilihan {pilihan} anda telah di tambahkan\")\n",
    "    \n",
    "    elif pilihan == \"4\":\n",
    "        pilihan = \"Biskuit\"\n",
    "        belanjaan.append(pilihan)\n",
    "        print(f\"pilihan {pilihan} anda telah di tambahkan\")\n",
    "        \n",
    "    elif pilihan == \"5\":\n",
    "        print(\"\\n ~~~berikut adalah pilihan anda~~~\")\n",
    "        for i, pilihan in enumerate(belanjaan, 1):\n",
    "                print(f\"{i}. {pilihan}\")\n",
    "    elif pilihan == \"6\":\n",
    "        print(\"Program telah di hentikan\")\n",
    "        break\n",
    "    else:\n",
    "        print(\"pilihan hanya 1-5\")"
   ]
  },
  {
   "cell_type": "code",
   "execution_count": null,
   "id": "93cdda36-f71b-4995-a92f-b5682f5246f6",
   "metadata": {},
   "outputs": [],
   "source": [
    "# Jelaskan  Kesimpulan dari Pertemuan kali ini Dengan Format Markdown, Min.3 Baris\n",
    "# Note: nilai plus buat yang masukkan gambar, visualisasi penjelasan, dan table penjelasan\n"
   ]
  },
  {
   "cell_type": "markdown",
   "id": "ac5dfffc",
   "metadata": {},
   "source": [
    "### Kesimpulan pada pertemuan kali ini:\n",
    "<br>\n",
    "saya mempelajari tentang List dan method\n",
    "<br>\n",
    "\n",
    "### apa itu List?\n",
    "List adalah tipe data yang digunakan untuk menyimpan kumpulan item dalam satu variabel.\n",
    "\n",
    "### apa itu Method?\n",
    "Method adalah fungsi yang terkait dengan suatu objek.\n",
    "\n",
    "## Berikut salah satu contohnya:\n",
    "\n",
    "<img src=\"1.png\">\n",
    "<br>\n",
    "- pada list \"angka\" memiliki value lebih dari 1<br>\n",
    "- - method len( ) untuk menghitung jumlah dari list \"angka\"<br>\n",
    "- - method min( ) untuk mencari nilai yang terkecil<br>\n",
    "- - method max( ) untuk mencari nilai yang terbesar\n"
   ]
  }
 ],
 "metadata": {
  "colab": {
   "provenance": []
  },
  "kernelspec": {
   "display_name": "Python 3",
   "language": "python",
   "name": "python3"
  },
  "language_info": {
   "codemirror_mode": {
    "name": "ipython",
    "version": 3
   },
   "file_extension": ".py",
   "mimetype": "text/x-python",
   "name": "python",
   "nbconvert_exporter": "python",
   "pygments_lexer": "ipython3",
   "version": "3.12.6"
  },
  "widgets": {
   "application/vnd.jupyter.widget-state+json": {
    "state": {},
    "version_major": 2,
    "version_minor": 0
   }
  }
 },
 "nbformat": 4,
 "nbformat_minor": 5
}
