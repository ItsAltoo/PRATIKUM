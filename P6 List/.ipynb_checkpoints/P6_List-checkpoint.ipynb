{
 "cells": [
  {
   "cell_type": "markdown",
   "id": "b3450a5a-c882-48e6-8aae-8be59018aedb",
   "metadata": {
    "id": "b3450a5a-c882-48e6-8aae-8be59018aedb"
   },
   "source": [
    "# Modul Soal Pertemuan 6 - **List**\n",
    "\n",
    "**Topik:** List dalam Python\n",
    "\n",
    "**Tujuan Pembelajaran:**\n",
    "- Memahami konsep dasar List dalam Python.\n",
    "- Mampu melakukan manipulasi data dalam List menggunakan operasi dan method.\n",
    "- Menggunakan fungsi dan method yang terkait dengan List untuk berbagai aplikasi praktis.\n",
    "\n",
    "---\n",
    "\n",
    "## 1. **Pendahuluan**\n",
    "\n",
    "List adalah salah satu struktur data yang paling sering digunakan dalam Python karena fleksibilitasnya. List dapat menyimpan berbagai jenis data dan memungkinkan kita melakukan berbagai operasi seperti menambah, menghapus, dan mengubah elemen.\n",
    "\n",
    "---\n",
    "\n",
    "## 2. **Pembahasan Singkat Fungsi dan Method pada List**\n",
    "\n",
    "| **No** | **Fungsi/Method**   | **Penjelasan**                                                                                   | **Contoh Kode**                                                                                                                                  |\n",
    "|--------|---------------------|---------------------------------------------------------------------------------------------------|--------------------------------------------------------------------------------------------------------------------------------------------------|\n",
    "| 1      | `len()`              | Menghitung jumlah elemen dalam List.                                                             | ```python len([1, 2, 3])  # Output: 3```                                                                                                         |\n",
    "| 2      | `min()`              | Mengembalikan elemen dengan nilai terkecil (hanya bisa digunakan pada elemen yang bisa dibandingkan). | ```python min([4, 2, 8, 1])  # Output: 1```                                                                                                     |\n",
    "| 3      | `max()`              | Mengembalikan elemen dengan nilai terbesar.                                                      | ```python max([4, 2, 8, 1])  # Output: 8```                                                                                                     |\n",
    "| 4      | `append()`           | Menambahkan elemen baru di akhir List.                                                          | ```python buah = ['apel', 'jeruk'] buah.append('pisang')  # Output: ['apel', 'jeruk', 'pisang']```                                               |\n",
    "| 5      | `insert()`           | Menyisipkan elemen baru pada posisi tertentu dalam List.                                         | ```python buah = ['apel', 'jeruk'] buah.insert(1, 'mangga')  # Output: ['apel', 'mangga', 'jeruk']```                                           |\n",
    "| 6      | `extend()`           | Menggabungkan dua List atau koleksi data lainnya ke akhir List.                                  | ```python buah = ['apel'] sayur = ['bayam'] buah.extend(sayur)  # Output: ['apel', 'bayam']```                                                   |\n",
    "| 7      | `remove()`           | Menghapus elemen pertama yang ditemukan dengan nilai tertentu dari List.                        | ```python buah = ['apel', 'jeruk', 'mangga'] buah.remove('jeruk')  # Output: ['apel', 'mangga']```                                               |\n",
    "| 8      | `pop()`              | Menghapus elemen pada indeks tertentu (default: elemen terakhir) dan mengembalikannya.           | ```python buah = ['apel', 'jeruk', 'mangga'] buah.pop()  # Output: 'mangga'```                                                                  |\n",
    "| 9      | `clear()`            | Menghapus semua elemen dalam List.                                                              | ```python buah = ['apel', 'jeruk'] buah.clear()  # Output: []```                                                                                 |\n",
    "| 10     | `sort()`             | Mengurutkan elemen dalam List secara menaik (secara default).                                   | ```python angka = [5, 2, 9] angka.sort()  # Output: [2, 5, 9]```                                                                                 |\n",
    "| 11     | `reverse()`          | Membalik urutan elemen dalam List.                                                              | ```python angka = [1, 2, 3] angka.reverse()  # Output: [3, 2, 1]```                                                                             |\n",
    "| 12     | `copy()`             | Membuat salinan List baru dari List yang ada.                                                   | ```python buah = ['apel'] buah_copy = buah.copy()  # Output: ['apel']```                                                                         |\n",
    "| 13     | `count()`            | Menghitung jumlah kemunculan elemen tertentu dalam List.                                        | ```python buah = ['apel', 'apel', 'jeruk'] buah.count('apel')  # Output: 2```                                                                   |\n",
    "| 14     | `index()`            | Mengembalikan indeks dari elemen pertama yang ditemukan.                                         | ```python buah = ['apel', 'jeruk'] buah.index('jeruk')  # Output: 1```                                                                          |\n",
    "---\n",
    "\n",
    "## 3. **Soal dan Latihan** \n",
    "**Note:** Gunakan logika pemrograman bukan cuman ngikutin gambar. Baca betul-betul apa yang di intruksikan!!\n",
    "\n"
   ]
  },
  {
   "cell_type": "markdown",
   "id": "a248317e-96f4-4bc7-b72c-5604ae57cab5",
   "metadata": {},
   "source": [
    "### **Soal 1 - Fungsi `len()`, `min()`, dan `max()`**\n",
    "<img src=\"Screenshot (1).png\" alt=\"Deskripsi Gambar\" width=\"450\" style=\"margin-left: 30px;\" />\n",
    "\n",
    "**Instruksi:**\n",
    "1. Buat sebuah List berisi angka NIM dibagi 2 value tiap NIM nya.\n",
    "2. Tampilkan jumlah elemen dalam List, nilai terkecil, dan nilai terbesar.\n",
    "3. Jelaskan code beserta outputnya!"
   ]
  },
  {
   "cell_type": "code",
   "execution_count": null,
   "id": "b3f87cea-e50a-46fd-820f-bc12703db8da",
   "metadata": {
    "id": "ea6a12c4-1360-4bfe-a05f-4098604926bc"
   },
   "outputs": [],
   "source": [
    "# Ketikan Code Disini lalu Jalankan (Run)\n"
   ]
  },
  {
   "cell_type": "markdown",
   "id": "2b0246ff-584f-4484-b52d-18733bcde7ae",
   "metadata": {},
   "source": [
    "### **Soal 2 - Method `append()`, `insert()`, dan `extend()`**\n",
    "<img src=\"Screenshot (2).png\" alt=\"Deskripsi Gambar\" width=\"450\" style=\"margin-left: 30px;\" />\n",
    "\n",
    "**Instruksi:**\n",
    "1. Buatlah List berisi nama-nama kota.\n",
    "2. Tambahkan satu kota baru menggunakan `append()`.\n",
    "3. Sisipkan kota baru di posisi kedua menggunakan `insert()`.\n",
    "4. Gabungkan List kota dengan List negara menggunakan `extend()`.\n",
    "5. Jelaskan code beserta outputnya!"
   ]
  },
  {
   "cell_type": "code",
   "execution_count": null,
   "id": "a61ed888-46f5-4412-bffe-22824dc41f1e",
   "metadata": {
    "id": "ea6a12c4-1360-4bfe-a05f-4098604926bc"
   },
   "outputs": [],
   "source": [
    "# Ketikan Code Disini lalu Jalankan (Run)\n"
   ]
  },
  {
   "cell_type": "markdown",
   "id": "027609a3-346c-4999-a485-772128a8bb6a",
   "metadata": {},
   "source": [
    "### **Soal 3 - Method `pop()`, `remove()`, dan `clear()`**\n",
    "<img src=\"Screenshot (3).png\" alt=\"Deskripsi Gambar\" width=\"450\" style=\"margin-left: 30px;\" />\n",
    "\n",
    "**Instruksi:**\n",
    "1. Buat sebuah List berisi nama buah.\n",
    "2. Hapus elemen terakhir dari List menggunakan `pop()`.\n",
    "3. Hapus buah tertentu dari List menggunakan `remove()`.\n",
    "4. Kosongkan seluruh List menggunakan `clear()`.\n",
    "5. Jelaskan code beserta outputnya!"
   ]
  },
  {
   "cell_type": "code",
   "execution_count": null,
   "id": "64ab0c5d-e597-4c67-94f2-4d239e9009b5",
   "metadata": {},
   "outputs": [],
   "source": [
    "# Ketikan Code Disini lalu Jalankan (Run)\n"
   ]
  },
  {
   "cell_type": "markdown",
   "id": "c787923f-618e-435c-9f45-280b9ce74bef",
   "metadata": {},
   "source": [
    "### **Soal 4 - Method `sort()` dan `reverse()`**\n",
    "<img src=\"Screenshot (4).png\" alt=\"Deskripsi Gambar\" width=\"300\" style=\"margin-left: 30px;\" />\n",
    "\n",
    "**Instruksi:**\n",
    "1. Buatlah sebuah List berisi beberapa angka.\n",
    "2. Urutkan List tersebut dalam urutan menaik menggunakan `sort()`.\n",
    "3. Balik urutan List menggunakan `reverse()`.\n",
    "4. Jelaskan code beserta outputnya!\n"
   ]
  },
  {
   "cell_type": "code",
   "execution_count": null,
   "id": "ea6a12c4-1360-4bfe-a05f-4098604926bc",
   "metadata": {
    "id": "ea6a12c4-1360-4bfe-a05f-4098604926bc"
   },
   "outputs": [],
   "source": [
    "# Ketikan Code Disini lalu Jalankan (Run)\n"
   ]
  },
  {
   "cell_type": "markdown",
   "id": "ca4c6caa-fb54-453a-bef8-99634775a4f1",
   "metadata": {},
   "source": [
    "### **Soal 5 - Menerapkan Semua Fungsi dan Method**\n",
    "<img src=\"Screenshot (5).png\" alt=\"Deskripsi Gambar\" width=\"450\" style=\"margin-left: 30px;\" />\n",
    "\n",
    "**Instruksi:**\n",
    "1. Buatlah program yang meminta pengguna memasukkan 5 nilai numerik.\n",
    "2. Simpan nilai-nilai tersebut ke dalam List.\n",
    "3. Gunakan:\n",
    "   - `len()` untuk menghitung jumlah elemen.\n",
    "   - `min()` dan `max()` untuk mencari nilai terkecil dan terbesar.\n",
    "   - `append()` untuk menambahkan nilai baru yang diminta dari pengguna.\n",
    "   - `pop()` untuk menghapus elemen terakhir.\n",
    "   - `sort()` untuk mengurutkan nilai-nilai dalam List.\n",
    "4. Tampilkan hasil setelah setiap operasi dan jelaskan code beserta outputnya!.\n",
    "\n"
   ]
  },
  {
   "cell_type": "code",
   "execution_count": null,
   "id": "f2fd563a-d434-422c-a920-aab426953dbf",
   "metadata": {
    "id": "ea6a12c4-1360-4bfe-a05f-4098604926bc"
   },
   "outputs": [],
   "source": [
    "# Ketikan Code Disini lalu Jalankan (Run)\n"
   ]
  },
  {
   "cell_type": "markdown",
   "id": "7b1c0c84-10dc-472e-9ec1-2c43f1ffaeb7",
   "metadata": {},
   "source": [
    "<span style=\"color:red; font-size: 20px;\">\n",
    "<b>Tugas Mandiri </b>\n",
    "</span>\n",
    "\n",
    "1. Buatlah program untuk mengelola daftar belanja menggunakan List, di mana pengguna bisa menambahkan, menghapus, dan melihat item dalam daftar belanja tersebut.\n",
    "2. Implementasikan semua fungsi dan method yang telah dipelajari pada skenario yang lebih relevan dengan aplikasi dunia nyata.\n"
   ]
  },
  {
   "cell_type": "code",
   "execution_count": null,
   "id": "e9d65228-9b6d-4496-8074-529cdf7e909f",
   "metadata": {
    "id": "ea6a12c4-1360-4bfe-a05f-4098604926bc"
   },
   "outputs": [],
   "source": [
    "# Ketikan Code Disini lalu Jalankan (Run)\n"
   ]
  },
  {
   "cell_type": "code",
   "execution_count": null,
   "id": "93cdda36-f71b-4995-a92f-b5682f5246f6",
   "metadata": {},
   "outputs": [],
   "source": [
    "# Jelaskan  Kesimpulan dari Pertemuan kali ini Dengan Format Markdown, Min.3 Baris\n",
    "# Note: nilai plus buat yang masukkan gambar, visualisasi penjelasan, dan table penjelasan\n"
   ]
  }
 ],
 "metadata": {
  "colab": {
   "provenance": []
  },
  "kernelspec": {
   "display_name": "Python 3 (ipykernel)",
   "language": "python",
   "name": "python3"
  },
  "language_info": {
   "codemirror_mode": {
    "name": "ipython",
    "version": 3
   },
   "file_extension": ".py",
   "mimetype": "text/x-python",
   "name": "python",
   "nbconvert_exporter": "python",
   "pygments_lexer": "ipython3",
   "version": "3.12.2"
  },
  "widgets": {
   "application/vnd.jupyter.widget-state+json": {
    "state": {},
    "version_major": 2,
    "version_minor": 0
   }
  }
 },
 "nbformat": 4,
 "nbformat_minor": 5
}
