{
 "cells": [
  {
   "cell_type": "markdown",
   "id": "b3450a5a-c882-48e6-8aae-8be59018aedb",
   "metadata": {
    "id": "b3450a5a-c882-48e6-8aae-8be59018aedb"
   },
   "source": [
    "# **Modul Pertemuan 10: Modularisasi**\n",
    "\n",
    "## **Pembahasan**\n",
    "\n",
    "### **1. Modularisasi**\n",
    "\n",
    "Dalam Python, modularisasi adalah proses pengelompokan kode ke dalam beberapa bagian yang logis sehingga lebih mudah dimengerti, digunakan kembali, dan dikelola. Setiap bagian dari program yang modular biasanya ditempatkan dalam satu file Python, yang disebut modul. Modul ini bisa berisi definisi fungsi, kelas, atau variabel.\n",
    "\n",
    "#### **Manfaat Modularisasi:**\n",
    "1. **Pemeliharaan Kode:** Kode yang modular lebih mudah dipelihara dan dikembangkan.\n",
    "2. **Reusabilitas:** Modul yang dibuat dapat digunakan kembali di program lain tanpa harus menulis ulang kode.\n",
    "3. **Organisasi yang Lebih Baik:** Program yang besar dapat dipecah menjadi modul-modul yang lebih kecil dan terpisah, sehingga lebih terstruktur.\n",
    "\n",
    "#### **Cara Menggunakan Modul:**\n",
    "Untuk menggunakan modul dalam program Python, kita bisa menggunakan perintah `import`. Contoh:\n",
    "\n",
    "```python\n",
    "import contoh\n",
    "```\n",
    "\n",
    "Dengan `import`, kita bisa mengakses fungsi, variabel, atau kelas yang ada di dalam modul tersebut. Jika nama modul terlalu panjang, kita bisa menggunakan alias:\n",
    "\n",
    "```python\n",
    "import contoh as c\n",
    "```\n",
    "\n",
    "Kita juga bisa mengimpor hanya sebagian fungsi atau variabel dari modul:\n",
    "\n",
    "```python\n",
    "from contoh import pi, pangkat\n",
    "```\n",
    "\n",
    "---\n",
    "\n",
    "## **Tugas**\n",
    "\n",
    "**Note:** Gunakan logika pemrograman bukan cuman ngikutin gambar. Baca betul-betul apa yang di intruksikan!!"
   ]
  },
  {
   "attachments": {},
   "cell_type": "markdown",
   "id": "e989c82b-4c5e-4eaf-9152-4a4c9a494b65",
   "metadata": {},
   "source": [
    " ### **Soal 1: Membuat Modul dan Menggunakan Modul**\n",
    "\n",
    "#### **Instruksi:**\n",
    "1. Buatlah sebuah modul yang bernama `tabung.py` yang berisi fungsi untuk menghitung volume tabung. Rumus volume tabung: \n",
    "   \\begin{equation} A = 2\\pi r(h + r) \\end{equation} \n",
    "   Di mana \\( r \\) adalah jari-jari dan \\( t \\) adalah tinggi tabung. Fungsi tersebut menerima dua parameter: jari-jari dan tinggi, dan mengembalikan hasil perhitungan volume.\n",
    "   \n",
    "   Berikut adalah contoh format yang benar:\n",
    "\n",
    "   <img src=\"Screenshot (1).png\" alt=\"Deskripsi Gambar\" width=\"250\" style=\"margin-left: 30px;\" />\n",
    "\n",
    "3. Buatlah program utama yang mengimpor modul `tabung` dan menggunakan fungsi `volume_tabung` untuk menghitung volume tabung dengan jari-jari 7 dan tinggi 10. Berikut format penggunaan yang benar:\n",
    "\n",
    "   <img src=\"Screenshot (2).png\" alt=\"Deskripsi Gambar\" width=\"250\" style=\"margin-left: 30px;\" />\n",
    "\n",
    "4. Jelaskan secara terperinci bagaimana caranya dia bisa mengambil nilai dari file `tabung.py` tersebut\n",
    "\n",
    "---\n"
   ]
  },
  {
   "cell_type": "code",
   "execution_count": null,
   "id": "b4beb5da-51a9-47ff-a732-d6cf9247ae74",
   "metadata": {
    "id": "ea6a12c4-1360-4bfe-a05f-4098604926bc"
   },
   "outputs": [
    {
     "name": "stdout",
     "output_type": "stream",
     "text": [
      "volume tabung : 1538.6000000000001\n",
      "hasil volume tabung : 1,538.60\n"
     ]
    }
   ],
   "source": [
    "# Ketikan Code Disini lalu Jalankan (Run)\n",
    "import tabung #import/mengambil source code yang ada di tabung.py\n",
    "\n",
    "r = 7\n",
    "t = 10\n",
    "\n",
    "volume = tabung.volumeTabung(r,t) #jika ingin mengambil function yang ada di tabung kalian perlu \" . \" untuk bsa mengambil functionnya dengan param r = 7 dan t = 10\n",
    "print(\"volume tabung :\",volume) #dan memanggil variable volume yang berisi function yg ada di tabung\n",
    "\n",
    "print(f\"hasil volume tabung : {tabung.volumeTabung(7,10):,.2f}\") #ini hasilnya jika ingin dibuat lebih mudah di baca"
   ]
  },
  {
   "cell_type": "markdown",
   "id": "28e24639-72f7-4d78-8169-b805c5bee744",
   "metadata": {},
   "source": [
    "\n",
    "### **Soal 2: Informasi Modul**\n",
    "\n",
    "#### **Instruksi:**\n",
    "1. Buatlah program Python yang mengimpor modul `tabung` dari soal 1, kemudian gunakan fungsi `dir()` untuk menampilkan semua fungsi dan variabel yang ada di dalam modul tersebut.\n",
    "\n",
    "   Berikut adalah contoh kode yang benar:\n",
    "\n",
    "   <img src=\"Screenshot (3).png\" alt=\"Deskripsi Gambar\" width=\"250\" style=\"margin-left: 30px;\" />\n",
    "\n",
    "2. Jelaskan kode dan hasil output programnya serta apa itu fungsi ```dir()``` dan buat apa!\n",
    "\n",
    "---\n",
    "\n"
   ]
  },
  {
   "cell_type": "code",
   "execution_count": null,
   "id": "b3f87cea-e50a-46fd-820f-bc12703db8da",
   "metadata": {
    "id": "ea6a12c4-1360-4bfe-a05f-4098604926bc"
   },
   "outputs": [
    {
     "name": "stdout",
     "output_type": "stream",
     "text": [
      "\n",
      "['__builtins__', '__cached__', '__doc__', '__file__', '__loader__', '__name__', '__package__', '__spec__', 'volumeTabung']\n"
     ]
    }
   ],
   "source": [
    "# Ketikan Code Disini lalu Jalankan (Run)\n",
    "import tabung\n",
    "\n",
    "print(f\"{dir(tabung)}\") #menampilkan hasil info yang ada di dalam tabung.py"
   ]
  },
  {
   "cell_type": "markdown",
   "id": "04451d75-fd5c-418f-b2b3-bfe3ca35497d",
   "metadata": {},
   "source": [
    "### **Soal 3: Membuat Modul Aritmatika Lengkap**\n",
    "\n",
    "#### **Instruksi:**\n",
    "1. Buatlah sebuah modul bernama `aritmatika.py` yang berisi beberapa fungsi aritmatika:\n",
    "   - `tambah(a, b)` : Fungsi untuk menjumlahkan dua angka.\n",
    "   - `kurang(a, b)` : Fungsi untuk mengurangi dua angka.\n",
    "   - `kali(a, b)` : Fungsi untuk mengalikan dua angka.\n",
    "   - `bagi(a, b)` : Fungsi untuk membagi dua angka.\n",
    "\n",
    "2. Buatlah program Python yang mengimpor modul `aritmatika` dan menggunakan semua fungsi di dalamnya untuk mengoperasikan dua angka. Misalnya, gunakan angka 10 dan 5.\n",
    "   - Perbaiki code serta jelaskan apa yang salah dari code tersebut perbarisnya \n",
    "   Berikut contoh penggunaannya:\n",
    "\n",
    "   <img src=\"Screenshot (4).png\" alt=\"Deskripsi Gambar\" width=\"250\" style=\"margin-left: 30px;\" />\n",
    "\n",
    "---"
   ]
  },
  {
   "cell_type": "code",
   "execution_count": 3,
   "id": "75357d06-3bb8-4b42-94cf-f4b2be24a792",
   "metadata": {
    "id": "ea6a12c4-1360-4bfe-a05f-4098604926bc"
   },
   "outputs": [
    {
     "name": "stdout",
     "output_type": "stream",
     "text": [
      " \n",
      "tambah : 15 => menampilkan fungsi tambah dengan nilai a = 10 dan b =5 dengan hasil = 15\n",
      "kurang : 5 => menampilkan fungsi kurang dengan nilai a = 10 dan b =5 dengan hasil = 5\n",
      "kali : 50 => menampilkan fungsi kali dengan nilai a = 10 dan b =5 dengan hasil = 50\n",
      "bagi : 2.0 => menampilkan fungsi bagi dengan nilai a = 10 dan b =5 dengan hasil = 2.0 atau 2\n",
      "\n"
     ]
    }
   ],
   "source": [
    "# Ketikan Code Disini lalu Jalankan (Run)\n",
    "import aritmatika #di dalam aritmatika memiliki fungsi tambah(),kurang(),kali(),dan bagi()\n",
    "\n",
    "a = 10\n",
    "b = 5\n",
    "\n",
    "print(f\"\"\" \n",
    "tambah : {aritmatika.tambah(a,b)} => menampilkan fungsi tambah dengan nilai a = 10 dan b =5 dengan hasil = 15\n",
    "kurang : {aritmatika.kurang(a,b)} => menampilkan fungsi kurang dengan nilai a = 10 dan b =5 dengan hasil = 5\n",
    "kali : {aritmatika.kali(a,b)} => menampilkan fungsi kali dengan nilai a = 10 dan b =5 dengan hasil = 50\n",
    "bagi : {aritmatika.bagi(a,b)} => menampilkan fungsi bagi dengan nilai a = 10 dan b =5 dengan hasil = 2.0 atau 2\n",
    "\"\"\")"
   ]
  },
  {
   "cell_type": "markdown",
   "id": "2b0246ff-584f-4484-b52d-18733bcde7ae",
   "metadata": {},
   "source": [
    "### **Soal 4: Penggunaan Modul di Berbagai Program**\n",
    "\n",
    "#### **Instruksi:**\n",
    "1. Buatlah modul bernama `konversi.py` yang berisi fungsi-fungsi untuk konversi suhu antara Celcius, Fahrenheit, dan Kelvin:\n",
    "   - `celcius_ke_fahrenheit(c)` : Mengubah suhu dari Celcius ke Fahrenheit.\n",
    "   - `fahrenheit_ke_celcius(f)` : Mengubah suhu dari Fahrenheit ke Celcius.\n",
    "   - `celcius_ke_kelvin(c)` : Mengubah suhu dari Celcius ke Kelvin.\n",
    "   - `kelvin_ke_celcius(k)` : Mengubah suhu dari Kelvin ke Celcius.\n",
    "\n",
    "2. Buatlah program Python yang mengimpor modul `konversi` dan meminta input suhu dari pengguna, lalu mengonversinya ke satuan lain sesuai pilihan pengguna.\n",
    "\n",
    "3. **Tantangan tambahan:** Modifikasilah program sehingga bisa menangani semua konversi suhu dengan fleksibel. Misalnya, pengguna dapat memilih untuk mengonversi suhu dari Fahrenheit ke Kelvin, atau dari Kelvin ke Fahrenheit, dengan menggunakan fungsi yang ada secara modular.\n",
    "\n",
    "   <img src=\"Screenshot (5).png\" alt=\"Deskripsi Gambar\" width=\"450\" />\n",
    "\n",
    "---"
   ]
  },
  {
   "cell_type": "code",
   "execution_count": null,
   "id": "a61ed888-46f5-4412-bffe-22824dc41f1e",
   "metadata": {
    "id": "ea6a12c4-1360-4bfe-a05f-4098604926bc"
   },
   "outputs": [
    {
     "name": "stdout",
     "output_type": "stream",
     "text": [
      "68.0\n"
     ]
    }
   ],
   "source": [
    "# Ketikan Code Disini lalu Jalankan (Run)\n",
    "import konversi\n",
    "\n",
    "suhu = float(input('masukkan suhu :'))\n",
    "opsi = input('masukkan konversi yang anda inginkan [CtoF , FtoC , CtoK , KtoC] :')\n",
    "\n",
    "if opsi == \"CtoF\":\n",
    "    print(konversi.celciusToFahrenheit(suhu))\n",
    "elif opsi == \"FtoC\":\n",
    "    print(konversi.fahrenheitToCelcius(suhu))\n",
    "elif opsi == \"CtoK\":\n",
    "    print(konversi.celciusToKelvin(suhu))\n",
    "elif opsi == \"KtoC\":\n",
    "    print(konversi.kelvinToCelcius(suhu)) \n",
    "else:\n",
    "    print(\"opsi yang anda pilih tidak ada\")   \n",
    "\n",
    "    \n"
   ]
  },
  {
   "cell_type": "markdown",
   "id": "0782271c-ccc3-44bd-b3b1-1ea50e756cc2",
   "metadata": {},
   "source": [
    "<span style=\"color:red; font-size: 20px;\">\n",
    "<b>Tugas Mandiri </b>\n",
    "</span>\n",
    "\n",
    "- Buatlah aplikasi sederhana menggunakan studikasus yang kalian tentukan sendiri dengan menggunakan modularisasi built-in and user defined, yang di mana menampilkan hasil dan bisa di lihat file nya menggunakan fungsi ```dir()```.\n",
    "- Jelaskan program."
   ]
  },
  {
   "cell_type": "code",
   "execution_count": null,
   "id": "80305451-1911-4946-89ed-33821567766f",
   "metadata": {
    "id": "ea6a12c4-1360-4bfe-a05f-4098604926bc"
   },
   "outputs": [
    {
     "name": "stdout",
     "output_type": "stream",
     "text": [
      " \n",
      "angka random 1-10 : 1 => menghasilkan angka random dari 1 hingga 10\n",
      "pertambahan dari bilangan acak : 12 => menambah angka random 1 - 10 dengan keduanya juga random\n",
      "pertambahan : 4 => menambah nilai a = 2 dan b = 2 dengan hasil 4\n",
      "info dari modul fungsi tambah pada aritmatika : ['__annotations__', '__builtins__', '__call__', '__class__', '__closure__', '__code__', '__defaults__', '__delattr__', '__dict__', '__dir__', '__doc__', '__eq__', '__format__', '__ge__', '__get__', '__getattribute__', '__getstate__', '__globals__', '__gt__', '__hash__', '__init__', '__init_subclass__', '__kwdefaults__', '__le__', '__lt__', '__module__', '__name__', '__ne__', '__new__', '__qualname__', '__reduce__', '__reduce_ex__', '__repr__', '__setattr__', '__sizeof__', '__str__', '__subclasshook__', '__type_params__'] => menampilkan nama-nama variabel, fungsi, kelas, dll pada fungsi tambah\n",
      "info dari modul fungsi randint  pada random : ['__call__', '__class__', '__delattr__', '__dir__', '__doc__', '__eq__', '__format__', '__func__', '__ge__', '__get__', '__getattribute__', '__getstate__', '__gt__', '__hash__', '__init__', '__init_subclass__', '__le__', '__lt__', '__ne__', '__new__', '__reduce__', '__reduce_ex__', '__repr__', '__self__', '__setattr__', '__sizeof__', '__str__', '__subclasshook__'] => menampilkan nama-nama variabel, fungsi, kelas, dll pada fungsi randint\n",
      "\n"
     ]
    }
   ],
   "source": [
    "# Ketikan Code Disini lalu Jalankan (Run)\n",
    "from aritmatika import tambah #mengambil fungsi tambah di aritmatika ini adalah user defined\n",
    "from random import randint # mengambil fungsi randint di random ini adalah modularisasi built-in\n",
    "\n",
    "print(f\"\"\" \n",
    "angka random 1-10 : {randint(1,10)} => menghasilkan angka random dari 1 hingga 10\n",
    "pertambahan dari bilangan acak : {tambah(randint(1,10),randint(1,10))} => menambah angka random 1 - 10 dengan keduanya juga random\n",
    "pertambahan : {tambah(2,2)} => menambah nilai a = 2 dan b = 2 dengan hasil 4\n",
    "info dari modul fungsi tambah pada aritmatika : {dir(tambah)} => menampilkan nama-nama variabel, fungsi, kelas, dll pada fungsi tambah\n",
    "info dari modul fungsi randint  pada random : {dir(randint)} => menampilkan nama-nama variabel, fungsi, kelas, dll pada fungsi randint\n",
    "\"\"\")\n"
   ]
  },
  {
   "cell_type": "code",
   "execution_count": null,
   "id": "93cdda36-f71b-4995-a92f-b5682f5246f6",
   "metadata": {},
   "outputs": [],
   "source": [
    "# Jelaskan  Kesimpulan dari Pertemuan kali ini Dengan Format Markdown, Min.3 Baris\n",
    "# Note: nilai plus buat yang masukkan gambar, visualisasi penjelasan, dan table penjelasan\n"
   ]
  },
  {
   "cell_type": "markdown",
   "id": "4211fc37",
   "metadata": {},
   "source": [
    "## **Kesimpulan saya pada pertemuan kali ini atau pertemuan ke 10**\n",
    "<br>\n",
    "membahas tentang modul pada python<br>\n",
    "<br>\n",
    "\n",
    "### **Apa itu modularisasi?**<br>\n",
    "modularisasi adalah proses pengelompokan kode ke dalam beberapa bagian yang logis sehingga lebih mudah dimengerti, digunakan kembali, dan dikelola. Setiap bagian dari program yang modular biasanya ditempatkan dalam satu file Python, yang disebut modul. Modul ini bisa berisi definisi fungsi, kelas, atau variabel.\n",
    "<br>\n",
    "<br>\n",
    "\n",
    "### **Apa manfaat dari modularisasi?**<br>\n",
    "1. **Pemeliharaan Kode:** Kode yang modular lebih mudah dipelihara dan dikembangkan.\n",
    "2. **Reusabilitas:** Modul yang dibuat dapat digunakan kembali di program lain tanpa harus menulis ulang kode.\n",
    "3. **Organisasi yang Lebih Baik:** Program yang besar dapat dipecah menjadi modul-modul yang lebih kecil dan terpisah, sehingga lebih terstruktur.\n",
    "<br>\n",
    "\n",
    "## **Contoh dari menggunakan modularisasi**<br>\n",
    "<br>\n",
    "\n",
    "**ini adalah isi file dari tabung.py**<br>\n",
    "<br>\n",
    "<img src=\"1.png\">\n",
    "<br>\n",
    "yang berisi rumus volume pada tabung<br>\n",
    "<br>\n",
    "\n",
    "<img src=\"2.png\">\n",
    "<br>\n",
    "~import/mengambil source code yang ada di tabung.py\n",
    "\n",
    "~~ jika ingin mengambil function yang ada di tabung kalian perlu \" . \" untuk bsa mengambil functionnya dengan param r = 7 dan t = 10<br>\n",
    "~~ dan memanggil variable volume yang berisi function yg ada di tabung<br>\n",
    "\n",
    "~~ jika anda ingin menampilkan hasilnya lebih rapi bisa menambah :,.2f\n"
   ]
  }
 ],
 "metadata": {
  "colab": {
   "provenance": []
  },
  "kernelspec": {
   "display_name": "Python 3",
   "language": "python",
   "name": "python3"
  },
  "language_info": {
   "codemirror_mode": {
    "name": "ipython",
    "version": 3
   },
   "file_extension": ".py",
   "mimetype": "text/x-python",
   "name": "python",
   "nbconvert_exporter": "python",
   "pygments_lexer": "ipython3",
   "version": "3.13.0"
  },
  "widgets": {
   "application/vnd.jupyter.widget-state+json": {
    "state": {},
    "version_major": 2,
    "version_minor": 0
   }
  }
 },
 "nbformat": 4,
 "nbformat_minor": 5
}
