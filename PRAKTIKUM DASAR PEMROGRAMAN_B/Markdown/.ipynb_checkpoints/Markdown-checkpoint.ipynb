{
 "cells": [
  {
   "cell_type": "markdown",
   "id": "2142c191-658e-4070-8603-5f749e1006b2",
   "metadata": {},
   "source": [
    "# Markdown\n",
    "<img src=\"foto2.png\" width=\"250px\" alt=\"deskripsi gambar\"/>\n",
    "\n",
    "Markdown adalah bahasa mark up ringan yang dirancang untuk memformat teks dengan cara sederhana dan mudah dibaca dengan cara menyisipkan tag atau  simbol tertentu kedalam teks untuk menentukan bagaimana bagian-bagian teks harus diproses atau di tampilkan. Markdown dalam jupyter notebook biasa  \n",
    "digunakan untuk menjelaskan cell code dan mempermudah kita dalam penulisan dokumen yang lebih rapi dan terstruktur.\n",
    "\n"
   ]
  },
  {
   "cell_type": "markdown",
   "id": "355715ef-bb79-412f-8ed6-fc015efa2e71",
   "metadata": {},
   "source": [
    "### Contoh Penggunaan Markdown Penjelasan\n",
    "Berikut contoh markdown sebagai penjelasan:\n",
    "\n"
   ]
  },
  {
   "cell_type": "markdown",
   "id": "2b33649c-6aa1-4351-af70-c3850879c27e",
   "metadata": {},
   "source": [
    "## Aturan Penulisan Markdown\n",
    "Seperti pada bahasa pemprograman. Markdown juga memiliki syntax atau aturan penulisan untuk dapat menampilkan teks sesuai dengan yang kita inginkan. berikut adalah Syntax dasar dalam penulisan Markdown:\n",
    "\n",
    "1. **Heading**  \n",
    "Untuk menampilkan Heading kita bisa menggunakan **#**, jumlah **#** menentukan tingkat heading. Berikut contoh penulisannya:<br>\n",
    "<img src=\"foto1.png\" width=\"500px\" alt=\"deskripsi gambar\"/>\n",
    "\n",
    "2. **Teks Miring dan Tebal**  \n",
    "Untuk menampilkan teks Miring dan Tebal kita dapat menggunakan  __*__ untuk tulisan miring dan __**__ untuk tulisan tebal berikut contoh penulisannya:<br>\n",
    "<img src=\"foto3.png\" width=\"500px\" alt=\"deskripsi gambar\"/>\n",
    "3. **Baris Penulisan Baru**  \n",
    "Untuk membuat baris penulisan baru dalam markdown. Kita tidak dapat sekedar menggunakan tombol **Enter**, tetapi menggunakan **Spasi** 2X lalu menekan **Enter**.kita juga dapat menggunakan tag Line break untuk membuat baris penulisan baru seperti contoh dibawah:<br>\n",
    "<img src=\"foto5.png\" width=\"500px\" alt=\"deskripsi gambar\"/>\n",
    "\n",
    "4. **Daftar**  \n",
    "Untuk membuat sebuah daftar kita dapat menggunakan simbol __*__, __+__, dan __-__ berikut contohnya:<br>\n",
    "<img src=\"foto6.png\" width=\"500px\" alt=\"deskripsi gambar\"/>\n",
    "\n",
    "5. **Daftar Berurutan (Numbered List)**  \n",
    "Kita juga dapat membuat daftar yang berurutan menggunakan angka dan menambahkan sublist kedalam item listnya dengan cara sebagai berikut: <br>\n",
    "<img src=\"foto7.png\" width=\"500px\" alt=\"deskripsi gambar\"/>\n",
    "\n",
    "6. **Menginput Gambar**  \n",
    "Pada Markdown kita juga dapat menambahkan foto atau gambar dengan cara sebagai berikut: <br>\n",
    "<img src=\"foto8.png\" width=\"1000px\" alt=\"deskripsi gambar\"/>\n",
    "\n",
    "\n"
   ]
  },
  {
   "cell_type": "markdown",
   "id": "13adb875-cf87-4f91-8344-c3eec06feed9",
   "metadata": {},
   "source": [
    "## PENUTUP\n",
    "Penggunaan Markdown pada Jupyter Notebook dapat mempermudah kita dalam penulisan dokumen yang lebih rapi dan terstruktur di Jupyter Notebook, serta dapat membuat penulisan penjelasan program lebih rapi."
   ]
  }
 ],
 "metadata": {
  "kernelspec": {
   "display_name": "Python 3 (ipykernel)",
   "language": "python",
   "name": "python3"
  },
  "language_info": {
   "codemirror_mode": {
    "name": "ipython",
    "version": 3
   },
   "file_extension": ".py",
   "mimetype": "text/x-python",
   "name": "python",
   "nbconvert_exporter": "python",
   "pygments_lexer": "ipython3",
   "version": "3.12.4"
  }
 },
 "nbformat": 4,
 "nbformat_minor": 5
}
