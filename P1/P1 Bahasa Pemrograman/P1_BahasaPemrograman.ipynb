{
 "cells": [
  {
   "cell_type": "markdown",
   "id": "b3450a5a-c882-48e6-8aae-8be59018aedb",
   "metadata": {
    "id": "b3450a5a-c882-48e6-8aae-8be59018aedb"
   },
   "source": [
    "# Pengantar Bahasa Pemrograman dengan Python\n",
    "\n",
    "Selamat datang di sesi pembelajaran interaktif mengenai bahasa pemrograman dengan fokus pada Python. Saya sebagai dosen pengajar akan memandu Anda melalui konsep-konsep dasar dan aplikasi Python dalam dunia nyata.\n",
    "\n",
    "## Apa itu Bahasa Pemrograman?\n",
    "<img src=\"3.GIF\" width=\"150px\" alt=\"Deskripsi Gambar\" />\n",
    "\n",
    "\n",
    "Bahasa pemrograman adalah bahasa formal yang digunakan untuk mengkomunikasikan instruksi kepada komputer. Melalui bahasa pemrograman, kita bisa mengendalikan perilaku komputer dan menciptakan program untuk menyelesaikan berbagai masalah.\n",
    "\n",
    "### Tujuan Kita Belajar Bahasa Pemrograman\n",
    "<img src=\"2.JPG\" width=\"500px\" alt=\"Deskripsi Gambar\" />\n",
    "\n",
    "Belajar bahasa pemrograman bertujuan untuk:\n",
    "\n",
    "1. **Mengembangkan Kemampuan Problem Solving**: Melatih cara berpikir sistematis dan analitis.\n",
    "2. **Membuat Software**: Menggunakan komputer untuk menjalankan tugas secara otomatis.\n",
    "3. **Berkarier di Bidang Teknologi**: Membuka peluang kerja di era digital.\n",
    "\n",
    "\n"
   ]
  },
  {
   "cell_type": "markdown",
   "id": "e0a5c769-20e3-4864-b148-cafcc91c6a51",
   "metadata": {
    "id": "e0a5c769-20e3-4864-b148-cafcc91c6a51"
   },
   "source": [
    "### Tingkatan Bahasa Pemrograman\n",
    "\n",
    "Bahasa pemrograman terbagi menjadi beberapa tingkatan:\n",
    "\n",
    "<img src=\"7.PNG\" width=\"1050px\" alt=\"Deskripsi Gambar\" />\n",
    "\n",
    "- **Bahasa Mesin**: Kode biner yang dipahami langsung oleh hardware.\n",
    "- **Bahasa Tingkat Rendah (Assembly)**: Sedikit lebih mudah dibaca oleh manusia, tetapi masih dekat dengan bahasa mesin.\n",
    "- **Bahasa Tingkat Tinggi**: Mudah dibaca dan ditulis oleh manusia, seperti Python, Java, dan C++.\n",
    "\n",
    "### Compiler dan Interpreter\n",
    "<img src=\"5.PNG\" width=\"1050px\" alt=\"Deskripsi Gambar\" />\n",
    "\n",
    "- **Compiler**: Menerjemahkan seluruh kode program ke dalam bahasa mesin sekaligus sebelum dijalankan.\n",
    "- **Interpreter**: Menerjemahkan dan menjalankan kode program baris demi baris."
   ]
  },
  {
   "cell_type": "markdown",
   "id": "f0078833-c894-46da-9de8-b3e2d722ca19",
   "metadata": {
    "id": "f0078833-c894-46da-9de8-b3e2d722ca19"
   },
   "source": [
    "## Bahasa Pemrograman Python\n",
    "<img src=\"4.PNG\" width=\"150\">\n",
    "\n",
    "### Definisi\n",
    "\n",
    "Python adalah bahasa pemrograman tingkat tinggi yang dirancang oleh Guido van Rossum. Python dikenal dengan sintaksnya yang sederhana dan mudah dibaca, membuatnya populer di kalangan pemula maupun profesional.\n",
    "\n",
    "### Python Itu Bisa Apa?\n",
    "\n",
    "- **Automasi Tugas**: Mengotomatisasi proses sederhana hingga kompleks dengan skrip Python.\n",
    "- **Web Development**: Menggunakan framework seperti Django dan Flask untuk membangun situs web.\n",
    "- **Data Analysis**: Memanfaatkan library seperti Pandas dan NumPy untuk analisis data.\n",
    "- **Machine Learning**: Membangun model prediktif dengan menggunakan Scikit-Learn, TensorFlow, dan lainnya.\n",
    "\n",
    "### Python di Dunia Kerja\n",
    "\n",
    "Kemampuan Python sangat dicari di banyak bidang, termasuk kecerdasan buatan, analisis data, pengembangan web, dan otomasi. Banyak perusahaan teknologi besar dan startup memanfaatkan Python dalam stack teknologi mereka."
   ]
  },
  {
   "cell_type": "markdown",
   "id": "c149311c-4119-4859-8e54-24e9ca249a9a",
   "metadata": {
    "id": "c149311c-4119-4859-8e54-24e9ca249a9a"
   },
   "source": [
    "## Bagaimana Memulai dengan Python?\n",
    "\n",
    "### Instalasi Python\n",
    "\n",
    "Untuk memulai, Anda perlu menginstal Python pada komputer Anda. Kunjungi [situs resmi Python](https://www.python.org/downloads/) dan unduh versi terbaru sesuai sistem operasi Anda.\n",
    "\n",
    "### Online Python\n",
    "\n",
    "Untuk memulai, Anda perlu menginstal Python pada komputer Anda. Kunjungi [situs resmi Python](https://www.python.org/downloads/) dan unduh versi terbaru sesuai sistem operasi Anda.\n",
    "\n",
    "### Menulis Program Pertama\n",
    "\n",
    "Setelah menginstal Python, buka terminal atau command prompt dan ketikkan kode berikut:\n",
    "<br><img src=\"6.PNG\" width=\"350\">\n"
   ]
  },
  {
   "cell_type": "code",
   "execution_count": 1,
   "id": "c13f9557-c92b-4715-9679-83582d2a9f1c",
   "metadata": {
    "executionInfo": {
     "elapsed": 436,
     "status": "ok",
     "timestamp": 1725447729159,
     "user": {
      "displayName": "RIZKY LUKMAN HAIDI",
      "userId": "13893219563458290276"
     },
     "user_tz": -480
    },
    "id": "c13f9557-c92b-4715-9679-83582d2a9f1c"
   },
   "outputs": [
    {
     "name": "stdout",
     "output_type": "stream",
     "text": [
      "Hello, World!\n"
     ]
    }
   ],
   "source": [
    "# Ketikan code disini\n",
    "print ('Hello, World!')"
   ]
  },
  {
   "cell_type": "code",
   "execution_count": 3,
   "id": "a3bd96a9-76f5-4eb6-a8d3-02fe7015b031",
   "metadata": {
    "id": "a3bd96a9-76f5-4eb6-a8d3-02fe7015b031"
   },
   "outputs": [
    {
     "name": "stdout",
     "output_type": "stream",
     "text": [
      "MALIK SABARULLAH AKBAR\n",
      "2411102441250\n"
     ]
    }
   ],
   "source": [
    "# Kreasikan Code diatas dengan menggunakan nama kalian dan nim kalian\n",
    "print (\"MALIK SABARULLAH AKBAR\")\n",
    "print (\"2411102441250\")"
   ]
  },
  {
   "cell_type": "markdown",
   "id": "0965cb5d",
   "metadata": {},
   "source": [
    "## KESEHARIAN SAYA\n",
    "- MALIK SABARULLAH AKBAR\n",
    "- 2411102441250\n",
    "- REGULER B\n",
    "- MASUK TI SERU YA...\n",
    "\n",
    "Hari ini saya belajar bahasa pemrograman bersama....<br>\n",
    "hari ini sangat menyenangkan<br>\n",
    "saya belajar banyak hari ini <br>\n",
    "nay sama radi hampir.<br>\n",
    "\n",
    "<img src=\"5.png\" width=\"1000px\" alt=\"foto1\">"
   ]
  }
 ],
 "metadata": {
  "colab": {
   "provenance": []
  },
  "kernelspec": {
   "display_name": "Python 3 (ipykernel)",
   "language": "python",
   "name": "python3"
  },
  "language_info": {
   "codemirror_mode": {
    "name": "ipython",
    "version": 3
   },
   "file_extension": ".py",
   "mimetype": "text/x-python",
   "name": "python",
   "nbconvert_exporter": "python",
   "pygments_lexer": "ipython3",
   "version": "3.11.5"
  }
 },
 "nbformat": 4,
 "nbformat_minor": 5
}
