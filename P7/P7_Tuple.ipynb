{
 "cells": [
  {
   "cell_type": "markdown",
   "id": "b3450a5a-c882-48e6-8aae-8be59018aedb",
   "metadata": {
    "id": "b3450a5a-c882-48e6-8aae-8be59018aedb"
   },
   "source": [
    "# Modul Soal Pertemuan 7 - **Tuple**\n",
    "\n",
    "**Topik:** Tuple dalam Python\n",
    "\n",
    "**Tujuan Pembelajaran:**\n",
    "- Memahami konsep dasar Tuple dalam Python.\n",
    "- Mengetahui perbedaan antara List dan Tuple.\n",
    "- Mampu menggunakan fungsi dan method yang tersedia untuk Tuple.\n",
    "\n",
    "---\n",
    "\n",
    "## 1. **Pendahuluan**\n",
    "\n",
    "**Tuple** adalah tipe data koleksi seperti List, namun elemen-elemen di dalam Tuple bersifat **immutable** (tidak dapat diubah). Tuple digunakan saat Anda ingin menyimpan data yang tidak akan diubah setelah dideklarasikan.\n",
    "\n",
    "Tuple didefinisikan dengan tanda kurung biasa `( )` dan elemen-elemen di dalamnya dipisahkan oleh koma.\n",
    "\n",
    "### **Contoh:**\n",
    "```python\n",
    "# Membuat Tuple\n",
    "hewan = (\"kucing\", \"anjing\", \"kelinci\")\n",
    "```\n",
    "\n",
    "---\n",
    "\n",
    "## 2. **Tabel Pembahasan Fungsi dan Method pada Tuple**\n",
    "\n",
    "| **No** | **Fungsi/Method**   | **Penjelasan**                                                                                   | **Contoh Kode**                                                                                                                         |\n",
    "|--------|---------------------|---------------------------------------------------------------------------------------------------|-----------------------------------------------------------------------------------------------------------------------------------------|\n",
    "| 1      | `len()`              | Menghitung jumlah elemen dalam Tuple.                                                             | ```python len((1, 2, 3))  # Output: 3```                                                                                                |\n",
    "| 2      | `min()`              | Mengembalikan elemen dengan nilai terkecil (hanya bisa digunakan pada elemen yang bisa dibandingkan). | ```python min((4, 2, 8, 1))  # Output: 1```                                                                                             |\n",
    "| 3      | `max()`              | Mengembalikan elemen dengan nilai terbesar.                                                       | ```python max((4, 2, 8, 1))  # Output: 8```                                                                                             |\n",
    "| 4      | `index()`            | Mengembalikan indeks dari elemen pertama yang ditemukan pada Tuple.                                | ```python hewan = (\"kucing\", \"anjing\") hewan.index(\"anjing\")  # Output: 1```                                                             |\n",
    "| 5      | `count()`            | Menghitung berapa kali elemen tertentu muncul dalam Tuple.                                        | ```python angka = (1, 2, 3, 1, 1) angka.count(1)  # Output: 3```                                                                        |\n",
    "| 6      | Tuple Packing        | Menyimpan beberapa nilai dalam satu variabel dalam bentuk Tuple.                                  | ```python a = 1, 2, 3  # Output: (1, 2, 3)```                                                                                           |\n",
    "| 7      | Tuple Unpacking      | Membongkar Tuple menjadi beberapa variabel.                                                       | ```python a, b, c = (1, 2, 3) print(a, b, c)  # Output: 1 2 3```                                                                        |\n",
    "| 8      | `tuple()`            | Mengonversi koleksi data lain menjadi Tuple.                                                      | ```python tuple([1, 2, 3])  # Output: (1, 2, 3)```                                                                                      |\n",
    "| 9      | Slicing              | Mengambil bagian dari Tuple menggunakan slicing seperti List.                                     | ```python hewan = (\"kucing\", \"anjing\", \"kelinci\") print(hewan[1:])  # Output: ('anjing', 'kelinci')```                                   |\n",
    "| 10     | Immutability         | Tuple tidak dapat diubah setelah dideklarasikan.                                                  | ```python hewan = (\"kucing\", \"anjing\") hewan[0] = \"ular\"  # Output: TypeError: 'tuple' object does not support item assignment```        |\n",
    "\n",
    "---\n",
    "\n",
    "---\n",
    "\n",
    "## 3. **Perbedaan List dan Tuple**\n",
    "\n",
    "| **List**                        | **Tuple**                        |\n",
    "|----------------------------------|----------------------------------|\n",
    "| Elemen **dapat diubah** (mutable). | Elemen **tidak dapat diubah** (immutable). |\n",
    "| Didefinisikan dengan tanda kurung siku `[ ]`. | Didefinisikan dengan tanda kurung biasa `( )`. |\n",
    "| Memiliki lebih banyak method untuk manipulasi data. | Method lebih sedikit karena bersifat immutable. |\n",
    "| Lebih lambat dibandingkan Tuple dalam hal performa. | Lebih cepat dan efisien dalam hal performa. |\n",
    "\n",
    "---\n",
    "\n",
    "## 4. **Soal dan Latihan**\n",
    "**Note:** Gunakan logika pemrograman bukan cuman ngikutin gambar. Baca betul-betul apa yang di intruksikan!!"
   ]
  },
  {
   "cell_type": "markdown",
   "id": "f8f25b2d-716f-4cda-9bca-e01a6d92c80b",
   "metadata": {},
   "source": [
    "### **Soal 1 - Operasi Dasar pada Tuple**\n",
    "**Contoh Kode:**\n",
    "\n",
    "<img src=\"Screenshot (1).png\" alt=\"Deskripsi Gambar\" width=\"450\" style=\"margin-left: 30px;\" />\n",
    "\n",
    "**Instruksi:**\n",
    "1. Buat sebuah Tuple berisi nama-nama mahasiswa.\n",
    "2. Tampilkan jumlah elemen dalam Tuple menggunakan `len()`.\n",
    "3. Cari indeks dari nama tertentu menggunakan `index()`.\n",
    "4. Hitung berapa kali nama tertentu muncul dalam Tuple menggunakan `count()`.\n",
    "---"
   ]
  },
  {
   "cell_type": "code",
   "execution_count": 2,
   "id": "b3f87cea-e50a-46fd-820f-bc12703db8da",
   "metadata": {
    "id": "ea6a12c4-1360-4bfe-a05f-4098604926bc"
   },
   "outputs": [
    {
     "name": "stdout",
     "output_type": "stream",
     "text": [
      "Isi mahasiswa :('malik', 'yadi', 'arpan', 'nabil', 'apid', 'malik', 'malik')\n",
      "Jumlah Mahasiswa : 7\n",
      "Indeks 'Malik' : 0\n",
      "Jumlah 'Malik : 3\n"
     ]
    }
   ],
   "source": [
    "# Ketikan Code Disini lalu Jalankan (Run)\n",
    "mhs = (\"malik\",\"yadi\",\"arpan\",\"nabil\",\"apid\",\"malik\",\"malik\")\n",
    "\n",
    "print(f\"Isi mahasiswa :{mhs}\") #Isi dari variable mhs atau isi dari Tuple\n",
    "print(f\"Jumlah Mahasiswa : {len(mhs)}\")\n",
    "print(f\"Indeks 'Malik' : {mhs.index(\"malik\")}\")\n",
    "print(f\"Jumlah 'Malik : {mhs.count(\"malik\")}\")"
   ]
  },
  {
   "cell_type": "markdown",
   "id": "2b0246ff-584f-4484-b52d-18733bcde7ae",
   "metadata": {},
   "source": [
    "### **Soal 2 - Tuple Packing dan Unpacking**\n",
    "\n",
    "**Contoh Kode:**\n",
    "\n",
    "<img src=\"Screenshot (2).png\" alt=\"Deskripsi Gambar\" width=\"450\" style=\"margin-left: 30px;\" />\n",
    "\n",
    "**Instruksi:**\n",
    "1. Buat program yang menampung nama lengkap dan NIM mahasiswa dalam Tuple.\n",
    "2. Gunakan Tuple Packing untuk menyimpan data.\n",
    "3. Gunakan Tuple Unpacking untuk menampilkan nama dan NIM secara terpisah.\n",
    "\n",
    "\n",
    "---\n",
    "\n"
   ]
  },
  {
   "cell_type": "code",
   "execution_count": 7,
   "id": "a61ed888-46f5-4412-bffe-22824dc41f1e",
   "metadata": {
    "id": "ea6a12c4-1360-4bfe-a05f-4098604926bc"
   },
   "outputs": [
    {
     "name": "stdout",
     "output_type": "stream",
     "text": [
      "Nama :Malik\n",
      "Nim :2411102441250\n"
     ]
    }
   ],
   "source": [
    "# Ketikan Code Disini lalu Jalankan (Run)\n",
    "data_mhs = (\"Malik\",\"2411102441250\")\n",
    "\n",
    "nama,nim = data_mhs\n",
    "print(f\"Nama :{nama}\")\n",
    "print(f\"Nim :{nim}\")\n"
   ]
  },
  {
   "cell_type": "markdown",
   "id": "027609a3-346c-4999-a485-772128a8bb6a",
   "metadata": {},
   "source": [
    "### **Soal 3 - Konversi ke Tuple dan Slicing**\n",
    "**Contoh Kode:**\n",
    "\n",
    "<img src=\"Screenshot (3).png\" alt=\"Deskripsi Gambar\" width=\"450\" style=\"margin-left: 30px;\" />\n",
    "\n",
    "**Instruksi:**\n",
    "1. Buatlah program yang mengonversi List menjadi Tuple.\n",
    "2. Tampilkan elemen-elemen tertentu dari Tuple menggunakan slicing.\n",
    "3. Jelaskan code beserta outputnya!\n",
    "---\n"
   ]
  },
  {
   "cell_type": "code",
   "execution_count": 17,
   "id": "ea6a12c4-1360-4bfe-a05f-4098604926bc",
   "metadata": {
    "id": "ea6a12c4-1360-4bfe-a05f-4098604926bc"
   },
   "outputs": [
    {
     "name": "stdout",
     "output_type": "stream",
     "text": [
      "('pepaya', 'semangka', 'nanas', 'apel', 'coklat', 'jeruk')\n",
      "('nanas', 'apel', 'coklat', 'jeruk')\n"
     ]
    }
   ],
   "source": [
    "# Ketikan Code Disini lalu Jalankan (Run)\n",
    "list_buah = [\"pepaya\",\"semangka\",\"nanas\",\"apel\",\"coklat\",\"jeruk\"]\n",
    "tuple_buah = tuple(list_buah)\n",
    "\n",
    "print(tuple_buah) #Hasil dari perubahan dari list ke tuple\n",
    "print(tuple_buah[2:5+1]) #menampilkan dari index ke 2 sampai ke 5"
   ]
  },
  {
   "cell_type": "markdown",
   "id": "b63948ce-0bb1-4efe-90cf-3f3a0ad9b51c",
   "metadata": {},
   "source": [
    "### **Soal 4 - Immutability pada Tuple**\n",
    "**Contoh Kode:**\n",
    "\n",
    "<img src=\"Screenshot (4).png\" alt=\"Deskripsi Gambar\" width=\"450\" style=\"margin-left: 30px;\" />\n",
    "\n",
    "**Instruksi:**\n",
    "1. Buat sebuah Tuple berisi nama-nama kota.\n",
    "2. Coba ubah salah satu elemen dalam Tuple, dan perhatikan error yang terjadi.\n",
    "3. Jelaskan mengapa Tuple tidak bisa diubah.\n",
    "\n",
    "\n",
    "\n",
    "---\n"
   ]
  },
  {
   "cell_type": "code",
   "execution_count": 29,
   "id": "6def281a-5cfc-46d7-9f31-dd7eb60a23f0",
   "metadata": {
    "id": "ea6a12c4-1360-4bfe-a05f-4098604926bc"
   },
   "outputs": [
    {
     "ename": "TypeError",
     "evalue": "'tuple' object does not support item assignment",
     "output_type": "error",
     "traceback": [
      "\u001b[1;31m---------------------------------------------------------------------------\u001b[0m",
      "\u001b[1;31mTypeError\u001b[0m                                 Traceback (most recent call last)",
      "Cell \u001b[1;32mIn[29], line 4\u001b[0m\n\u001b[0;32m      1\u001b[0m \u001b[38;5;66;03m# Ketikan Code Disini lalu Jalankan (Run)\u001b[39;00m\n\u001b[0;32m      2\u001b[0m kota \u001b[38;5;241m=\u001b[39m (\u001b[38;5;124m\"\u001b[39m\u001b[38;5;124msamarinda\u001b[39m\u001b[38;5;124m\"\u001b[39m,\u001b[38;5;124m\"\u001b[39m\u001b[38;5;124mbandung\u001b[39m\u001b[38;5;124m\"\u001b[39m,\u001b[38;5;124m\"\u001b[39m\u001b[38;5;124mmedan\u001b[39m\u001b[38;5;124m\"\u001b[39m)\n\u001b[1;32m----> 4\u001b[0m \u001b[43mkota\u001b[49m\u001b[43m[\u001b[49m\u001b[38;5;241;43m0\u001b[39;49m\u001b[43m]\u001b[49m \u001b[38;5;241m=\u001b[39m \u001b[38;5;124m\"\u001b[39m\u001b[38;5;124mjakarta\u001b[39m\u001b[38;5;124m\"\u001b[39m\n\u001b[0;32m      5\u001b[0m \u001b[38;5;28mprint\u001b[39m(kota) \u001b[38;5;66;03m#karena tuple tidak bisa diubah\u001b[39;00m\n\u001b[0;32m      8\u001b[0m \u001b[38;5;66;03m# kota = kota + (\"jakarta\",)\u001b[39;00m\n\u001b[0;32m      9\u001b[0m \u001b[38;5;66;03m# print(kota)\u001b[39;00m\n",
      "\u001b[1;31mTypeError\u001b[0m: 'tuple' object does not support item assignment"
     ]
    }
   ],
   "source": [
    "# Ketikan Code Disini lalu Jalankan (Run)\n",
    "kota = (\"samarinda\",\"bandung\",\"medan\")\n",
    "\n",
    "kota[0] = \"jakarta\"\n",
    "print(kota) #karena tuple adalah data seperti list tetapi tidak bisa di ubah-ubah\n",
    "\n",
    "\n",
    "# kota = kota + (\"jakarta\",)\n",
    "# print(kota)\n"
   ]
  },
  {
   "cell_type": "code",
   "execution_count": null,
   "id": "93cdda36-f71b-4995-a92f-b5682f5246f6",
   "metadata": {},
   "outputs": [],
   "source": [
    "# Jelaskan  Kesimpulan dari Pertemuan kali ini Dengan Format Markdown, Min.3 Baris\n",
    "# Note: nilai plus buat yang masukkan gambar, visualisasi penjelasan, dan table penjelasan\n"
   ]
  },
  {
   "cell_type": "markdown",
   "id": "34106d18",
   "metadata": {},
   "source": [
    "## **Kesimpulan saya pada hari ini:**\n",
    "\n",
    "saya telah belajar apa itu Tuple,dan apa perbedaan antara Tuple dengan List<br>\n",
    "<br>\n",
    "**Tuple** adalah tipe data koleksi seperti List, namun elemen-elemen di dalam Tuple bersifat **immutable** (tidak dapat diubah). Tuple digunakan saat Anda ingin menyimpan data yang tidak akan diubah setelah dideklarasikan.\n",
    "\n",
    "Tuple didefinisikan dengan tanda kurung biasa `( )` dan elemen-elemen di dalamnya dipisahkan oleh koma.\n",
    "\n",
    "### **Contoh:**\n",
    "```python\n",
    "# Membuat Tuple\n",
    "hewan = (\"kucing\", \"anjing\", \"kelinci\")\n",
    "```\n",
    "\n",
    "## **Perbedaan List dan Tuple**\n",
    "\n",
    "| **List**                        | **Tuple**                        |\n",
    "|----------------------------------|----------------------------------|\n",
    "| Elemen **dapat diubah** (mutable). | Elemen **tidak dapat diubah** (immutable). |\n",
    "| Didefinisikan dengan tanda kurung siku `[ ]`. | Didefinisikan dengan tanda kurung biasa `( )`. |\n",
    "| Memiliki lebih banyak method untuk manipulasi data. | Method lebih sedikit karena bersifat immutable. |\n",
    "| Lebih lambat dibandingkan Tuple dalam hal performa. | Lebih cepat dan efisien dalam hal performa. |\n",
    "\n",
    "---\n",
    "\n",
    "<br>\n",
    "<br>\n",
    "\n",
    "### **Contoh soal yang saya pelajari pada hari ini**\n",
    "\n",
    "### Immutability pada Tuple\n",
    "<br>\n",
    "\n",
    "<img src=\"1.png\">\n",
    "<br>\n",
    "\n",
    "Pada gambar di atas itu adalah contoh dari Immutability pada Tuple\n",
    "<br><br>\n",
    "kenapa variable kota/Tuple kota tidak dapat diubah?<br>\n",
    "karena aturan dari Tuple adalah type data yang tidak bisa di ubah atau konstan<br>\n",
    "dan hasil otomatis akan error"
   ]
  }
 ],
 "metadata": {
  "colab": {
   "provenance": []
  },
  "kernelspec": {
   "display_name": "Python 3",
   "language": "python",
   "name": "python3"
  },
  "language_info": {
   "codemirror_mode": {
    "name": "ipython",
    "version": 3
   },
   "file_extension": ".py",
   "mimetype": "text/x-python",
   "name": "python",
   "nbconvert_exporter": "python",
   "pygments_lexer": "ipython3",
   "version": "3.12.6"
  },
  "widgets": {
   "application/vnd.jupyter.widget-state+json": {
    "state": {},
    "version_major": 2,
    "version_minor": 0
   }
  }
 },
 "nbformat": 4,
 "nbformat_minor": 5
}
