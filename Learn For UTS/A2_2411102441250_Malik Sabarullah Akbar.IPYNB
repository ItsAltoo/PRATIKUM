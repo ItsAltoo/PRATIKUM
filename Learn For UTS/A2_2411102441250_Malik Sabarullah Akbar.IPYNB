{
  "cells": [
    {
      "cell_type": "markdown",
      "metadata": {},
      "source": [
        "# UJIAN TENGAH SEMESTER (UTS) (TIPE SOAL: A2)\n",
        "# DASAR PEMROGRAMAN (INF1043 & INF1053)\n",
        "## Program Studi Informatika (UMKT)\n",
        "### Semester Ganjil 2024-2025"
      ]
    },
    {
      "cell_type": "markdown",
      "metadata": {},
      "source": [
        "---\n",
        "<strong><em> Visi Prodi TI UMKT:\n",
        "\n",
        "\"Pada tahun 2037, menjadi program studi yang unggul dalam teknologi informasi dan algoritma komputasi untuk penyelesaian permasalahan sosial dan lingkungan dengan berlandaskan nilai-nilai keislaman\"\n",
        " </em></strong>\n",
        "\n",
        "---"
      ]
    },
    {
      "cell_type": "markdown",
      "metadata": {},
      "source": [
        "---\n",
        "<strong><em> Capaian Pembelajaran Mata Kuliah:\n",
        "\n",
        "1.\tMahasiswa mampu memahami konsep dasar bahasa pemrograman dan kontrol alur dalam pemrograman berbahasa Python.\n",
        "2.\tMahasiswa mampu menjelaskan prinsip-prinsip dasar pemrograman berorientasi objek dan penerapannya dalam pemrograman berbahasa Python.\n",
        "\n",
        "</em></strong>\n",
        "\n",
        "---"
      ]
    },
    {
      "cell_type": "markdown",
      "metadata": {},
      "source": [
        "## Instruksi Ujian\n",
        "<blockquote>\n",
        "Durasi Ujian: 60 menit\n",
        "\n",
        "Aturan:\n",
        "- Setiap mahasiswa mendapatkan jenis soal yang berbeda sesuai dengan nim\n",
        "- Sifat ujian tertutup, tidak boleh membuka apapun selain soal ini\n",
        "- Baca dengan teliti instruksi soal sebelum mengerjakan\n",
        "- Isi jawaban di tempat yang telah disediakan\n",
        "- Mahasiswa hanya boleh membawa laptop (boleh memakai komputer lab) dan pulpen (untuk absensi)\n",
        "- Dilarang menggunakan peralatan komunikasi (HP/smartphone)\n",
        "- Mahasiswa masuk kedalam ruangan 10 menit untuk persiapan ujian (komputer/laptop dan download soal)\n",
        "- Mahasiswa yang terlambat tidak akan mendapatkan waktu tambahan\n",
        "- Bagi mahasiswa yang tidak dapat mengikuti ujian, dapat menghadap langsung ke dosen pengampu untuk pengganti ujian dan membawa surat permohonan ujian susulan yang di tanda tangani dosen PA\n",
        "- Bagi mahasiswa yang berbuat kecurangan/kerja sama akan diberikan nilai akhir E. \n",
        "</blockquote>\n",
        "\n",
        "---\n",
        "\n"
      ]
    },
    {
      "cell_type": "markdown",
      "metadata": {},
      "source": [
        "## Identitas Peserta"
      ]
    },
    {
      "cell_type": "markdown",
      "metadata": {},
      "source": [
        "NAMA    : Malik Sabarullah Akbar\n",
        "\n",
        "NIM     : 2411102441250\n",
        "\n",
        "KELAS   : B"
      ]
    },
    {
      "cell_type": "markdown",
      "metadata": {},
      "source": [
        "---"
      ]
    },
    {
      "cell_type": "markdown",
      "metadata": {},
      "source": [
        "## Soal 1 (40 Poin, 10 menit)"
      ]
    },
    {
      "cell_type": "markdown",
      "metadata": {},
      "source": [
        "<blockquote>\n",
        "(1A) Buatlah satu variabel nim_nama bertipe string yang berisi nim dan nama lengkap anda, kemudian tampilkan isi variabel nim_nama dan jumlah panjang karakter dari variabel nim_nama! (20 poin Praktikum)\n",
        "</br></br>\n",
        "Coding berisi 1 variabel, dan 2 output\n",
        "</blockquote>"
      ]
    },
    {
      "cell_type": "code",
      "execution_count": 2,
      "metadata": {},
      "outputs": [
        {
          "name": "stdout",
          "output_type": "stream",
          "text": [
            "isi dari nim dan nama :2411102441250_Malik Sabarullah Akbar\n",
            "Jumlah karakter dari variable nim_nama :36\n"
          ]
        }
      ],
      "source": [
        "# Jawaban coding 1A\n",
        "nim_nama = \"2411102441250_Malik Sabarullah Akbar\"\n",
        "\n",
        "print(f\"isi dari nim dan nama :{nim_nama}\")\n",
        "print(f\"Jumlah karakter dari variable nim_nama :{len(nim_nama)}\")"
      ]
    },
    {
      "cell_type": "markdown",
      "metadata": {},
      "source": [
        "<blockquote>\n",
        "(1B) Jelaskan coding 1A yang telah anda buat! (20 poin Teori)\n",
        "</blockquote>"
      ]
    },
    {
      "cell_type": "markdown",
      "metadata": {},
      "source": [
        "Jawaban 1B: <br>\n",
        "~pada variable nim_nama memiliki value bertype string dengan isi \"2411102441250_Malik Sabarullah Akbar\"<br>\n",
        "<br>\n",
        "~~pada output pertama itu menampilkan isi pada variable nim_nama<br>\n",
        "~~pada output kedua itu menampilkan jumlah karakter pada varible nim_nama dengan method len()"
      ]
    },
    {
      "cell_type": "markdown",
      "metadata": {},
      "source": [
        "---"
      ]
    },
    {
      "cell_type": "markdown",
      "metadata": {},
      "source": [
        "## Soal 2 (80 Poin, 25 menit)"
      ]
    },
    {
      "cell_type": "markdown",
      "metadata": {},
      "source": [
        "<blockquote>\n",
        "(2A) Buatlah iterasi dan percabangan untuk memisahkan variabel nim_nama (dari soal 1A) kedalam dua variabel yakni variabel nim (berbentuk list dan berisi kumpulan data integer) dan variabel nama (berbentuk list dan berisi kumpulan data string)! Tampilkan kedua variabel nim dan variabel nama! (40 poin Praktikum)\n",
        "</br></br>\n",
        "Gunakan iterasi dan percabangan. </br>\n",
        "Coding membuat 2 variabel baru, dan 2 output isi variabel. </br>\n",
        "Contoh isi variabel nim = [1,2,3,4] (satu elemen satu angka), variabel nama = [\"A\",\"B\",\"C\",\"D\"] (satu elemen satu huruf)\n",
        "</blockquote>"
      ]
    },
    {
      "cell_type": "code",
      "execution_count": 4,
      "metadata": {},
      "outputs": [
        {
          "name": "stdout",
          "output_type": "stream",
          "text": [
            "ini nim saya :[2, 4, 1, 1, 1, 0, 2, 4, 4, 1, 2, 5, 0]\n",
            "ini nama saya :['M', 'a', 'l', 'i', 'k', 'S', 'a', 'b', 'a', 'r', 'u', 'l', 'l', 'a', 'h', 'A', 'k', 'b', 'a', 'r']\n"
          ]
        }
      ],
      "source": [
        "# Jawaban coding 2A\n",
        "nim_nama = \"2411102441250_Malik Sabarullah Akbar\"\n",
        "\n",
        "nim = []\n",
        "nama = []\n",
        "\n",
        "for i in nim_nama:\n",
        "    if i.isalpha():\n",
        "        nama.append(i)\n",
        "        \n",
        "    elif i.isdigit():\n",
        "        nim.append(int(i))\n",
        "\n",
        "\n",
        "print(f\"ini nim saya :{nim}\") \n",
        "print(f\"ini nama saya :{nama}\") "
      ]
    },
    {
      "cell_type": "markdown",
      "metadata": {},
      "source": [
        "<blockquote>\n",
        "(2B) Jelaskan coding 2A yang telah anda buat! (40 poin Teori)\n",
        "</blockquote>"
      ]
    },
    {
      "cell_type": "markdown",
      "metadata": {},
      "source": [
        "Jawaban 2B: ..."
      ]
    },
    {
      "cell_type": "markdown",
      "metadata": {},
      "source": [
        "---"
      ]
    },
    {
      "cell_type": "markdown",
      "metadata": {},
      "source": [
        "## Soal 3 (80 Poin, 25 menit)"
      ]
    },
    {
      "cell_type": "markdown",
      "metadata": {},
      "source": [
        "<blockquote>\n",
        "(3A) Buatlah iterasi dan percabangan yang dimana iterasi tersebut mengecek dan menampilkan bilangan-bilangan GENAP dari variabel nim (dari soal 2A)! (40 poin Praktikum)\n",
        "</br></br>\n",
        "Gunakan iterasi dan percabangan. </br>\n",
        "Coding menampilkan output dari iterasi. </br>\n",
        "</blockquote>"
      ]
    },
    {
      "cell_type": "code",
      "execution_count": 40,
      "metadata": {},
      "outputs": [
        {
          "name": "stdout",
          "output_type": "stream",
          "text": [
            "ini adalah genap :2\n",
            "ini adalah genap :4\n",
            "ini adalah genap :0\n",
            "ini adalah genap :2\n",
            "ini adalah genap :4\n",
            "ini adalah genap :4\n",
            "ini adalah genap :2\n",
            "ini adalah genap :0\n"
          ]
        }
      ],
      "source": [
        "# Jawaban coding 3A\n",
        "nim = [2,4,1,1,1,0,2,4,4,1,2,5,0]\n",
        "\n",
        "for i in nim:\n",
        "    if i % 2 == 0:\n",
        "        print(f\"ini adalah genap :{i}\")"
      ]
    },
    {
      "cell_type": "markdown",
      "metadata": {},
      "source": [
        "<blockquote>\n",
        "(3B) Jelaskan coding 3A yang telah anda buat! (40 poin Teori)\n",
        "</blockquote>"
      ]
    },
    {
      "cell_type": "markdown",
      "metadata": {},
      "source": [
        "Jawaban 3B: pada list nim berisi nilai\"\n",
        "<br>\n",
        "pengulangan for untuk mengulang isi yang ada pada list nim<br>\n",
        "jika sisa bagi dari perulangan sama dengan 0<br>\n",
        "maka itu adalah bilangan genap "
      ]
    },
    {
      "cell_type": "markdown",
      "metadata": {},
      "source": [
        "---"
      ]
    },
    {
      "cell_type": "markdown",
      "metadata": {},
      "source": [
        "## Soal Bonus (maksimal 10 Poin nilai tambahan jika anda mendapatkan nilai <= 50)"
      ]
    },
    {
      "cell_type": "markdown",
      "metadata": {},
      "source": [
        "<blockquote>\n",
        "(Bonus) Jelaskan secara deskriptif dan komprehensif pemahaman anda selama perkuliahan Teori dan Praktikum Dasar Pemrograman!\n",
        "</blockquote>"
      ]
    },
    {
      "cell_type": "markdown",
      "metadata": {},
      "source": [
        "Jawaban Bonus: \n",
        "<br>\n",
        "Pemahaman saya terhadap matkul Teori dan Pratikum Dasar Pemrograman adalah :<br>\n",
        "Pada pertemuan pertama saya mempelajari apa itu python dan type datanya<br>\n",
        "pada pertemuan kedua saya telah mempelajari cara membuat variable dengan berbagai type value seperti string,numeric dan boolean<br>\n",
        "dan pertemuan selanjutnya hingga pertemuan 7 saya mempelajari tuple,list,method dan iterasi<br>\n",
        "<br>\n",
        "tuple adalah sebuah list dengan nilai atau value tidak dapat di ubah\" dengan perbedaan pada penggunaan kurung ( )<br>\n",
        "sedangkan list adalah variable yang memiliki value lebih dari satu dan value tersebut dapat diubah\".Contoh : nama = ['M',\"A\",'l','i','k'].<br>\n",
        "method merupakan sebuah fungsi bawaan yang terdapat pada bahasa pemrograman masing\".Contoh method pada bahasa python : len() => untuk menghitung jumlah karakter pada varibale yang ingin di masukkan.<br>\n",
        "iterasi adalah sebuah perulangan yang ingin anda ulang\".<br>\n"
      ]
    },
    {
      "cell_type": "markdown",
      "metadata": {},
      "source": [
        "---"
      ]
    },
    {
      "cell_type": "markdown",
      "metadata": {},
      "source": [
        "## Instruksi Pengumpulan\n",
        "\n",
        "<blockquote>\n",
        "Kumpulkan file ini dengan format berikut:\n",
        "\n",
        "<span style=\"font-family:Comic Sans MS\">\"SOAL_X_NIM.ipynb\"</span> \n",
        "\n",
        "\n",
        "<em> Ganti X dengan tipe soal yang anda dapat sesuai dengan nim! </em>\n",
        "\n",
        "Silahkan kumpulkan di tempat yang telah disediakan.\n",
        "</blockquote>\n",
        "\n",
        "---"
      ]
    }
  ],
  "metadata": {
    "kernelspec": {
      "display_name": "Python 3",
      "language": "python",
      "name": "python3"
    },
    "language_info": {
      "codemirror_mode": {
        "name": "ipython",
        "version": 3
      },
      "file_extension": ".py",
      "mimetype": "text/x-python",
      "name": "python",
      "nbconvert_exporter": "python",
      "pygments_lexer": "ipython3",
      "version": "3.12.6"
    }
  },
  "nbformat": 4,
  "nbformat_minor": 4
}
