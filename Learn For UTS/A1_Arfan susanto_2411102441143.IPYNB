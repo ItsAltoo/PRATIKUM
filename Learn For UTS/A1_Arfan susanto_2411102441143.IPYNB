{
 "cells": [
  {
   "cell_type": "markdown",
   "metadata": {},
   "source": [
    "# UJIAN TENGAH SEMESTER (UTS) (TIPE SOAL: A1)\n",
    "# DASAR PEMROGRAMAN (INF1043 & INF1053)\n",
    "## Program Studi Informatika (UMKT)\n",
    "### Semester Ganjil 2024-2025"
   ]
  },
  {
   "cell_type": "markdown",
   "metadata": {},
   "source": [
    "---\n",
    "<strong><em> Visi Prodi TI UMKT:\n",
    "\n",
    "\"Pada tahun 2037, menjadi program studi yang unggul dalam teknologi informasi dan algoritma komputasi untuk penyelesaian permasalahan sosial dan lingkungan dengan berlandaskan nilai-nilai keislaman\"\n",
    " </em></strong>\n",
    "\n",
    "---"
   ]
  },
  {
   "cell_type": "markdown",
   "metadata": {},
   "source": [
    "---\n",
    "<strong><em> Capaian Pembelajaran Mata Kuliah:\n",
    "\n",
    "1.\tMahasiswa mampu memahami konsep dasar bahasa pemrograman dan kontrol alur dalam pemrograman berbahasa Python.\n",
    "2.\tMahasiswa mampu menjelaskan prinsip-prinsip dasar pemrograman berorientasi objek dan penerapannya dalam pemrograman berbahasa Python.\n",
    "\n",
    "</em></strong>\n",
    "\n",
    "---"
   ]
  },
  {
   "cell_type": "markdown",
   "metadata": {},
   "source": [
    "## Instruksi Ujian\n",
    "<blockquote>\n",
    "Durasi Ujian: 60 menit\n",
    "\n",
    "Aturan:\n",
    "- Setiap mahasiswa mendapatkan jenis soal yang berbeda sesuai dengan nim\n",
    "- Sifat ujian tertutup, tidak boleh membuka apapun selain soal ini\n",
    "- Baca dengan teliti instruksi soal sebelum mengerjakan\n",
    "- Isi jawaban di tempat yang telah disediakan\n",
    "- Mahasiswa hanya boleh membawa laptop (boleh memakai komputer lab) dan pulpen (untuk absensi)\n",
    "- Dilarang menggunakan peralatan komunikasi (HP/smartphone)\n",
    "- Mahasiswa masuk kedalam ruangan 10 menit untuk persiapan ujian (komputer/laptop dan download soal)\n",
    "- Mahasiswa yang terlambat tidak akan mendapatkan waktu tambahan\n",
    "- Bagi mahasiswa yang tidak dapat mengikuti ujian, dapat menghadap langsung ke dosen pengampu untuk pengganti ujian dan membawa surat permohonan ujian susulan yang di tanda tangani dosen PA\n",
    "- Bagi mahasiswa yang berbuat kecurangan/kerja sama akan diberikan nilai akhir E. \n",
    "</blockquote>\n",
    "\n",
    "---\n",
    "\n"
   ]
  },
  {
   "cell_type": "markdown",
   "metadata": {},
   "source": [
    "## Identitas Peserta"
   ]
  },
  {
   "cell_type": "markdown",
   "metadata": {},
   "source": [
    "NAMA    : Arfn Susanto\n",
    "\n",
    "NIM     : 2411102441143\n",
    "\n",
    "KELAS   : B"
   ]
  },
  {
   "cell_type": "markdown",
   "metadata": {},
   "source": [
    "---"
   ]
  },
  {
   "cell_type": "markdown",
   "metadata": {},
   "source": [
    "## Soal 1 (40 Poin, 10 menit)"
   ]
  },
  {
   "cell_type": "markdown",
   "metadata": {},
   "source": [
    "<blockquote>\n",
    "(1A) Buatlah satu variabel nim_nama bertipe string yang berisi nim dan nama lengkap anda, kemudian tampilkan isi variabel nim_nama dan jumlah panjang karakter dari variabel nim_nama! (20 poin Praktikum)\n",
    "</br></br>\n",
    "Coding berisi 1 variabel, dan 2 output\n",
    "</blockquote>"
   ]
  },
  {
   "cell_type": "code",
   "execution_count": 27,
   "metadata": {},
   "outputs": [
    {
     "name": "stdout",
     "output_type": "stream",
     "text": [
      "13\n",
      "13\n"
     ]
    }
   ],
   "source": [
    "# Jawaban coding 1A\n",
    "nim_nama = (\"2411102441143\",\"Arfan Susanto\") #<---- pemasukkan data diri nama dan nim\n",
    "print(len(nim_nama[1])) #<----- hasil dengan fungsi len() (fungsinya untuk menghitung jumlah karakter dalam string) dengan posisi kedua\n",
    "print(len(nim_nama[0])) #<----- hasil dengan fungsi len() (fungsinya untuk menghitung jumlah karakter dalam string) dengan posisi pertama"
   ]
  },
  {
   "cell_type": "markdown",
   "metadata": {},
   "source": [
    "<blockquote>\n",
    "(1B) Jelaskan coding 1A yang telah anda buat! (20 poin Teori)\n",
    "</blockquote>"
   ]
  },
  {
   "cell_type": "markdown",
   "metadata": {},
   "source": [
    "Jawaban 1B: di dalam list ada data diri nama dan Nim(bertipe string karena ada koma atas dua).lalu ada print buat menampilkan output nya dengan fungsi di dalam print.\n",
    "lalu ada kondisi dimana ada fungsi method len(),itu berfungsi menghitung jumlah karakter yang ada di dalam data string.\n",
    "lalu ada bagian ada angka contoh [0] itu berfungsi posisi data."
   ]
  },
  {
   "cell_type": "markdown",
   "metadata": {},
   "source": [
    "---"
   ]
  },
  {
   "cell_type": "markdown",
   "metadata": {},
   "source": [
    "## Soal 2 (80 Poin, 25 menit)"
   ]
  },
  {
   "cell_type": "markdown",
   "metadata": {},
   "source": [
    "<blockquote>\n",
    "(2A) Buatlah iterasi dan percabangan untuk memisahkan variabel nim_nama (dari soal 1A) kedalam dua variabel yakni variabel nim (berbentuk list dan berisi kumpulan data integer) dan variabel nama (berbentuk list dan berisi kumpulan data string)! Tampilkan kedua variabel nim dan variabel nama! (40 poin Praktikum)\n",
    "</br></br>\n",
    "Gunakan iterasi dan percabangan. </br>\n",
    "Coding membuat 2 variabel baru, dan 2 output isi variabel. </br>\n",
    "Contoh isi variabel nim = [1,2,3,4] (satu elemen satu angka), variabel nama = [\"A\",\"B\",\"C\",\"D\"] (satu elemen satu huruf)\n",
    "</blockquote>"
   ]
  },
  {
   "cell_type": "code",
   "execution_count": 67,
   "metadata": {},
   "outputs": [
    {
     "name": "stdout",
     "output_type": "stream",
     "text": [
      "0\n",
      "1\n",
      "2\n",
      "3\n",
      "4\n",
      "5\n",
      " \n",
      "0\n",
      "1\n",
      "2\n",
      "3\n",
      "4\n",
      "5\n",
      "6\n",
      "7\n",
      "8\n",
      "9\n",
      "10\n",
      "11\n",
      " \n"
     ]
    }
   ],
   "source": [
    "# Jawaban coding 2A\n",
    "Nama = [\"A\",\"r\",\"f\",\"a\",\"n\",\"s\",\"u\",\"s\",\"a\",\"n\",\"t\",\"o\"] #data string karena ada koma dua atas\n",
    "Nim = [24,11,10,24,41,143] #data list\n",
    "\n",
    "for Nim in range (len(Nim)): #jarak dengan fungsi len(fungsi untuk menghitung per karakter)\n",
    "    print(Nim) #hasil kondisi\n",
    "    \n",
    "print(\" \") #untuk menjarak\n",
    "\n",
    "for Nama in range (len(Nama)): #jarak dengan fungsi len(fungsi untuk menghitung per karakter)\n",
    "    print(Nama)#hasil kondisi\n",
    "\n",
    "print(\" \") #untuk menjarak"
   ]
  },
  {
   "cell_type": "markdown",
   "metadata": {},
   "source": [
    "<blockquote>\n",
    "(2B) Jelaskan coding 2A yang telah anda buat! (40 poin Teori)\n",
    "</blockquote>"
   ]
  },
  {
   "cell_type": "markdown",
   "metadata": {},
   "source": [
    "Jawaban 2B: di dalam list ada data diri nama(bertipe string karena ada koma atas dua) dan di dalam list ada data diri Nim(bertipe list) .lalu ada print buat menampilkan output nya dengan fungsi di dalam print\n",
    "1.lalu ada kondisi dimana ada fungsi method len(),itu berfungsi menghitung jumlah karakter yang ada di dalam data string.\n",
    "2.lalu ada kondisi dimana ada fungsi method len(),itu berfungsi menghitung jumlah karakter yang ada di dalam data list."
   ]
  },
  {
   "cell_type": "markdown",
   "metadata": {},
   "source": [
    "---"
   ]
  },
  {
   "cell_type": "markdown",
   "metadata": {},
   "source": [
    "## Soal 3 (80 Poin, 25 menit)"
   ]
  },
  {
   "cell_type": "markdown",
   "metadata": {},
   "source": [
    "<blockquote>\n",
    "(3A) Buatlah iterasi dan percabangan yang dimana iterasi tersebut mengecek dan  menampilkan bilangan-bilangan GANJIL dari variabel nim (dari soal 2A)! (40 poin Praktikum)\n",
    "</br></br>\n",
    "Gunakan iterasi dan percabangan. </br>\n",
    "Coding menampilkan output dari iterasi. </br>\n",
    "</blockquote>"
   ]
  },
  {
   "cell_type": "code",
   "execution_count": 1,
   "metadata": {},
   "outputs": [
    {
     "name": "stdout",
     "output_type": "stream",
     "text": [
      "ini adalah ganjil :11\n",
      "ini adalah ganjil :41\n",
      "ini adalah ganjil :3\n"
     ]
    }
   ],
   "source": [
    "# Jawaban coding 3A\n",
    "Nim = [24,11,10,24,41,14,3]\n",
    "\n",
    "for angka in Nim:\n",
    "    if angka % 2 != 0 :\n",
    "        print(f\"ini adalah ganjil :{angka}\")"
   ]
  },
  {
   "cell_type": "markdown",
   "metadata": {},
   "source": [
    "<blockquote>\n",
    "(3B) Jelaskan coding 3A yang telah anda buat! (40 poin Teori)\n",
    "</blockquote>"
   ]
  },
  {
   "cell_type": "markdown",
   "metadata": {},
   "source": [
    "Jawaban 3B:di dalam list ada data diri Nim(bertipe list) .lalu ada print buat menampilkan output nya dengan fungsi di dalam print\n",
    "1.lalu ada kondisi untuk menghitung ganjil baru print."
   ]
  },
  {
   "cell_type": "markdown",
   "metadata": {},
   "source": [
    "---"
   ]
  },
  {
   "cell_type": "markdown",
   "metadata": {},
   "source": [
    "## Soal Bonus (maksimal 10 Poin nilai tambahan jika anda mendapatkan nilai <= 50)"
   ]
  },
  {
   "cell_type": "markdown",
   "metadata": {},
   "source": [
    "<blockquote>\n",
    "(Bonus) Jelaskan secara deskriptif dan komprehensif pemahaman anda selama perkuliahan Teori dan Praktikum Dasar Pemrograman!\n",
    "</blockquote>"
   ]
  },
  {
   "cell_type": "markdown",
   "metadata": {},
   "source": [
    "Jawaban Bonus:\n",
    "1.dalam pertemuan 1 menjelaskan tentang pengertian python\n",
    " python merupakan berbasis bahasa pemograman level tinggi(high level language)\n",
    "2.dalam pertemuan 2 menjelaskan tentang fungsi perhitungan\n",
    " python memiliki fungsi perhitungan contoh (+,-,/,dan lain lain)\n",
    "3.dalam pertemuan 3 menjelaskan tentang tipe data dasar\n",
    " python memiliki fungsi untuk mendeklarasikan variabel contoh (len(),min(),max(),dan lain lain)\n",
    "4.dalam pertemuan 4 menjelaskan tentang tipe data dasar\n",
    " python memiliki fungsi untuk melakukan kode tipe data dasar\n",
    "5.dalam pertemuan 5 menjelaskan tentang Iterasi\n",
    " python memiliki fungsi untuk menjelaskan bagaimana fungsi kode iterasi\n",
    "6.dalam pertemuan 6 menjelaskan tentang List\n",
    " di dalam python memiliki fungsi list untuk menjelaskan bagaimana fungsi kode list contoh (append(),remove(),dan lain lain)\n",
    "7.dalam pertemuan 7 menjelaskan tentang tuple\n",
    " di dalam python tuple merupakan sebuah data tidak bisa diubah"
   ]
  },
  {
   "cell_type": "markdown",
   "metadata": {},
   "source": [
    "---"
   ]
  },
  {
   "cell_type": "markdown",
   "metadata": {},
   "source": [
    "## Instruksi Pengumpulan\n",
    "\n",
    "<blockquote>\n",
    "Kumpulkan file ini dengan format berikut:\n",
    "\n",
    "<span style=\"font-family:Comic Sans MS\">\"SOAL_X_NIM.ipynb\"</span> \n",
    "\n",
    "\n",
    "<em> Ganti X dengan tipe soal yang anda dapat sesuai dengan nim! </em>\n",
    "\n",
    "Silahkan kumpulkan di tempat yang telah disediakan.\n",
    "</blockquote>\n",
    "\n",
    "---"
   ]
  }
 ],
 "metadata": {
  "kernelspec": {
   "display_name": "Python 3",
   "language": "python",
   "name": "python3"
  },
  "language_info": {
   "codemirror_mode": {
    "name": "ipython",
    "version": 3
   },
   "file_extension": ".py",
   "mimetype": "text/x-python",
   "name": "python",
   "nbconvert_exporter": "python",
   "pygments_lexer": "ipython3",
   "version": "3.12.6"
  }
 },
 "nbformat": 4,
 "nbformat_minor": 4
}
