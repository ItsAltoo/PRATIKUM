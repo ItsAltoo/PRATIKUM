{
 "cells": [
  {
   "cell_type": "markdown",
   "id": "b3450a5a-c882-48e6-8aae-8be59018aedb",
   "metadata": {
    "id": "b3450a5a-c882-48e6-8aae-8be59018aedb"
   },
   "source": [
    "# Modul Soal Pertemuan 8 - **Set dan Dictionary**\n",
    "\n",
    "**Topik:** Set dan Dictionary dalam Python\n",
    "\n",
    "**Tujuan Pembelajaran:**\n",
    "- Memahami konsep dasar Set dan Dictionary dalam Python.\n",
    "- Mengetahui perbedaan antara Set, List, dan Dictionary.\n",
    "- Mampu menggunakan fungsi dan method yang tersedia untuk Set dan Dictionary.\n",
    "\n",
    "---\n",
    "\n",
    "## 1. **Pendahuluan**\n",
    "\n",
    "### **Set**\n",
    "Set adalah tipe data koleksi yang menyimpan elemen-elemen yang **unik** (tidak ada duplikat) dan tidak terurut. Set didefinisikan dengan tanda kurung kurawal `{}` atau dengan menggunakan fungsi `set()`.\n",
    "\n",
    "**Contoh:**\n",
    "```python\n",
    "# Membuat Set\n",
    "buah = {\"apel\", \"jeruk\", \"mangga\"}\n",
    "```\n",
    "\n",
    "### **Dictionary**\n",
    "Dictionary adalah tipe data koleksi yang menyimpan pasangan **kunci** dan **nilai** (key-value pairs). Setiap kunci dalam Dictionary harus unik. Dictionary didefinisikan dengan tanda kurung kurawal `{}` dengan format `kunci: nilai`.\n",
    "\n",
    "**Contoh:**\n",
    "```python\n",
    "# Membuat Dictionary\n",
    "mahasiswa = {\"nama\": \"Andi\", \"NIM\": \"123456\"}\n",
    "```\n",
    "\n",
    "---\n",
    "\n",
    "## 2. **Tabel Pembahasan Fungsi dan Method pada Set dan Dictionary**\n",
    "\n",
    "### **Set**\n",
    "\n",
    "| **No** | **Fungsi/Method**   | **Penjelasan**                                                                                   | **Contoh Kode**                                                                                                                         |\n",
    "|--------|---------------------|---------------------------------------------------------------------------------------------------|-----------------------------------------------------------------------------------------------------------------------------------------|\n",
    "| 1      | `add()`             | Menambahkan elemen baru ke dalam Set.                                                            | ```python buah = {\"apel\", \"jeruk\"} buah.add(\"mangga\")  # Output: {'apel', 'jeruk', 'mangga'}```                                       |\n",
    "| 2      | `remove()`          | Menghapus elemen dari Set. Jika elemen tidak ada, akan menghasilkan error.                       | ```python buah = {\"apel\", \"jeruk\"} buah.remove(\"jeruk\")  # Output: {'apel'}```                                                       |\n",
    "| 3      | `discard()`         | Menghapus elemen dari Set tanpa menghasilkan error jika elemen tidak ada.                       | ```python buah = {\"apel\", \"jeruk\"} buah.discard(\"mangga\")  # Output: {'apel', 'jeruk'}```                                            |\n",
    "| 4      | `pop()`             | Menghapus dan mengembalikan elemen acak dari Set.                                               | ```python buah = {\"apel\", \"jeruk\"} elemen = buah.pop()  # Output: elemen adalah 'apel' atau 'jeruk' (elemen acak)```                |\n",
    "| 5      | `clear()`           | Menghapus semua elemen dalam Set.                                                                | ```python buah = {\"apel\", \"jeruk\"} buah.clear()  # Output: set()```                                                                   |\n",
    "| 6      | `union()`           | Menggabungkan dua Set dan mengembalikan Set baru dengan elemen unik.                             | ```python set1 = {1, 2, 3} set2 = {3, 4, 5} gabungan = set1.union(set2)  # Output: {1, 2, 3, 4, 5}```                                |\n",
    "| 7      | `intersection()`     | Mengembalikan Set yang berisi elemen yang sama dari dua Set.                                    | ```python set1 = {1, 2, 3} set2 = {2, 3, 4} irisan = set1.intersection(set2)  # Output: {2, 3}```                                   |\n",
    "| 8      | `difference()`      | Mengembalikan elemen yang ada di Set pertama tetapi tidak ada di Set kedua.                     | ```python set1 = {1, 2, 3} set2 = {2, 3, 4} selisih = set1.difference(set2)  # Output: {1}```                                       |\n",
    "| 9      | `symmetric_difference()` | Mengembalikan elemen yang ada di salah satu Set tetapi tidak ada di keduanya.               | ```python set1 = {1, 2, 3} set2 = {2, 3, 4} simetris = set1.symmetric_difference(set2)  # Output: {1, 4}```                        |\n",
    "\n",
    "### **Dictionary**\n",
    "\n",
    "| **No** | **Fungsi/Method**   | **Penjelasan**                                                                                   | **Contoh Kode**                                                                                                                         |\n",
    "|--------|---------------------|---------------------------------------------------------------------------------------------------|-----------------------------------------------------------------------------------------------------------------------------------------|\n",
    "| 1      | `get()`             | Mengambil nilai dari kunci tertentu. Jika kunci tidak ada, mengembalikan `None` atau nilai default. | ```python mahasiswa = {\"nama\": \"Andi\", \"NIM\": \"123456\"} mahasiswa.get(\"nama\")  # Output: 'Andi'```                                 |\n",
    "| 2      | `keys()`            | Mengembalikan semua kunci dalam Dictionary.                                                    | ```python mahasiswa.keys()  # Output: dict_keys(['nama', 'NIM'])```                                                                    |\n",
    "| 3      | `values()`          | Mengembalikan semua nilai dalam Dictionary.                                                   | ```python mahasiswa.values()  # Output: dict_values(['Andi', '123456'])```                                                           |\n",
    "| 4      | `items()`           | Mengembalikan semua pasangan kunci-nilai dalam Dictionary.                                     | ```python mahasiswa.items()  # Output: dict_items([('nama', 'Andi'), ('NIM', '123456')])```                                         |\n",
    "| 5      | `update()`          | Memperbarui nilai kunci yang ada atau menambahkan pasangan kunci-nilai baru.                  | ```python mahasiswa.update({\"jurusan\": \"Informatika\"})  # Output: {'nama': 'Andi', 'NIM': '123456', 'jurusan': 'Informatika'}```    |\n",
    "| 6      | `pop()`             | Menghapus pasangan kunci-nilai berdasarkan kunci dan mengembalikan nilai yang dihapus.         | ```python mahasiswa.pop(\"NIM\")  # Output: '123456'```                                                                                   |\n",
    "| 7      | `clear()`           | Menghapus semua pasangan kunci-nilai dalam Dictionary.                                        | ```python mahasiswa.clear()  # Output: {}```                                                                                           |\n",
    "| 8      | `copy()`            | Membuat salinan dari Dictionary.                                                                | ```python mahasiswa_copy = mahasiswa.copy()  # Output: {'nama': 'Andi', 'NIM': '123456'}```                                          |\n",
    "\n",
    "---\n",
    "\n",
    "## 3. **Perbedaan Set dan Dictionary**\n",
    "\n",
    "| **Set**                        | **Dictionary**                   |\n",
    "|--------------------------------|----------------------------------|\n",
    "| Menyimpan elemen yang unik.    | Menyimpan pasangan kunci-nilai.  |\n",
    "| Didefinisikan dengan `{}`.     | Didefinisikan dengan `{kunci: nilai}`. |\n",
    "| Tidak terurut.                 | Terurut berdasarkan kunci.       |\n",
    "| Tidak memiliki indeks.         | Memiliki kunci sebagai indeks.   |\n",
    "\n",
    "---\n",
    "\n",
    "## 4. **Soal dan Latihan**\n",
    "**Note:** Gunakan logika pemrograman bukan cuman ngikutin gambar. Baca betul-betul apa yang di intruksikan!!\n"
   ]
  },
  {
   "cell_type": "markdown",
   "id": "9502de9f-73ef-4878-b929-0168c571a32b",
   "metadata": {},
   "source": [
    "### **Soal 1 - Operasi Dasar pada Set**\n",
    "**Contoh Kode:**\n",
    "\n",
    "<img src=\"Screenshot (1).png\" alt=\"Deskripsi Gambar\" width=\"250\" style=\"margin-left: 30px;\" />\n",
    "\n",
    "**Instruksi:**\n",
    "1. Buatlah Set berisi jenis-jenis buah.\n",
    "2. Tambahkan satu jenis buah baru menggunakan `add()`.\n",
    "3. Hapus jenis buah tertentu menggunakan `remove()`.\n",
    "4. Tampilkan isi Set setelah setiap operasi.\n",
    "\n",
    "\n",
    "\n",
    "---\n"
   ]
  },
  {
   "cell_type": "code",
   "execution_count": 3,
   "id": "b4beb5da-51a9-47ff-a732-d6cf9247ae74",
   "metadata": {
    "id": "ea6a12c4-1360-4bfe-a05f-4098604926bc"
   },
   "outputs": [],
   "source": [
    "# Ketikan Code Disini lalu Jalankan (Run)\n"
   ]
  },
  {
   "cell_type": "markdown",
   "id": "28e24639-72f7-4d78-8169-b805c5bee744",
   "metadata": {},
   "source": [
    "### **Soal 2 - Operasi Set Lanjutan**\n",
    "**Contoh Kode:**\n",
    "\n",
    "<img src=\"Screenshot (2).png\" alt=\"Deskripsi Gambar\" width=\"350\" style=\"margin-left: 30px;\" />\n",
    "\n",
    "**Instruksi:**\n",
    "1. Buat dua Set berisi angka.\n",
    "2. Temukan gabungan dari kedua Set menggunakan `union()`.\n",
    "3. Temukan irisan dari kedua Set menggunakan `intersection()`.\n",
    "4. Temukan selisih antara kedua Set menggunakan `difference()`.\n",
    "\n",
    "\n",
    "\n",
    "---\n"
   ]
  },
  {
   "cell_type": "code",
   "execution_count": null,
   "id": "b3f87cea-e50a-46fd-820f-bc12703db8da",
   "metadata": {
    "id": "ea6a12c4-1360-4bfe-a05f-4098604926bc"
   },
   "outputs": [],
   "source": [
    "# Ketikan Code Disini lalu Jalankan (Run)\n"
   ]
  },
  {
   "cell_type": "markdown",
   "id": "04451d75-fd5c-418f-b2b3-bfe3ca35497d",
   "metadata": {},
   "source": [
    "\n",
    "### **Soal 3 - Operasi Dasar pada Dictionary**\n",
    "\n",
    "**Contoh Kode:**\n",
    "\n",
    "<img src=\"Screenshot (3).png\" alt=\"Deskripsi Gambar\" width=\"550\" style=\"margin-left: 30px;\" />\n",
    "\n",
    "**Instruksi:**\n",
    "1. Buatlah Dictionary berisi informasi mahasiswa (nama, NIM, jurusan).\n",
    "2. Tampilkan nilai berdasarkan kunci tertentu menggunakan `get()`.\n",
    "3. Tambahkan informasi baru ke Dictionary menggunakan `update()`.\n",
    "4. Hapus informasi menggunakan `pop()`.\n",
    "\n",
    "\n",
    "\n",
    "---\n"
   ]
  },
  {
   "cell_type": "code",
   "execution_count": null,
   "id": "75357d06-3bb8-4b42-94cf-f4b2be24a792",
   "metadata": {
    "id": "ea6a12c4-1360-4bfe-a05f-4098604926bc"
   },
   "outputs": [],
   "source": [
    "# Ketikan Code Disini lalu Jalankan (Run)\n"
   ]
  },
  {
   "cell_type": "markdown",
   "id": "2b0246ff-584f-4484-b52d-18733bcde7ae",
   "metadata": {},
   "source": [
    "\n",
    "### **Soal 4 - Menggunakan Fungsi pada Dictionary**\n",
    "\n",
    "**Contoh Kode:**\n",
    "\n",
    "<img src=\"Screenshot (4).png\" alt=\"Deskripsi Gambar\" width=\"250\" style=\"margin-left: 30px;\" />\n",
    "\n",
    "**Instruksi:**\n",
    "1. Buatlah Dictionary berisi beberapa mahasiswa dengan nama sebagai kunci dan nilai sebagai NIM.\n",
    "2. Tampilkan semua kunci, semua nilai, dan semua pasangan kunci-nilai menggunakan `keys()`, `values()`, dan `items()`.\n",
    "\n",
    "\n",
    "\n",
    "---\n"
   ]
  },
  {
   "cell_type": "code",
   "execution_count": 2,
   "id": "a61ed888-46f5-4412-bffe-22824dc41f1e",
   "metadata": {
    "id": "ea6a12c4-1360-4bfe-a05f-4098604926bc"
   },
   "outputs": [],
   "source": [
    "# Ketikan Code Disini lalu Jalankan (Run)\n"
   ]
  },
  {
   "cell_type": "markdown",
   "id": "79c0a401-ea11-4aa7-918b-ce64613be986",
   "metadata": {},
   "source": [
    "<span style=\"color:red; font-size: 20px;\">\n",
    "<b>Tugas Mandiri </b>\n",
    "</span>\n",
    "\n",
    "- Buatlah aplikasi sederhana untuk mengelola daftar kontak menggunakan Dictionary, yang di mana NIM mahasiswa adalah key dan Nama Mahasiswa adalah value.\n",
    "- Pastikan Anda dapat menambahkan, menghapus, dan menampilkan kontak dengan menggunakan method-method yang telah dipelajari."
   ]
  },
  {
   "cell_type": "code",
   "execution_count": 1,
   "id": "6aad91c5-02b6-445c-9030-466ff345a2cd",
   "metadata": {},
   "outputs": [],
   "source": [
    "# Ketikan Code Disini lalu Jalankan (Run)\n"
   ]
  },
  {
   "cell_type": "code",
   "execution_count": null,
   "id": "93cdda36-f71b-4995-a92f-b5682f5246f6",
   "metadata": {},
   "outputs": [],
   "source": [
    "# Jelaskan Kesimpulan dari Pertemuan kali ini Dengan Format Markdown, Min.3 Baris\n",
    "# Note: nilai plus buat yang masukkan gambar, visualisasi penjelasan, dan table penjelasan\n"
   ]
  }
 ],
 "metadata": {
  "colab": {
   "provenance": []
  },
  "kernelspec": {
   "display_name": "Python 3 (ipykernel)",
   "language": "python",
   "name": "python3"
  },
  "language_info": {
   "codemirror_mode": {
    "name": "ipython",
    "version": 3
   },
   "file_extension": ".py",
   "mimetype": "text/x-python",
   "name": "python",
   "nbconvert_exporter": "python",
   "pygments_lexer": "ipython3",
   "version": "3.12.2"
  },
  "widgets": {
   "application/vnd.jupyter.widget-state+json": {
    "state": {},
    "version_major": 2,
    "version_minor": 0
   }
  }
 },
 "nbformat": 4,
 "nbformat_minor": 5
}
