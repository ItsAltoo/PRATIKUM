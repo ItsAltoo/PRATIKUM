{
  "cells": [
    {
      "cell_type": "markdown",
      "metadata": {},
      "source": [
        "# UJIAN AKHIR SEMESTER (UAS) (TIPE SOAL: A1)\n",
        "# DASAR PEMROGRAMAN (INF1043 & INF1053)\n",
        "## Program Studi Informatika (UMKT)\n",
        "### Semester Ganjil 2024-2025"
      ]
    },
    {
      "cell_type": "markdown",
      "metadata": {},
      "source": [
        "---\n",
        "<strong><em> Visi Prodi TI UMKT:\n",
        "\n",
        "\"Pada tahun 2037, menjadi program studi yang unggul dalam teknologi informasi dan algoritma komputasi untuk penyelesaian permasalahan sosial dan lingkungan dengan berlandaskan nilai-nilai keislaman\"\n",
        " </em></strong>\n",
        "\n",
        "---"
      ]
    },
    {
      "cell_type": "markdown",
      "metadata": {},
      "source": [
        "---\n",
        "<strong><em> Capaian Pembelajaran Mata Kuliah:\n",
        "\n",
        "1.\tMahasiswa mampu memahami konsep dasar bahasa pemrograman dan kontrol alur dalam pemrograman berbahasa Python.\n",
        "2.\tMahasiswa mampu menjelaskan prinsip-prinsip dasar pemrograman berorientasi objek dan penerapannya dalam pemrograman berbahasa Python.\n",
        "\n",
        "</em></strong>\n",
        "\n",
        "---"
      ]
    },
    {
      "cell_type": "markdown",
      "metadata": {},
      "source": [
        "## Instruksi Ujian\n",
        "<blockquote>\n",
        "Durasi Ujian: 90 menit\n",
        "\n",
        "Aturan:\n",
        "- Setiap mahasiswa mendapatkan jenis soal yang berbeda sesuai dengan nim\n",
        "- Sifat ujian tertutup, tidak boleh membuka apapun selain soal ini\n",
        "- Baca dengan teliti instruksi soal sebelum mengerjakan\n",
        "- Isi jawaban di tempat yang telah disediakan\n",
        "- Mahasiswa hanya boleh membawa laptop (boleh memakai komputer lab) dan pulpen (untuk absensi)\n",
        "- Dilarang menggunakan peralatan komunikasi (HP/smartphone)\n",
        "- Mahasiswa masuk kedalam ruangan 10 menit untuk persiapan ujian (komputer/laptop dan download soal)\n",
        "- Mahasiswa yang terlambat tidak akan mendapatkan waktu tambahan\n",
        "- Bagi mahasiswa yang tidak dapat mengikuti ujian, dapat menghadap langsung ke dosen pengampu untuk pengganti ujian dan membawa surat permohonan ujian susulan yang di tanda tangani dosen PA\n",
        "- Bagi mahasiswa yang berbuat kecurangan/kerja sama akan diberikan nilai akhir E. \n",
        "</blockquote>\n",
        "\n",
        "---\n",
        "\n"
      ]
    },
    {
      "cell_type": "markdown",
      "metadata": {},
      "source": [
        "## Identitas Peserta"
      ]
    },
    {
      "cell_type": "markdown",
      "metadata": {},
      "source": [
        "NAMA    : Malik Sabarullah Akbar\n",
        "\n",
        "NIM     : 2411102441250\n",
        "\n",
        "KELAS   : B"
      ]
    },
    {
      "cell_type": "markdown",
      "metadata": {},
      "source": [
        "---"
      ]
    },
    {
      "cell_type": "markdown",
      "metadata": {},
      "source": [
        "## Soal 1 (40 Poin, 20 menit)"
      ]
    },
    {
      "cell_type": "markdown",
      "metadata": {},
      "source": [
        "<blockquote>\n",
        "1(A) Soal Praktikum: Membuat Class Mahasiswa (20 Point Praktikum)\n",
        "\n",
        "Buatlah sebuah class bernama **Mahasiswa** yang memiliki atribut:\n",
        "- **Nama** (string)\n",
        "- **NIM** (string)\n",
        "- **Nilai** (integer)\n",
        "\n",
        "Tambahkan metode **deskripsi()** yang menampilkan informasi lengkap mahasiswa dalam format berikut:\n",
        "\n",
        "```\n",
        "Nama: [Nama Mahasiswa]\n",
        "NIM: [NIM Mahasiswa]\n",
        "Nilai: [Menggunakan nilai yang anda harapkan]\n",
        "```\n",
        "\n",
        "Kemudian, buatlah objek dari class tersebut dengan atribut berikut:\n",
        "- **Nama**: Masukkan nama Anda\n",
        "- **NIM**: Masukkan NIM Anda\n",
        "- **Nilai**:menggunakan nilai yang anda harapkan*.\n",
        "\n",
        "Tampilkan deskripsi menggunakan metode **deskripsi()**.\n",
        "\n",
        "</blockquote>"
      ]
    },
    {
      "cell_type": "code",
      "execution_count": 2,
      "metadata": {},
      "outputs": [
        {
          "name": "stdout",
          "output_type": "stream",
          "text": [
            " \n",
            "              Nama : Malik Sabarullah Akbar\n",
            "              NIM : 2411102441250\n",
            "              Nilai : 100\n",
            "              \n",
            "None\n"
          ]
        }
      ],
      "source": [
        "# Jawaban coding 1A\n",
        "class Mahasiswa:\n",
        "    def __init__(self,nama:str,nim:str,nilai: int):\n",
        "        self.nama = nama\n",
        "        self.nim = nim\n",
        "        self.nilai = nilai\n",
        "        \n",
        "    def deskripsi(self):\n",
        "        print(f\"\"\" \n",
        "              Nama : {self.nama}\n",
        "              NIM : {self.nim}\n",
        "              Nilai : {self.nilai}\n",
        "              \"\"\")\n",
        "        \n",
        "objek = Mahasiswa('Malik Sabarullah Akbar','2411102441250',100)\n",
        "print(objek.deskripsi())"
      ]
    },
    {
      "cell_type": "markdown",
      "metadata": {},
      "source": [
        "<blockquote>\n",
        "(1B) Jelaskan coding 1A yang telah anda buat! (20 poin Teori)\n",
        "</blockquote>"
      ]
    },
    {
      "cell_type": "code",
      "execution_count": null,
      "metadata": {},
      "outputs": [],
      "source": []
    },
    {
      "cell_type": "markdown",
      "metadata": {},
      "source": [
        "Jawaban 1B: pada class  mahasiswa yang memiliki construktor dengan atribut nama,nim,dan nilai yang mana di setiap atribut memiliki type hint masing-masing.\n",
        "pada di class Mahasiswa memiliki method `deskripsi()` yang dmna method tersebut untuk menampilkan isi dari data yang kita masukkan ke instance objek `objek = Mahasiswa('Malik Sabarullah Akbar','2411102441250',100)`\n"
      ]
    },
    {
      "cell_type": "markdown",
      "metadata": {},
      "source": [
        "---"
      ]
    },
    {
      "cell_type": "markdown",
      "metadata": {},
      "source": [
        "## Soal 2 (80 Poin, 40 menit)"
      ]
    },
    {
      "cell_type": "markdown",
      "metadata": {},
      "source": [
        "<blockquote>\n",
        "Buatlah sebuah class bernama `Penilaian` yang merupakan turunan (inheritance) dari class `Mahasiswa`. Class ini memiliki tambahan metode berikut:\n",
        " (40 point praktikum)\n",
        "\n",
        "1. **grade_nilai()**  \n",
        "  Metode ini akan mengubah atribut **Nilai** menjadi **Grade** dengan ketentuan berikut:\n",
        "  - **A**: 100 – 85  \n",
        "  - **B**: 84 – 70  \n",
        "  - **C**: 69 – 55  \n",
        "  - **D**: 54 – 40  \n",
        "  - **E**: < 40  \n",
        "\n",
        "2. **tampilkan_penilaian()**  \n",
        "  Metode ini berfungsi untuk menampilkan deskripsi lengkap mahasiswa, termasuk nilai huruf (grade), dengan format berikut:  \n",
        "```\n",
        "Nama: [Nama Mahasiswa]\n",
        "NIM: [NIM Mahasiswa]\n",
        "Nilai: [Nilai Angka]\n",
        "Grade: [Nilai Huruf]\n",
        "```\n",
        "\n",
        "   - Panggil metode `nilai_absensi()` untuk menghitung kategori absensi berdasarkan jumlah hari alfa.\n",
        "   - Tampilkan deskripsi lengkap menggunakan `tampilkan_penilaian()`.\n",
        "</blockquote>"
      ]
    },
    {
      "cell_type": "code",
      "execution_count": 28,
      "metadata": {},
      "outputs": [
        {
          "name": "stdout",
          "output_type": "stream",
          "text": [
            " \n",
            "              Nama : Malik Sabarullah Akbar\n",
            "              NIM : 2411102441250\n",
            "              Nilai : 90\n",
            "              Grade : Anda Grade A\n",
            "              \n",
            "None\n"
          ]
        }
      ],
      "source": [
        "# Jawaban coding 2A\n",
        "class Mahasiswa:\n",
        "    def __init__(self,nama:str,nim:str,nilai: int):\n",
        "        self.nama = nama\n",
        "        self.nim = nim\n",
        "        self.nilai = nilai\n",
        "        \n",
        "    def deskripsi(self):\n",
        "        print(f\"\"\" \n",
        "              Nama : {self.nama}\n",
        "              NIM : {self.nim}\n",
        "              Nilai : {self.nilai}\n",
        "              \"\"\")\n",
        "        \n",
        "\n",
        "class Penilaian(Mahasiswa):\n",
        "    def __init__(self, nama, nim, nilai,alfa):\n",
        "        super().__init__(nama, nim, nilai)\n",
        "        self.alfa = alfa\n",
        "    \n",
        "    \n",
        "    def grade_nilai(self):\n",
        "        nilai = self.nilai\n",
        "        if nilai >= 85:\n",
        "            return 'Anda Grade A'\n",
        "        elif nilai >= 70:\n",
        "            return'Anda Grade B'\n",
        "        elif nilai >= 55:\n",
        "            return'Anda Grade C'\n",
        "        elif nilai >= 54:\n",
        "            return'Anda Grade D'\n",
        "        else:\n",
        "            return'Anda Grade E'\n",
        "        \n",
        "    def tampilkan_penilaian(self):\n",
        "        print(f\"\"\" \n",
        "              Nama : {self.nama}\n",
        "              NIM : {self.nim}\n",
        "              Nilai : {self.nilai}\n",
        "              Grade : {self.grade_nilai()}\n",
        "              \"\"\")\n",
        "    \n",
        "    def nilai_absensi(self):\n",
        "        print(f'Jumlah alfa : {self.alfa}')\n",
        "        \n",
        "data = Penilaian('Malik Sabarullah Akbar','2411102441250',90,2)\n",
        "print(data.tampilkan_penilaian())"
      ]
    },
    {
      "cell_type": "markdown",
      "metadata": {},
      "source": [
        "<blockquote>\n",
        "(2B) Jelaskan coding 2A yang telah anda buat! (40 poin Teori)\n",
        "</blockquote>"
      ]
    },
    {
      "cell_type": "code",
      "execution_count": null,
      "metadata": {},
      "outputs": [],
      "source": []
    },
    {
      "cell_type": "markdown",
      "metadata": {},
      "source": [
        "Jawaban 2B: pada class Parent atau `class Mahasiswa` yang memiliki atribut\",yang dimana akan di wariskan (inheritance) ke child class atau `class Penilaian(Mahasiswa)`,dengan method `super()` agar bisa menggambil atribut constructor pada class Parent,Method `grade_nilai()` pada class `Penilaian` menghitung kondisi pada nilai untuk menampilkan Grade setiap nilai yang di masukkan,dan me-return Grade.method `tampilkan_penilaian()`\n",
        "menampilkan isi dari nama,nim,nilai,dan grade yang telah di masukkan.method `nilai_absensi()`"
      ]
    },
    {
      "cell_type": "markdown",
      "metadata": {},
      "source": [
        "---"
      ]
    },
    {
      "cell_type": "markdown",
      "metadata": {},
      "source": [
        "## Soal 3 (80 Poin, 30 menit)"
      ]
    },
    {
      "cell_type": "markdown",
      "metadata": {},
      "source": [
        "<blockquote>\n",
        "Modifikasi kode Anda dari Soal 2 sehingga hasil dari metode tampilkan_penilaian() dapat disimpan ke dalam file teks dengan nama hasil_penilaian.txt (file handling).. (40 poin Praktikum)\n",
        "</blockquote>"
      ]
    },
    {
      "cell_type": "code",
      "execution_count": 29,
      "metadata": {},
      "outputs": [
        {
          "name": "stdout",
          "output_type": "stream",
          "text": [
            " \n",
            "              Nama : Malik Sabarullah Akbar\n",
            "              NIM : 2411102441250\n",
            "              Nilai : 55\n",
            "              Grade : Anda Grade C\n",
            "              \n",
            "None\n"
          ]
        }
      ],
      "source": [
        "# Jawaban coding 3A\n",
        "class Mahasiswa:\n",
        "    def __init__(self,nama:str,nim:str,nilai: int):\n",
        "        self.nama = nama\n",
        "        self.nim = nim\n",
        "        self.nilai = nilai\n",
        "        \n",
        "    def deskripsi(self):\n",
        "        print(f\"\"\" \n",
        "              Nama : {self.nama}\n",
        "              NIM : {self.nim}\n",
        "              Nilai : {self.nilai}\n",
        "              \"\"\")\n",
        "    def grade_nilai(self):\n",
        "        nilai = self.nilai\n",
        "        if nilai >= 85:\n",
        "            return 'Anda Grade A'\n",
        "        elif nilai >= 70:\n",
        "            return'Anda Grade B'\n",
        "        elif nilai >= 55:\n",
        "            return'Anda Grade C'\n",
        "        elif nilai >= 54:\n",
        "            return'Anda Grade D'\n",
        "        else:\n",
        "            return'Anda Grade E'\n",
        "\n",
        "class Penilaian(Mahasiswa):\n",
        "    def __init__(self, nama, nim, nilai,alfa):\n",
        "        super().__init__(nama, nim, nilai)\n",
        "        self.alfa = alfa\n",
        "    \n",
        "    \n",
        "    \n",
        "        \n",
        "    def tampilkan_penilaian(self):\n",
        "        with open('hasil_penilaian.txt','a') as file:\n",
        "            file.write(f\"\"\" \n",
        "              Nama : {self.nama}\n",
        "              NIM : {self.nim}\n",
        "              Nilai : {self.nilai}\n",
        "              Grade : {self.grade_nilai()}\n",
        "              \"\"\")\n",
        "        print(f\"\"\" \n",
        "              Nama : {self.nama}\n",
        "              NIM : {self.nim}\n",
        "              Nilai : {self.nilai}\n",
        "              Grade : {self.grade_nilai()}\n",
        "              \"\"\")\n",
        "    \n",
        "    def nilai_absensi(self):\n",
        "        print(f'Jumlah alfa : {self.alfa}')\n",
        "        \n",
        "data = Penilaian('Malik Sabarullah Akbar','2411102441250',55,2)\n",
        "print(data.tampilkan_penilaian())"
      ]
    },
    {
      "cell_type": "markdown",
      "metadata": {},
      "source": [
        "<blockquote>\n",
        "(3B) Jelaskan coding 3A yang telah anda buat! (40 poin Teori)\n",
        "</blockquote>"
      ]
    },
    {
      "cell_type": "markdown",
      "metadata": {},
      "source": [
        "Jawaban 3B: pada method `tampilkan_penilaian()` memiliki tambahan file handling yang menambahkan output ke file .txt,dengan type append `'a'`"
      ]
    },
    {
      "cell_type": "markdown",
      "metadata": {},
      "source": [
        "---"
      ]
    },
    {
      "cell_type": "markdown",
      "metadata": {},
      "source": [
        "## Soal Bonus (maksimal 10 Poin nilai tambahan jika anda mendapatkan nilai <= 50)"
      ]
    },
    {
      "cell_type": "markdown",
      "metadata": {},
      "source": [
        "<blockquote>\n",
        "(Bonus) Jelaskan secara deskriptif dan komprehensif pemahaman anda Mengenai File Handling!\n",
        "</blockquote>"
      ]
    },
    {
      "cell_type": "markdown",
      "metadata": {},
      "source": [
        "Jawaban Bonus: file handling menurut saya adalah metode untuk membuat file dan membaca file yang ingin kita buat dengan cara `with open('file.txt','a')as file` atau dengan cara `file = open('file.txt','a')`.file handling memiliki 3 type,`'a'` : append , `'r'` : read , `'w'` : write"
      ]
    },
    {
      "cell_type": "markdown",
      "metadata": {},
      "source": [
        "---"
      ]
    },
    {
      "cell_type": "markdown",
      "metadata": {},
      "source": [
        "## Instruksi Pengumpulan\n",
        "\n",
        "<blockquote>\n",
        "Kumpulkan file ini dengan format berikut:\n",
        "\n",
        "<span style=\"font-family:Comic Sans MS\">\"SOAL_X_NIM.ipynb\"</span> \n",
        "\n",
        "\n",
        "<em> Ganti X dengan tipe soal yang anda dapat sesuai dengan nim! </em>\n",
        "\n",
        "Silahkan kumpulkan di tempat yang telah disediakan.\n",
        "</blockquote>\n",
        "\n",
        "---"
      ]
    }
  ],
  "metadata": {
    "kernelspec": {
      "display_name": "Python 3",
      "language": "python",
      "name": "python3"
    },
    "language_info": {
      "codemirror_mode": {
        "name": "ipython",
        "version": 3
      },
      "file_extension": ".py",
      "mimetype": "text/x-python",
      "name": "python",
      "nbconvert_exporter": "python",
      "pygments_lexer": "ipython3",
      "version": "3.13.0"
    }
  },
  "nbformat": 4,
  "nbformat_minor": 4
}
