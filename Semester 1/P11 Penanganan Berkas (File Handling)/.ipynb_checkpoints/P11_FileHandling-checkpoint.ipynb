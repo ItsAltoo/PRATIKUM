{
 "cells": [
  {
   "cell_type": "markdown",
   "id": "b3450a5a-c882-48e6-8aae-8be59018aedb",
   "metadata": {
    "id": "b3450a5a-c882-48e6-8aae-8be59018aedb"
   },
   "source": [
    "# **Modul Pertemuan 12: Penanganan Berkas (File Handling)**\n",
    "\n",
    "## **Pembahasan**\n",
    "\n",
    "### **1. Apa itu Penanganan Berkas?**\n",
    "\n",
    "Penanganan berkas adalah proses melakukan operasi pada berkas di sistem penyimpanan, seperti membuka, membaca, menulis, dan menghapus berkas. Dalam Python, kita dapat menggunakan fungsi built-in seperti `open()`, `read()`, `write()`, dan `close()` untuk menangani berkas.\n",
    "\n",
    "### **2. Membuka Berkas**\n",
    "\n",
    "Untuk membuka berkas, kita menggunakan fungsi `open()`, yang memerlukan nama berkas dan mode akses (misalnya, \"r\" untuk membaca, \"w\" untuk menulis, dan \"a\" untuk menambahkan).\n",
    "\n",
    "Contoh membuka berkas:\n",
    "```python\n",
    "file_handling = open(\"contoh.txt\", \"r\")\n",
    "```\n",
    "\n",
    "### **3. Membaca Berkas**\n",
    "\n",
    "Setelah membuka berkas, kita dapat membaca isinya menggunakan beberapa metode:\n",
    "\n",
    "- **Membaca seluruh isi berkas:**\n",
    "    ```python\n",
    "    isi_teks = file_handling.read()\n",
    "    print(isi_teks)\n",
    "    ```\n",
    "\n",
    "- **Membaca baris per baris:**\n",
    "    ```python\n",
    "    for baris in file_handling:\n",
    "        print(baris)\n",
    "    ```\n",
    "\n",
    "- **Membaca dalam bentuk list:**\n",
    "    ```python\n",
    "    list_baris = file_handling.readlines()\n",
    "    ```\n",
    "\n",
    "### **4. Menulis Berkas**\n",
    "\n",
    "Untuk menulis ke dalam berkas, kita membuka berkas dengan mode \"w\" atau \"a\".\n",
    "\n",
    "Contoh menulis ke dalam berkas:\n",
    "```python\n",
    "file_handling = open(\"contoh.txt\", \"w\")\n",
    "file_handling.write(\"Contoh 1\\n\")\n",
    "```\n",
    "\n",
    "Jika kita ingin menambahkan data tanpa menghapus data yang ada, kita menggunakan mode \"a\":\n",
    "```python\n",
    "file_handling = open(\"contoh.txt\", \"a\")\n",
    "file_handling.write(\"Data baru\\n\")\n",
    "```\n",
    "\n",
    "### **5. Menutup Berkas**\n",
    "\n",
    "Setelah selesai melakukan operasi pada berkas, kita harus menutup berkas tersebut dengan metode `close()`:\n",
    "```python\n",
    "file_handling.close()\n",
    "```\n",
    "\n",
    "---\n",
    "\n",
    "## **Tugas**\n",
    "**Note:** Gunakan logika pemrograman bukan cuman ngikutin gambar. Baca betul-betul apa yang di intruksikan!!"
   ]
  },
  {
   "attachments": {},
   "cell_type": "markdown",
   "id": "e989c82b-4c5e-4eaf-9152-4a4c9a494b65",
   "metadata": {},
   "source": [
    "### **Soal 1: Membaca dan Menulis Berkas**\n",
    "\n",
    "#### **Instruksi:**\n",
    "1. **Program Pertama:**\n",
    "   Buatlah program Python yang menampilkan nama lengkap dan NIM Anda, lalu simpan informasi ini ke dalam berkas bernama `data_diri.txt`.\n",
    "   \n",
    "   Contoh kode:\n",
    "<img src=\"Screenshot (1).png\" alt=\"Deskripsi Gambar\" width=\"350\" style=\"margin-left: 30px;\" />\n",
    "\n",
    "2. **Program Kedua:**\n",
    "   Buatlah program yang membuka dan membaca isi dari berkas `data_diri.txt`, dan tampilkan isinya ke layar.\n",
    "   \n",
    "   Contoh kode:\n",
    "<img src=\"Screenshot (2).png\" alt=\"Deskripsi Gambar\" width=\"350\" style=\"margin-left: 30px;\" />\n",
    "\n",
    "3. **Tugas:**\n",
    "   - Jelaskan fungsi dari setiap baris kode dalam program kedua.\n",
    "\n",
    "---\n",
    "\n"
   ]
  },
  {
   "cell_type": "code",
   "execution_count": 3,
   "id": "b4beb5da-51a9-47ff-a732-d6cf9247ae74",
   "metadata": {
    "id": "ea6a12c4-1360-4bfe-a05f-4098604926bc"
   },
   "outputs": [],
   "source": [
    "# Ketikan Code Disini lalu Jalankan (Run)\n"
   ]
  },
  {
   "cell_type": "markdown",
   "id": "28e24639-72f7-4d78-8169-b805c5bee744",
   "metadata": {},
   "source": [
    "### **Soal 2: Menulis Data ke dalam Berkas**\n",
    "\n",
    "#### **Instruksi:**\n",
    "1. **Program Pertama:**\n",
    "   Buatlah program yang menulis data daftar nama ke dalam berkas `daftar_nama.txt` menggunakan mode \"w\".\n",
    "   \n",
    "   Contoh kode:\n",
    "<img src=\"Screenshot (3).png\" alt=\"Deskripsi Gambar\" width=\"450\" style=\"margin-left: 30px;\" />\n",
    "\n",
    "2. **Program Kedua:**\n",
    "   Buatlah program yang membuka berkas `daftar_nama.txt`, membaca isinya, dan menampilkannya ke layar.\n",
    "   \n",
    "   Contoh kode:\n",
    "<img src=\"Screenshot (4).png\" alt=\"Deskripsi Gambar\" width=\"450\" style=\"margin-left: 30px;\" />\n",
    "\n",
    "3. **Tugas:**\n",
    "   - Berikan keterangan penjelasan dari setiap baris kode dalam program kedua.\n",
    "\n",
    "---\n",
    "\n"
   ]
  },
  {
   "cell_type": "code",
   "execution_count": null,
   "id": "b3f87cea-e50a-46fd-820f-bc12703db8da",
   "metadata": {
    "id": "ea6a12c4-1360-4bfe-a05f-4098604926bc"
   },
   "outputs": [],
   "source": [
    "# Ketikan Code Disini lalu Jalankan (Run)\n"
   ]
  },
  {
   "cell_type": "markdown",
   "id": "04451d75-fd5c-418f-b2b3-bfe3ca35497d",
   "metadata": {},
   "source": [
    "### **Soal 3: Mengupdate Data dalam Berkas**\n",
    "\n",
    "#### **Instruksi:**\n",
    "1. **Program Pertama:**\n",
    "   Buatlah program yang menambahkan satu nama baru ke dalam berkas `daftar_nama.txt` tanpa menghapus data sebelumnya menggunakan mode \"a\".\n",
    "   \n",
    "   Contoh kode:\n",
    "<img src=\"Screenshot (5).png\" alt=\"Deskripsi Gambar\" width=\"350\" style=\"margin-left: 30px;\" />\n",
    "\n",
    "2. **Program Kedua:**\n",
    "   Buatlah program untuk membuka dan membaca isi berkas `daftar_nama.txt` setelah penambahan, dan tampilkan hasilnya.\n",
    "   \n",
    "   Contoh kode:\n",
    "<img src=\"Screenshot (6).png\" alt=\"Deskripsi Gambar\" width=\"350\" style=\"margin-left: 30px;\" />\n",
    "\n",
    "3. **Tugas:**\n",
    "   - Berikan keterangan penjelasan dari setiap baris kode dalam program kedua.\n",
    "\n",
    "---\n",
    "\n"
   ]
  },
  {
   "cell_type": "code",
   "execution_count": null,
   "id": "75357d06-3bb8-4b42-94cf-f4b2be24a792",
   "metadata": {
    "id": "ea6a12c4-1360-4bfe-a05f-4098604926bc"
   },
   "outputs": [],
   "source": [
    "# Ketikan Code Disini lalu Jalankan (Run)\n"
   ]
  },
  {
   "cell_type": "markdown",
   "id": "2b0246ff-584f-4484-b52d-18733bcde7ae",
   "metadata": {},
   "source": [
    "### **Soal 4: Menghapus Berkas**\n",
    "\n",
    "#### **Instruksi:**\n",
    "1. Buatlah program untuk menghapus berkas `data_diri.txt` dan `daftar_nama.txt`.\n",
    "   \n",
    "   Contoh kode:\n",
    "  <img src=\"Screenshot (7).png\" alt=\"Deskripsi Gambar\" width=\"350\" style=\"margin-left: 30px;\" />\n",
    "\n",
    "2. Pastikan berkas sudah dihapus dan tampilkan pesan konfirmasi ke layar.\n",
    "\n",
    "3. **Tugas:**\n",
    "   - Jelaskan setiap baris kode dalam program penghapusan berkas.\n",
    "\n",
    "---"
   ]
  },
  {
   "cell_type": "code",
   "execution_count": null,
   "id": "a61ed888-46f5-4412-bffe-22824dc41f1e",
   "metadata": {
    "id": "ea6a12c4-1360-4bfe-a05f-4098604926bc"
   },
   "outputs": [],
   "source": [
    "# Ketikan Code Disini lalu Jalankan (Run)\n"
   ]
  },
  {
   "cell_type": "markdown",
   "id": "a0730a34-46dd-41ec-8afe-5e0f73823acf",
   "metadata": {},
   "source": [
    "<span style=\"color:red; font-size: 20px;\">\n",
    "<b>Tugas Mandiri Terakhir: Implementasi Penanganan Berkas </b>\n",
    "</span>\n",
    "\n",
    "### **Catatan Penting**\n",
    "1. **Keaslian Kode:**\n",
    "   - Anda diwajibkan membuat program sendiri. **Dilarang menyalin (copy-paste) kode dari teman atau sumber lain.**\n",
    "   - Jika ditemukan pelanggaran, Anda akan dikenakan sanksi akademik sesuai kesepakatan awal.\n",
    "\n",
    "2. **Bonus Nilai:**\n",
    "   - Jika Anda menggunakan konsep **OOP (Object-Oriented Programming)** dalam program, Anda akan mendapatkan **nilai tambahan**.\n",
    "\n",
    "---\n",
    "\n",
    "### **Bagian 1: Menyimpan Data Pribadi**\n",
    "1. **Deskripsi:**\n",
    "   - Buatlah class `DataMahasiswa` dengan metode untuk:\n",
    "     - Menyimpan nama lengkap dan NIM ke dalam file `data_mahasiswa.txt`.\n",
    "     - Menampilkan pesan konfirmasi setelah data berhasil disimpan.\n",
    "\n",
    "2. **Persyaratan:**\n",
    "   - Jika file sudah ada, tambahkan data baru tanpa menghapus data lama.\n",
    "\n",
    "3. **Contoh Output:**\n",
    "   ```\n",
    "   Masukkan Nama Lengkap: John Doe\n",
    "   Masukkan NIM: 12345678\n",
    "   Data berhasil disimpan ke dalam data_mahasiswa.txt.\n",
    "   ```\n",
    "\n",
    "---\n",
    "\n",
    "### **Bagian 2: Membaca Data Pribadi**\n",
    "1. **Deskripsi:**\n",
    "   - Buatlah class `BacaData` dengan metode untuk:\n",
    "     - Membaca isi file `data_mahasiswa.txt` dan menampilkan data dalam format:\n",
    "       ```\n",
    "       Nama Lengkap: John Doe, NIM: 12345678\n",
    "       Nama Lengkap: Jane Smith, NIM: 87654321\n",
    "       ```\n",
    "\n",
    "2. **Persyaratan:**\n",
    "   - Jika file tidak ditemukan, tampilkan pesan: \"File tidak ditemukan.\"\n",
    "\n",
    "---\n",
    "\n",
    "### **Bagian 3: Mengelola Daftar Kehadiran**\n",
    "1. **Deskripsi:**\n",
    "   - Buatlah class `Kehadiran` dengan metode untuk:\n",
    "     - Menyimpan daftar kehadiran mahasiswa ke dalam file `kehadiran.txt`.\n",
    "     - Menerima input nama dan status kehadiran (Hadir/Tidak Hadir).\n",
    "     - Menampilkan daftar kehadiran.\n",
    "\n",
    "2. **Persyaratan:**\n",
    "   - Data harus disimpan dalam format berikut:\n",
    "     ```\n",
    "     John Doe - Hadir\n",
    "     Jane Smith - Tidak Hadir\n",
    "     ```\n",
    "\n",
    "---\n",
    "\n",
    "### **Bagian 4: Memperbarui Data Kehadiran**\n",
    "1. **Deskripsi:**\n",
    "   - Tambahkan metode pada class `Kehadiran` untuk:\n",
    "     - Menambahkan data baru ke file `kehadiran.txt` tanpa menghapus data lama.\n",
    "     - Mengecek apakah nama tertentu sudah ada di file.\n",
    "     - Jika nama sudah ada, tampilkan pesan: \"Nama sudah ada di daftar.\"\n",
    "\n",
    "2. **Persyaratan:**\n",
    "   - Tampilkan daftar kehadiran setelah data baru ditambahkan.\n",
    "\n",
    "---\n",
    "\n",
    "### **Bagian 5: Menghapus File**\n",
    "1. **Deskripsi:**\n",
    "   - Buatlah class `FileManager` dengan metode untuk:\n",
    "     - Menghapus file tertentu (misalnya `kehadiran.txt` atau `data_mahasiswa.txt`) jika sudah tidak diperlukan.\n",
    "     - Memastikan ada konfirmasi dari pengguna sebelum file dihapus.\n",
    "\n",
    "2. **Contoh Output:**\n",
    "   ```\n",
    "   Apakah Anda yakin ingin menghapus file kehadiran.txt? (y/n): y\n",
    "   File berhasil dihapus.\n",
    "   ```\n",
    "\n",
    "---\n",
    "\n",
    "**Catatan Akhir:** \n",
    "- Buat dalam 1 output (program menu terstruktur)\n",
    "- Jika ada pertanyaan, silakan diskusi dengan dosen sebelum batas akhir pengumpulan. Jangan menunda!"
   ]
  },
  {
   "cell_type": "code",
   "execution_count": null,
   "id": "87ec68e9-f1ef-4bf7-8100-00328ef11876",
   "metadata": {
    "id": "ea6a12c4-1360-4bfe-a05f-4098604926bc"
   },
   "outputs": [],
   "source": [
    "# Ketikan Code Disini lalu Jalankan (Run)\n"
   ]
  },
  {
   "cell_type": "code",
   "execution_count": null,
   "id": "93cdda36-f71b-4995-a92f-b5682f5246f6",
   "metadata": {},
   "outputs": [],
   "source": [
    "# Jelaskan  Kesimpulan dari Pertemuan kali ini Dengan Format Markdown, Min.3 Baris\n",
    "# Note: nilai plus buat yang masukkan gambar, visualisasi penjelasan, dan table penjelasan\n"
   ]
  }
 ],
 "metadata": {
  "colab": {
   "provenance": []
  },
  "kernelspec": {
   "display_name": "Python 3 (ipykernel)",
   "language": "python",
   "name": "python3"
  },
  "language_info": {
   "codemirror_mode": {
    "name": "ipython",
    "version": 3
   },
   "file_extension": ".py",
   "mimetype": "text/x-python",
   "name": "python",
   "nbconvert_exporter": "python",
   "pygments_lexer": "ipython3",
   "version": "3.12.2"
  },
  "widgets": {
   "application/vnd.jupyter.widget-state+json": {
    "state": {},
    "version_major": 2,
    "version_minor": 0
   }
  }
 },
 "nbformat": 4,
 "nbformat_minor": 5
}
