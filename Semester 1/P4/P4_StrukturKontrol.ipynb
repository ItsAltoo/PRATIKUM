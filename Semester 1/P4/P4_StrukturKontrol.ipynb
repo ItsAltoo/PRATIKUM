{
 "cells": [
  {
   "cell_type": "markdown",
   "id": "b3450a5a-c882-48e6-8aae-8be59018aedb",
   "metadata": {
    "id": "b3450a5a-c882-48e6-8aae-8be59018aedb"
   },
   "source": [
    "\n",
    "# Praktikum 4: Struktur Kontrol\n",
    "\n",
    "## Tujuan Pembelajaran\n",
    "- Mengimplementasikan struktur kontrol dalam Python 3.\n",
    "\n",
    "## Pokok Bahasan\n",
    "- If statements\n",
    "- Elif statements\n",
    "- Else statements\n",
    "- Nested control structures\n",
    "- One-line control structures\n",
    "\n",
    "Pada praktikum ini, Anda akan berlatih menggunakan struktur kontrol di dalam bahasa Python untuk menyelesaikan beberapa skenario pemrograman.\n"
   ]
  },
  {
   "attachments": {},
   "cell_type": "markdown",
   "id": "e989c82b-4c5e-4eaf-9152-4a4c9a494b65",
   "metadata": {},
   "source": [
    "\n",
    "### Percobaan 4.1: Menggunakan If Statement\n",
    "\n",
    "Buatlah program yang meminta input umur dari pengguna dan menampilkan pesan \"Anda masih muda!\" jika umur yang diinput kurang dari 30.\n",
    "\n",
    "#### Soal:\n",
    "1. Tuliskan program sesuai dengan deskripsi di atas.\n",
    "2. Berikan penjelasan mengenai output yang dihasilkan.\n",
    "3. Apa yang terjadi jika nilai yang diinput lebih dari atau sama dengan 30?\n",
    "\n",
    "<img src=\"Screenshot (1).png\" alt=\"Deskripsi Gambar\" width=\"450\" style=\"margin-left: 30px;\" />\n",
    "\n"
   ]
  },
  {
   "cell_type": "code",
   "execution_count": 6,
   "id": "b4beb5da-51a9-47ff-a732-d6cf9247ae74",
   "metadata": {
    "id": "ea6a12c4-1360-4bfe-a05f-4098604926bc"
   },
   "outputs": [
    {
     "name": "stdout",
     "output_type": "stream",
     "text": [
      "Umur anda di bawah 30,anda 12 tahun masih muda!\n"
     ]
    }
   ],
   "source": [
    "# Ketikan Code Disini lalu Jalankan (Run)\n",
    "umur = int(input(\"Berapakah umur anda? \"))\n",
    "\n",
    "if umur < 30:\n",
    "    print(f\"Umur anda di bawah 30,anda {umur} tahun masih muda!\") \n",
    "else:\n",
    "    print(f\"Umur anda di atas 30,anda {umur} tahun susah tua!\")\n",
    "    \n",
    "\"\"\" \n",
    "-pada variable umur berinput angka 25\n",
    "--jika umur yang anda masukkan kurang dari 30,maka hasilnya true\n",
    "---jika true aksi yang true akan di tampilkan\n",
    "--jika umur yang anda masukkan lebih dari 30,maka hasilnya false\n",
    "---jika false aksi yang false akan di tampilkan\n",
    "\"\"\"\n"
   ]
  },
  {
   "cell_type": "markdown",
   "id": "28e24639-72f7-4d78-8169-b805c5bee744",
   "metadata": {},
   "source": [
    "\n",
    "### Percobaan 4.2: Menggunakan If, Elif, dan Else\n",
    "\n",
    "Buatlah program yang meminta input usia pengguna dan menampilkan kategori usia mereka sebagai berikut:\n",
    "- 0-12 tahun: Anak-anak\n",
    "- 13-19 tahun: Remaja\n",
    "- 20-59 tahun: Dewasa\n",
    "- 60 tahun ke atas: Lansia\n",
    "\n",
    "#### Soal:\n",
    "1. Buat program dengan menggunakan if, elif, dan else.\n",
    "2. Berikan penjelasan mengenai setiap kondisi.\n",
    "3. Tampilkan hasilnya dan beri komentar.\n",
    "\n",
    "<img src=\"Screenshot (2).png\" alt=\"Deskripsi Gambar\" width=\"450\" style=\"margin-left: 30px;\" />\n"
   ]
  },
  {
   "cell_type": "code",
   "execution_count": 16,
   "id": "b3f87cea-e50a-46fd-820f-bc12703db8da",
   "metadata": {
    "id": "ea6a12c4-1360-4bfe-a05f-4098604926bc"
   },
   "outputs": [
    {
     "name": "stdout",
     "output_type": "stream",
     "text": [
      "umur anda 12,anda masih anak-anak\n"
     ]
    },
    {
     "data": {
      "text/plain": [
       "' \\n-variable usia yang memiliki angka 12 bertype int\\n--jika nilai lebih kecil sama dengan 12,maka\\n'"
      ]
     },
     "execution_count": 16,
     "metadata": {},
     "output_type": "execute_result"
    }
   ],
   "source": [
    "# Ketikan Code Disini lalu Jalankan (Run)\n",
    "usia = int(input(\"Berapakah umur anda? \"))\n",
    "\n",
    "if usia <= 12:\n",
    "    print(f\"umur anda {usia},anda masih anak-anak\")\n",
    "elif usia <= 19:\n",
    "    print(f\"umur anda {usia},anda seorang remaja\")\n",
    "elif usia <= 59:\n",
    "    print(f\"umur anda {usia},anda seorang dewasa\")\n",
    "else:\n",
    "    print(f\"umur anda {usia},anda seorang lansia\")\n",
    "    \n",
    "\"\"\" \n",
    "-variable usia yang memiliki angka 12 bertype int\n",
    "--jika usia lebih kecil sama dengan 12,maka hasilnya true\n",
    "---maka akan menampilkan aksi pertama\n",
    "--jika usia lebih kecil sama dengan 19,maka hasilnya false\n",
    "---maka hasil tidak di tampilkan\n",
    "--jika usia lebih kecil sama dengan 59,maka hasilnya false\n",
    "---maka hasil tidak di tampilkan\n",
    "--jika usia tidak ada di salah satu kondisi,maka hasilnya false\n",
    "---maka hasil tidak di tampilkan\n",
    "\"\"\""
   ]
  },
  {
   "cell_type": "markdown",
   "id": "04451d75-fd5c-418f-b2b3-bfe3ca35497d",
   "metadata": {},
   "source": [
    "\n",
    "### Percobaan 4.3: Struktur Kontrol Bersarang (Nested If)\n",
    "\n",
    "Buatlah program yang menanyakan tinggi badan seseorang dan berat badannya, kemudian tentukan apakah mereka memiliki berat badan yang ideal dengan kriteria berikut:\n",
    "- Jika tinggi badan < 160 cm, berat badan ideal adalah < 60 kg.\n",
    "- Jika tinggi badan >= 160 cm, berat badan ideal adalah < 70 kg.\n",
    "\n",
    "#### Soal:\n",
    "1. Implementasikan struktur kontrol bersarang untuk menentukan apakah berat badan ideal.\n",
    "2. Uji dengan berbagai input dan jelaskan hasilnya.\n",
    "\n",
    "<img src=\"Screenshot (3).png\" alt=\"Deskripsi Gambar\" width=\"450\" style=\"margin-left: 30px;\" />\n"
   ]
  },
  {
   "cell_type": "code",
   "execution_count": 8,
   "id": "75357d06-3bb8-4b42-94cf-f4b2be24a792",
   "metadata": {
    "id": "ea6a12c4-1360-4bfe-a05f-4098604926bc"
   },
   "outputs": [
    {
     "name": "stdout",
     "output_type": "stream",
     "text": [
      "berat badan anda ideal!\n"
     ]
    }
   ],
   "source": [
    "# Ketikan Code Disini lalu Jalankan (Run)\n",
    "tinggi = int(input(\"berapa tinggi badan anda (dalam cm)?\"))\n",
    "berat = int(input(\"berapa berat badan anda (dalam cm)?\"))\n",
    "\n",
    "if tinggi < 160:\n",
    "    if berat < 60:\n",
    "        print(\"berat badan anda ideal!\")\n",
    "    else:\n",
    "        print(\"berat badan anda tidak ideal!\")\n",
    "else:\n",
    "    if berat < 70:\n",
    "        print(\"berat badan anda ideal\")\n",
    "    else:\n",
    "        print(\"berat badan anda tidak ideal\")\n",
    "        \n",
    "\"\"\" \n",
    "-variable tinggi bernilai 155 dengan type int\n",
    "-variable berat bernilai 55 dengan type int\n",
    "\n",
    "-jika tinggi lebih kecil dari 160,maka hasilnya true\n",
    "    --jika berat lebih kecil dari 60,maka hasilnya true\n",
    "        ---maka akan menampilkan aksi \"berat badan anda ideal!\"\n",
    "    --jika tidak\n",
    "        ---akan menampilkan aksi \"berat badan anda tidak ideal!\"\n",
    "\n",
    "-jika tidak\n",
    "    --jika berat lebih kecil dari 70\n",
    "        ---maka akan menampilkan aksi \"berta badan anda ideal!\"\n",
    "    --jika tidak\n",
    "        ---akan menampilkan aksi \"berat badan anda tidak ideal\"\n",
    "        \n",
    "jika variable tinggi = 155 dan variable berat = 55,maka akan menghasilkan \"berat badan anda ideal!\"\n",
    "\"\"\""
   ]
  },
  {
   "cell_type": "markdown",
   "id": "2b0246ff-584f-4484-b52d-18733bcde7ae",
   "metadata": {},
   "source": [
    "\n",
    "### Percobaan 4.4: Kombinasi Kondisi dengan Operator Logika\n",
    "\n",
    "Buatlah program yang mengevaluasi tiga nilai: usia, tinggi, dan berat badan seseorang. Program akan menentukan apakah seseorang dapat mengikuti kompetisi atletik dengan kondisi:\n",
    "- Usia antara 18 dan 30 tahun\n",
    "- Tinggi badan lebih dari 165 cm\n",
    "- Berat badan di bawah 80 kg\n",
    "\n",
    "Gunakan operator logika (`and`, `or`, `not`) untuk memeriksa kondisi tersebut.\n",
    "\n",
    "#### Soal:\n",
    "1. Implementasikan program dengan kombinasi kondisi dan operator logika.\n",
    "2. Uji dengan berbagai input untuk memastikan program berfungsi sesuai.\n",
    "\n",
    "<img src=\"Screenshot (4).png\" alt=\"Deskripsi Gambar\" width=\"450\" style=\"margin-left: 30px;\" />\n"
   ]
  },
  {
   "cell_type": "code",
   "execution_count": 27,
   "id": "a61ed888-46f5-4412-bffe-22824dc41f1e",
   "metadata": {
    "id": "ea6a12c4-1360-4bfe-a05f-4098604926bc"
   },
   "outputs": [
    {
     "name": "stdout",
     "output_type": "stream",
     "text": [
      "anda memenuhi syarat untuk mengikuti lomba\n"
     ]
    },
    {
     "data": {
      "text/plain": [
       "' \\n\\n'"
      ]
     },
     "execution_count": 27,
     "metadata": {},
     "output_type": "execute_result"
    }
   ],
   "source": [
    "# Ketikan Code Disini lalu Jalankan (Run)\n",
    "usia = int(input(\"berapa usia anda? :\"))\n",
    "tinggi = float(input(\"berapa tinggi badan anda? :\"))\n",
    "berat = float(input(\"berapa berat badan anda? :\"))\n",
    "\n",
    "if 18 <= usia <= 30 and tinggi > 165 and berat < 80:\n",
    "    print(\"anda memenuhi syarat untuk mengikuti lomba\")\n",
    "else:\n",
    "    print(\"maaf,anda tidak bisa mengikuti lomba\")\n",
    "    \n",
    "\n",
    "\n",
    "\"\"\" \n",
    "-variable usia dengan nilai 18 dengan type int\n",
    "-variable tinggi dengan nilai 175 dengan type float\n",
    "-variable berat dengan nilai 60 dengan type float\n",
    "\n",
    "-jika usia lebih kecil sama dengan 18 atau lebih kecil sama dengan 30 dan tinggi lebih besar dari 165 dan berat lebih kecil dari 80\n",
    "    --jika kondisinya semua terpenuhi maka akan menampilkan \"anda memenuhi sayarat untuk mengikuti lomba\"\n",
    "-jika tidak\n",
    "    --jika kondisinya tidak terpenuhi maka akan menampilkan \"maaf,anda tidak bisa mengikuti lomba\"\n",
    "\"\"\""
   ]
  },
  {
   "cell_type": "markdown",
   "id": "027609a3-346c-4999-a485-772128a8bb6a",
   "metadata": {},
   "source": [
    "\n",
    "### Percobaan 4.5: Struktur Kontrol Satu Baris\n",
    "\n",
    "Buat program yang menanyakan apakah seseorang memiliki SIM. Jika mereka memiliki SIM, tampilkan \"Anda bisa mengemudi!\", jika tidak tampilkan \"Anda tidak bisa mengemudi!\" Tulis program ini dalam satu baris menggunakan if-else satu baris.\n",
    "\n",
    "#### Soal:\n",
    "1. Buat program yang menggunakan if-else satu baris.\n",
    "2. Berikan penjelasan mengenai cara kerja program.\n",
    "\n",
    "<img src=\"Screenshot (5).png\" alt=\"Deskripsi Gambar\" width=\"550\" style=\"margin-left: 30px;\" />\n"
   ]
  },
  {
   "cell_type": "code",
   "execution_count": null,
   "id": "ea6a12c4-1360-4bfe-a05f-4098604926bc",
   "metadata": {
    "id": "ea6a12c4-1360-4bfe-a05f-4098604926bc"
   },
   "outputs": [],
   "source": [
    "# Ketikan Code Disini lalu Jalankan (Run)\n",
    "input = input(\"apakah anda memiliki? (y/n): \").lower()\n",
    "print(\"anda bisa mengemudi\" if input == \"y\" else \"anda tidak bisa mengemudi\")\n",
    "\n",
    "\"\"\" \n",
    "-variable input dengan opsi y/n(yes/no),jika string menggunakan huruf besar,maka akan di ubah menjadi huruf kecil dengan method .lower()\n",
    "\n",
    "-tampilkan aksi \"anda bisa mengemudi\" jika input adalah y;jika tidak akan menampilkan \"anda tidak bisa mengemudi\"\n",
    "\"\"\""
   ]
  },
  {
   "cell_type": "markdown",
   "id": "108ed125-3fcf-4ae5-aa9b-68247522cb89",
   "metadata": {},
   "source": [
    "\n",
    "### Percobaan 4.6: Looping dan Kondisi\n",
    "\n",
    "Buatlah program yang terus meminta input bilangan bulat dari pengguna dan berhenti ketika pengguna memasukkan angka negatif. Jika bilangan yang dimasukkan genap, program akan menampilkan \"Angka genap\". Jika bilangan ganjil, tampilkan \"Angka ganjil\".\n",
    "\n",
    "#### Soal:\n",
    "1. Implementasikan perulangan dengan kondisi untuk mengecek bilangan ganjil atau genap.\n",
    "2. Uji program dengan berbagai input dan berikan penjelasan.\n",
    "\n",
    "<img src=\"Screenshot (6).png\" alt=\"Deskripsi Gambar\" width=\"550\" style=\"margin-left: 30px;\" />\n"
   ]
  },
  {
   "cell_type": "code",
   "execution_count": 29,
   "id": "f69b9cfb-c25a-4a8e-83ea-570757748c97",
   "metadata": {
    "id": "ea6a12c4-1360-4bfe-a05f-4098604926bc"
   },
   "outputs": [
    {
     "name": "stdout",
     "output_type": "stream",
     "text": [
      "angka genap 12\n",
      "angka genap 22\n",
      "angka genap 44\n",
      "angka ganjil 3\n",
      "angka ganjil 5\n",
      "angka ganjil 9\n",
      "angka ganjil 5\n",
      "angka genap 2\n",
      "angka genap 2\n",
      "Program berhenti. -1\n"
     ]
    },
    {
     "data": {
      "text/plain": [
       "' \\n-bila benar maka:\\n    -variable \"angka\" dengan input bertype int,dengan perintah masukkan bilangan bulat(masukkan bilangan negatif untuk berhenti)\\n    \\n    -jika \"angka\" lebih kecil dari 0\\n        -maka menampilkan \"program berhenti\" dan program berhenti\\n        -break untuk memberhentikan program\\n    -apabila jika,angka modulus 2 sama dengan 0\\n        -maka tampilkan \"angka genap\"\\n    -jika tidak\\n        -maka tampilkan \"angka ganjil\"\\n'"
      ]
     },
     "execution_count": 29,
     "metadata": {},
     "output_type": "execute_result"
    }
   ],
   "source": [
    "# Ketikan Code Disini lalu Jalankan (Run)\n",
    "while True:\n",
    "    angka = int(input(\"Masukkan bilangan bulat(negatif untuk berhenti): \"))\n",
    "    \n",
    "    if angka < 0 :\n",
    "        print(f\"Program berhenti. {angka}\")\n",
    "        break\n",
    "    elif angka % 2 == 0:\n",
    "        print(f\"angka genap {angka}\")\n",
    "    else:\n",
    "        print(f\"angka ganjil {angka}\")\n",
    "        \n",
    "\"\"\" \n",
    "-bila benar maka:\n",
    "    -variable \"angka\" dengan input bertype int,dengan perintah masukkan bilangan bulat(masukkan bilangan negatif untuk berhenti)\n",
    "    \n",
    "    -jika \"angka\" lebih kecil dari 0\n",
    "        -maka menampilkan \"program berhenti\" dan program berhenti\n",
    "        -break untuk memberhentikan program\n",
    "    -apabila jika,angka modulus 2 sama dengan 0\n",
    "        -maka tampilkan \"angka genap\"\n",
    "    -jika tidak\n",
    "        -maka tampilkan \"angka ganjil\"\n",
    "\"\"\""
   ]
  },
  {
   "cell_type": "code",
   "execution_count": null,
   "id": "b54abe5c-314e-4f9a-8af8-5f3a371bd786",
   "metadata": {},
   "outputs": [],
   "source": [
    "# Tugas Mandiri (latihan membuat alur teks program)\n",
    "## Buatlah program dengan alur yang anda bikin sesuai materi diatas\n",
    "## Dimulai dari alur teks (Algoritma Informal)\n",
    "\"\"\"\n",
    "Contoh sederhana dari sebuah algoritma informal yang menjelaskan bagaimana menentukan apakah sebuah angka adalah positif, negatif, atau nol:\n",
    "\n",
    "- Mulai - Mulai proses.\n",
    "- Baca angka - Ambil sebuah angka dari pengguna.\n",
    "- Periksa angka tersebut:\n",
    "- - Jika angka itu lebih besar dari nol, cetak \"Angka positif\".\n",
    "- - Jika angka itu kurang dari nol, cetak \"Angka negatif\".\n",
    "- - Jika angka itu sama dengan nol, cetak \"Angka adalah nol\".\n",
    "- Selesai - Proses selesai.\n",
    "\n",
    "atau\n",
    "- Mulai - Mulai proses pengecekan.\n",
    "- Tanya ke diri sendiri - Apakah saya sudah mandi hari ini?\n",
    "- Evaluasi jawaban:\n",
    "- - Jika jawabannya adalah \"tidak\", maka:\n",
    "- - - Kesimpulan: Saya mungkin bau karena tidak mandi.\n",
    "- - - Tindakan: Pertimbangkan untuk mandi agar tidak bau.\n",
    "- - Jika jawabannya adalah \"ya\", maka:\n",
    "- - - Kesimpulan: Saya tidak bau karena sudah mandi.\n",
    "Selesai - Proses selesai, lanjutkan dengan aktivitas lain.\n",
    "\n",
    "\"\"\""
   ]
  },
  {
   "cell_type": "code",
   "execution_count": 34,
   "id": "8f5da0c4",
   "metadata": {},
   "outputs": [
    {
     "name": "stdout",
     "output_type": "stream",
     "text": [
      "g ada teman\n"
     ]
    }
   ],
   "source": [
    "quest = input(\"anda ingin ngapain?,masak/mancing/main\").lower()\n",
    "\n",
    "if quest == \"masak\":\n",
    "    print(\"masak indomie aja\")\n",
    "elif quest == \"mancing\":\n",
    "    print(\"g ada teman\")\n",
    "elif quest == \"main\":\n",
    "    print(\"main vscode aja\")\n",
    "else:\n",
    "    print(\"g ush ngapa-ngapain,tidur aja\")\n",
    "    \n",
    "\"\"\" \n",
    "-variable \"quest\" dengan opsi masak/mancing/main,jika string menggunakan huruf besar maka akan di ubah menjadi huruf kecil\n",
    "\n",
    "-jika quest sama dengan \"masak\"\n",
    "    -maka tampilkan \"masak indomie aja\"\n",
    "-apabila jika quest sama dengan \"mancing\"\n",
    "    -maka tampilkan \"g ada teman\"\n",
    "-apabila jika quest sama dengan \"main\"\n",
    "    -maka tampilkan \"main vscode aja\"\n",
    "-jika tidak\n",
    "    -maka tampilkan \"g ush ngapa-ngapain,tidur aja\"\n",
    "\"\"\""
   ]
  },
  {
   "cell_type": "code",
   "execution_count": null,
   "id": "93cdda36-f71b-4995-a92f-b5682f5246f6",
   "metadata": {},
   "outputs": [],
   "source": [
    "# Jelaskan  Kesimpulan dari Pertemuan kali ini Dengan Format Markdown, Min.3 Baris\n",
    "# Note: nilai plus buat yang masukkan gambar, visualisasi penjelasan, dan table penjelasan\n"
   ]
  },
  {
   "cell_type": "markdown",
   "id": "6cd3053e",
   "metadata": {},
   "source": [
    "## **kesimpulan saya pada pertemuan kali ini adalah:**\n",
    "<br>\n",
    "    saya mempelajari pengondisian dan struktur kontrol seperti if,else,elif.berikut contohnya:\n",
    "<br>\n",
    "\n",
    "### **1.Cara menggunakan if statement**\n",
    "<img src=\"Cuplikan layar 2024-09-28 104527.png\">\n",
    "<br>\n",
    "\n",
    "#### **beginilah pengertiannya**\n",
    "-pada variable umur berinput angka 25<br>\n",
    "--jika umur yang anda masukkan kurang dari 30,maka hasilnya true<br>\n",
    "---jika true aksi yang true akan di tampilkan<br>\n",
    "--jika umur yang anda masukkan lebih dari 30,maka hasilnya false<br>\n",
    "---jika false aksi yang false akan di tampilkan<br>\n",
    "<br><br>\n",
    "\n",
    "### **2.Cara menggunakan if,elif,dan else statement**\n",
    "<img src=\"Cuplikan layar 2024-09-28 104616.png\">\n",
    "<br>\n",
    "\n",
    "#### **beginilah pengertiannya**\n",
    "-variable usia yang memiliki angka 12 bertype int<br>\n",
    "--jika usia lebih kecil sama dengan 12,maka hasilnya true<br>\n",
    "---maka akan menampilkan aksi pertama<br>\n",
    "--jika usia lebih kecil sama dengan 19,maka hasilnya false<br>\n",
    "---maka hasil tidak di tampilkan<br>\n",
    "--jika usia lebih kecil sama dengan 59,maka hasilnya false<br>\n",
    "---maka hasil tidak di tampilkan<br>\n",
    "--jika usia tidak ada di salah satu kondisi,maka hasilnya false<br>\n",
    "---maka hasil tidak di tampilkan<br>"
   ]
  },
  {
   "cell_type": "markdown",
   "id": "793779de",
   "metadata": {},
   "source": []
  }
 ],
 "metadata": {
  "colab": {
   "provenance": []
  },
  "kernelspec": {
   "display_name": "Python 3 (ipykernel)",
   "language": "python",
   "name": "python3"
  },
  "language_info": {
   "codemirror_mode": {
    "name": "ipython",
    "version": 3
   },
   "file_extension": ".py",
   "mimetype": "text/x-python",
   "name": "python",
   "nbconvert_exporter": "python",
   "pygments_lexer": "ipython3",
   "version": "3.12.6"
  },
  "widgets": {
   "application/vnd.jupyter.widget-state+json": {
    "state": {},
    "version_major": 2,
    "version_minor": 0
   }
  }
 },
 "nbformat": 4,
 "nbformat_minor": 5
}
