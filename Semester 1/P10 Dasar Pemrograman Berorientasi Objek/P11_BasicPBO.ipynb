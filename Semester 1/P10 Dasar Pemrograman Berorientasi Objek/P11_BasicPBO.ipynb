{
 "cells": [
  {
   "cell_type": "markdown",
   "id": "b3450a5a-c882-48e6-8aae-8be59018aedb",
   "metadata": {
    "id": "b3450a5a-c882-48e6-8aae-8be59018aedb"
   },
   "source": [
    "# **Modul Pertemuan 11: Dasar Pemrograman Berorientasi Objek**\n",
    "\n",
    "## **Pembahasan**\n",
    "\n",
    "### **1. Kelas dan Objek**\n",
    "\n",
    "Dalam pemrograman berorientasi objek (OOP), *kelas* merupakan blueprint atau cetak biru dari objek. Kelas mendefinisikan atribut (variabel) dan perilaku (method) yang dimiliki oleh objek yang dibuat dari kelas tersebut. Misalnya, kita bisa membayangkan kelas sebagai rancangan dari sebuah mobil, dan mobil yang sebenarnya adalah objek.\n",
    "\n",
    "Berikut contoh sederhana sebuah kelas:\n",
    "\n",
    "```python\n",
    "class Motor:\n",
    "    merek = \"Honda\"\n",
    "    warna = \"Merah\"\n",
    "\n",
    "    def jalan(self):\n",
    "        print(f\"Motor dengan warna {self.warna} sedang jalan\")\n",
    "```\n",
    "\n",
    "### **2. Instansiasi Objek**\n",
    "\n",
    "Untuk membuat objek dari suatu kelas, kita melakukan instansiasi dengan cara memanggil nama kelas seperti memanggil fungsi. Setiap objek yang dibuat dari kelas tersebut memiliki atribut dan method yang dapat diakses menggunakan operator dot (`.`).\n",
    "\n",
    "Contoh pembuatan objek dari kelas `Motor`:\n",
    "\n",
    "```python\n",
    "motor_saya = Motor()\n",
    "motor_saya.jalan()  # Output: Motor dengan warna Merah sedang jalan\n",
    "```\n",
    "\n",
    "### **3. Method dalam Kelas**\n",
    "\n",
    "Method dalam kelas berfungsi seperti fungsi, namun terkait dengan objek atau kelas. Method dapat melakukan tugas tertentu, seperti menghitung atau menampilkan informasi. Method juga bisa menerima parameter, dengan *self* sebagai parameter pertama yang wajib ada.\n",
    "\n",
    "### **4. Constructor (`__init__` Method)**\n",
    "\n",
    "Constructor adalah method khusus yang dijalankan otomatis ketika objek baru dibuat. Dalam Python, constructor didefinisikan dengan method `__init__()`. Ini sering digunakan untuk memberikan nilai awal pada atribut objek.\n",
    "\n",
    "Contoh constructor pada kelas `Balok`:\n",
    "\n",
    "```python\n",
    "class Balok:\n",
    "    def __init__(self, p, l, t):\n",
    "        self.panjang = p\n",
    "        self.lebar = l\n",
    "        self.tinggi = t\n",
    "\n",
    "    def volume(self):\n",
    "        return self.panjang * self.lebar * self.tinggi\n",
    "```\n",
    "\n",
    "Instansiasi objek dengan constructor:\n",
    "\n",
    "```python\n",
    "kotak = Balok(3, 4, 5)\n",
    "print(\"Volume balok:\", kotak.volume())  # Output: Volume balok: 60\n",
    "```\n",
    "\n",
    "---\n",
    "\n",
    "## **Tugas**\n",
    "**Note:** Gunakan logika pemrograman bukan cuman ngikutin gambar. Baca betul-betul apa yang di intruksikan!!"
   ]
  },
  {
   "attachments": {},
   "cell_type": "markdown",
   "id": "e989c82b-4c5e-4eaf-9152-4a4c9a494b65",
   "metadata": {},
   "source": [
    "### **Soal 1: Membuat Kelas Sederhana**\n",
    "\n",
    "#### **Instruksi:**\n",
    "1. Buatlah kelas `Mahasiswa` yang memiliki atribut `nama`, `nim`, dan `jurusan`.\n",
    "2. Buatlah method `info` dalam kelas tersebut yang mencetak informasi mahasiswa.\n",
    "3. Instansiasikan objek dari kelas `Mahasiswa` dan tampilkan informasi mahasiswa menggunakan method `info`.\\\n",
    "4. Jelaskan code dan outputnya\n",
    "5. Jelaskan apa itu ```__init__```\n",
    "\n",
    "Contoh format kode yang benar:\n",
    "\n",
    "<img src=\"Screenshot (1).png\" alt=\"Deskripsi Gambar\" width=\"550\" style=\"margin-left: 30px;\" />\n",
    "---\n",
    "\n"
   ]
  },
  {
   "cell_type": "code",
   "execution_count": null,
   "id": "b4beb5da-51a9-47ff-a732-d6cf9247ae74",
   "metadata": {
    "id": "ea6a12c4-1360-4bfe-a05f-4098604926bc"
   },
   "outputs": [
    {
     "name": "stdout",
     "output_type": "stream",
     "text": [
      "Nama saya Malik,Nim : 2411102441250,Prodi TI\n"
     ]
    }
   ],
   "source": [
    "# Ketikan Code Disini lalu Jalankan (Run)\n",
    "class Mahasiswa:\n",
    "    #di bawah ini adalah variable yang bernilai kosong,yang akan di isi kedepannya\n",
    "    nama = \"\"\n",
    "    nim = \"\" \n",
    "    jurusan = \"\"\n",
    "    \n",
    "    def __init__(self,n,u,j): \n",
    "        self.nama = n #menambahkan nilai n ke dalam nama\n",
    "        self.nim = u  #menambahkan nilai u ke dalam nim\n",
    "        self.jurusan = j #menambahkan nilai j ke dalam jurusan\n",
    "        \n",
    "    def info(self):\n",
    "        print(f\"Nama saya {self.nama},Nim : {self.nim},Prodi {self.jurusan}\")\n",
    "        \n",
    "mhs = Mahasiswa(\"Malik\",2411102441250,\"TI\") #mengisi nilai n , u , j\n",
    "mhs.info() #menampilkan fungsi info() pada class\n",
    "\n",
    "# __init__adalah method khusus yang dijalankan otomatis ketika objek baru dibuat."
   ]
  },
  {
   "cell_type": "markdown",
   "id": "28e24639-72f7-4d78-8169-b805c5bee744",
   "metadata": {},
   "source": [
    "### **Soal 2: Menambah Method dalam Kelas**\n",
    "\n",
    "#### **Instruksi:**\n",
    "1. Tambahkan method baru bernama `perkenalan` dalam kelas `Mahasiswa` yang menampilkan pesan perkenalan dari mahasiswa.\n",
    "2. Gunakan method tersebut untuk memperkenalkan diri dari objek yang telah Anda buat.\n",
    "\n",
    "Contoh penggunaan:\n",
    "\n",
    "```python\n",
    "mhs1.perkenalan()\n",
    "```\n",
    "\n",
    "---\n",
    "\n"
   ]
  },
  {
   "cell_type": "code",
   "execution_count": 7,
   "id": "b3f87cea-e50a-46fd-820f-bc12703db8da",
   "metadata": {
    "id": "ea6a12c4-1360-4bfe-a05f-4098604926bc"
   },
   "outputs": [
    {
     "name": "stdout",
     "output_type": "stream",
     "text": [
      "Halo, nama saya malik. Saya mahasiswa dengan NIM 2411102441250 dari jurusan TI.\n"
     ]
    }
   ],
   "source": [
    "# Ketikan Code Disini lalu Jalankan (Run)\n",
    "class Mahasiswa:\n",
    "        nama = \"\"\n",
    "        nim = \"\" \n",
    "        jurusan = \"\"\n",
    "        \n",
    "        def __init__(self,n,u,j): \n",
    "                self.nama = n \n",
    "                self.nim = u\n",
    "                self.jurusan = j\n",
    "                \n",
    "        def info(self):\n",
    "                print(f\"Nama saya {self.nama},Nim : {self.nim},Prodi {self.jurusan}\")\n",
    "                \n",
    "        def perkenalan(self):\n",
    "                print(f\"Halo, nama saya {self.nama}. Saya mahasiswa dengan NIM {self.nim} dari jurusan {self.jurusan}.\")\n",
    "\n",
    "mhs1 = Mahasiswa('malik',2411102441250,\"TI\")\n",
    "\n",
    "mhs1.perkenalan()"
   ]
  },
  {
   "cell_type": "markdown",
   "id": "04451d75-fd5c-418f-b2b3-bfe3ca35497d",
   "metadata": {},
   "source": [
    "### **Soal 3: Membuat Kelas dengan Constructor**\n",
    "\n",
    "#### **Instruksi:**\n",
    "1. Buatlah kelas `PersegiPanjang` yang memiliki atribut `panjang` dan `lebar`.\n",
    "2. Buatlah method `luas` yang menghitung luas persegi panjang.\n",
    "3. Buatlah method `keliling` yang menghitung keliling persegi panjang.\n",
    "4. Instansiasikan objek dari kelas tersebut dan tampilkan luas dan kelilingnya.\n",
    "5. Jelaskan Code serta outputnya\n",
    "6. Perbaiki markdown ini menjadi jelas\n",
    "\n",
    "Contoh format kode yang salah:\n",
    "\n",
    "<img src=\"Screenshot (2).png\" alt=\"Deskripsi Gambar\" width=\"350px\" style=\"margin-left: 30px;\" />\n",
    "---\n"
   ]
  },
  {
   "cell_type": "code",
   "execution_count": 10,
   "id": "75357d06-3bb8-4b42-94cf-f4b2be24a792",
   "metadata": {
    "id": "ea6a12c4-1360-4bfe-a05f-4098604926bc"
   },
   "outputs": [
    {
     "name": "stdout",
     "output_type": "stream",
     "text": [
      "Luas 20\n",
      "Keliling 18\n"
     ]
    }
   ],
   "source": [
    "# Ketikan Code Disini lalu Jalankan (Run)\n",
    "class PersegiPanjang:\n",
    "    # pada variable dibawah ini dengan type data integer yang akan di kunakan kedepannya\n",
    "    panjang = int() \n",
    "    lebar = int()\n",
    "    \n",
    "    def __init__(self,p,l):\n",
    "        self.panjang = p\n",
    "        self.lebar = l\n",
    "        \n",
    "    def luas(self):\n",
    "        return self.panjang * self.lebar\n",
    "    \n",
    "    def keliling(self):\n",
    "        return 2* (self.panjang + self.lebar)\n",
    "    \n",
    "pp = PersegiPanjang(4,5) #nilai p = 4 dan l = 5\n",
    "print('Luas',pp.luas()) # memanggil fungsi luas() yang ada di kelas PersegiPanjang\n",
    "print('Keliling',pp.keliling()) # memanggil fungsi keliling() yang ada di kelas PersegiPanjang"
   ]
  },
  {
   "cell_type": "markdown",
   "id": "2b0246ff-584f-4484-b52d-18733bcde7ae",
   "metadata": {},
   "source": [
    "### **Soal 4: Membuat Kelas dengan Method Tambahan**\n",
    "\n",
    "#### **Instruksi:**\n",
    "1. Buatlah kelas `Lingkaran` yang memiliki atribut `jari_jari`.\n",
    "2. Buatlah method `luas` yang menghitung luas lingkaran (rumus: \\( \\pi r^2 \\)).\n",
    "3. Buatlah method `keliling` yang menghitung keliling lingkaran (rumus: \\( 2\\pi r \\)).\n",
    "4. Tambahkan constructor untuk menginisialisasi atribut `jari_jari`.\n",
    "5. Instansiasikan objek dan hitung luas serta keliling lingkaran.\n",
    "\n",
    "Contoh penggunaan:\n",
    "\n",
    "<img src=\"Screenshot (3).png\" alt=\"Deskripsi Gambar\" width=\"450\" style=\"margin-left: 30px;\" />\n",
    "\n",
    "---\n",
    "\n"
   ]
  },
  {
   "cell_type": "code",
   "execution_count": 12,
   "id": "a61ed888-46f5-4412-bffe-22824dc41f1e",
   "metadata": {
    "id": "ea6a12c4-1360-4bfe-a05f-4098604926bc"
   },
   "outputs": [
    {
     "name": "stdout",
     "output_type": "stream",
     "text": [
      "luas lingkaran : 78.5\n",
      "keliling lingkaran : 31.400000000000002\n"
     ]
    }
   ],
   "source": [
    "# Ketikan Code Disini lalu Jalankan (Run)\n",
    "class Lingkaran:\n",
    "    pi = 3.14\n",
    "    # jari_jari = int() \n",
    "    \n",
    "    def __init__(self,j):\n",
    "        self.jari_jari = j\n",
    "        \n",
    "    def luas(self):\n",
    "        return self.pi * (self.jari_jari ** 2)\n",
    "    \n",
    "    def keliling(self):\n",
    "        return 2* self.pi * self.jari_jari\n",
    "    \n",
    "circle = Lingkaran(5)\n",
    "print('luas lingkaran :',circle.luas())\n",
    "print('keliling lingkaran :',circle.keliling())"
   ]
  },
  {
   "cell_type": "markdown",
   "id": "027609a3-346c-4999-a485-772128a8bb6a",
   "metadata": {},
   "source": [
    "### **Soal 5: Memodifikasi Kelas dengan Logika Tambahan**\n",
    "\n",
    "#### **Instruksi:**\n",
    "1. Buat kelas `Karyawan` yang memiliki atribut `nama`, `gaji`, dan `jabatan`.\n",
    "2. Tambahkan method `kenaikan_gaji` yang akan menghitung kenaikan gaji karyawan berdasarkan jabatan:\n",
    "   - Jika jabatan \"Manager\", naikkan gaji 10%.\n",
    "   - Jika jabatan \"Staf\", naikkan gaji 5%.\n",
    "3. Tambahkan method `info` untuk mencetak informasi karyawan termasuk gaji setelah kenaikan.\n",
    "4. Instansiasikan objek karyawan dan panggil method `kenaikan_gaji`.\n",
    "\n",
    "Contoh format kode:\n",
    "\n",
    "<img src=\"Screenshot (4).png\" alt=\"Deskripsi Gambar\" width=\"550\" style=\"margin-left: 30px;\" />\n",
    "\n",
    "---"
   ]
  },
  {
   "cell_type": "code",
   "execution_count": 18,
   "id": "ea6a12c4-1360-4bfe-a05f-4098604926bc",
   "metadata": {
    "id": "ea6a12c4-1360-4bfe-a05f-4098604926bc"
   },
   "outputs": [
    {
     "name": "stdout",
     "output_type": "stream",
     "text": [
      " \n",
      "              Nama : ahmad\n",
      "              Gaji : 2,100,000.00\n",
      "              Jabatan : Staf\n",
      "              \n",
      " \n",
      "              Nama : Bayu\n",
      "              Gaji : 7,700,000.00\n",
      "              Jabatan : Manager\n",
      "              \n"
     ]
    }
   ],
   "source": [
    "# Ketikan Code Disini lalu Jalankan (Run)\n",
    "class Karyawan:\n",
    "    def __init__(self,nama,gaji,jabatan):\n",
    "        self.nama = nama\n",
    "        self.gaji = gaji\n",
    "        self.jabatan = jabatan\n",
    "        \n",
    "    def kenaikanGaji(self):\n",
    "        if self.jabatan == \"Manager\":\n",
    "            self.gaji *= 1.10\n",
    "        elif self.jabatan == \"Staf\":\n",
    "            self.gaji *= 1.05\n",
    "        \n",
    "    def info(self):\n",
    "        print(f\"\"\" \n",
    "              Nama : {self.nama}\n",
    "              Gaji : {self.gaji:,.2f}\n",
    "              Jabatan : {self.jabatan}\n",
    "              \"\"\")\n",
    "        \n",
    "karyawan1 = Karyawan(\"ahmad\",2000000,\"Staf\")\n",
    "karyawan2 = Karyawan(\"Bayu\",7000000,\"Manager\")\n",
    "\n",
    "karyawan1.kenaikanGaji()\n",
    "karyawan1.info()\n",
    "\n",
    "karyawan2.kenaikanGaji()\n",
    "karyawan2.info()"
   ]
  },
  {
   "cell_type": "markdown",
   "id": "f63cf7a0-cc5a-449e-9f7d-c14947ba96a3",
   "metadata": {},
   "source": [
    "<span style=\"color:red; font-size: 20px;\">\n",
    "<b>Tugas Mandiri </b>\n",
    "</span>\n",
    "\n",
    "1. **Inheritance:** Modifikasilah kelas `Karyawan` sehingga memiliki subclass bernama `KaryawanIT` yang memiliki tambahan atribut `keahlian`. Tambahkan method `info` di subclass untuk mencetak informasi lengkap tentang karyawan IT.\n",
    "   \n",
    "2. **Polimorfisme:** Buatlah dua kelas yang mewakili dua jenis kendaraan, misalnya `Mobil` dan `Motor`, keduanya memiliki method `jalan()` yang menampilkan pesan berbeda. Buatlah program yang memanfaatkan polimorfisme untuk memanggil method `jalan()` pada masing-masing objek.\n"
   ]
  },
  {
   "cell_type": "code",
   "execution_count": 8,
   "id": "f35c2ac5-0bde-47f0-ba6c-ec52de9d14be",
   "metadata": {
    "id": "ea6a12c4-1360-4bfe-a05f-4098604926bc"
   },
   "outputs": [
    {
     "name": "stdout",
     "output_type": "stream",
     "text": [
      " \n",
      "Nama : Jessnolimit\n",
      "Gaji : 12,345.00\n",
      "Jabatan : Hyper\n",
      "              \n",
      "Keahlian: fanny\n"
     ]
    }
   ],
   "source": [
    "# Ketikan Code Disini lalu Jalankan (Run)\n",
    "class Karyawan:\n",
    "    def __init__(self,nama,gaji,jabatan):\n",
    "        self.nama = nama\n",
    "        self.gaji = gaji\n",
    "        self.jabatan = jabatan\n",
    "        \n",
    "    def kenaikanGaji(self):\n",
    "        if self.jabatan == \"Manager\":\n",
    "            self.gaji *= 1.10\n",
    "        elif self.jabatan == \"Staf\":\n",
    "            self.gaji *= 1.05\n",
    "        \n",
    "    def info(self):\n",
    "        print(f\"\"\" \n",
    "Nama : {self.nama}\n",
    "Gaji : {self.gaji:,.2f}\n",
    "Jabatan : {self.jabatan}\n",
    "              \"\"\")\n",
    "\n",
    "\n",
    "class KaryawanIT(Karyawan):\n",
    "    def __init__(self, nama, gaji, jabatan, keahlian):\n",
    "        # Memanggil konstruktor kelas induk (Karyawan)\n",
    "        super().__init__(nama, gaji, jabatan)\n",
    "        self.keahlian = keahlian\n",
    "\n",
    "    # Menambahkan method info untuk mencetak informasi lengkap\n",
    "    def info(self):\n",
    "        super().info()  # Memanggil info dari kelas induk\n",
    "        print(f\"Keahlian: {self.keahlian}\")\n",
    "\n",
    "# Contoh penggunaan\n",
    "karyawan_it = KaryawanIT(\"Jessnolimit\", 12345, \"Hyper\", \"fanny\")\n",
    "karyawan_it.info()"
   ]
  },
  {
   "cell_type": "code",
   "execution_count": 2,
   "id": "9cc291c7",
   "metadata": {},
   "outputs": [
    {
     "name": "stdout",
     "output_type": "stream",
     "text": [
      "Mobil berjalan di jalan raya 300km.\n",
      "Motor melaju dengan kecepatan tinggi 250 km.\n"
     ]
    }
   ],
   "source": [
    "class Mobil:\n",
    "    def jalan(self):\n",
    "        print(\"Mobil berjalan di jalan raya 300km.\")\n",
    "\n",
    "# Kelas Motor\n",
    "class Motor:\n",
    "    def jalan(self):\n",
    "        print(\"Motor melaju dengan kecepatan tinggi 250 km.\")\n",
    "\n",
    "# Fungsi untuk memanggil method jalan pada objek kendaraan\n",
    "def test_jalan(kendaraan):\n",
    "    kendaraan.jalan()\n",
    "\n",
    "# Membuat objek dari kedua kelas\n",
    "mobil = Mobil()\n",
    "motor = Motor()\n",
    "\n",
    "# Memanggil method jalan menggunakan polimorfisme\n",
    "test_jalan(mobil)  # Output: Mobil berjalan di jalan raya.\n",
    "test_jalan(motor)  # Output: Motor melaju dengan kecepatan tinggi."
   ]
  },
  {
   "cell_type": "code",
   "execution_count": null,
   "id": "93cdda36-f71b-4995-a92f-b5682f5246f6",
   "metadata": {},
   "outputs": [],
   "source": [
    "# Jelaskan  Kesimpulan dari Pertemuan kali ini Dengan Format Markdown, Min.3 Baris\n",
    "# Note: nilai plus buat yang masukkan gambar, visualisasi penjelasan, dan table penjelasan\n"
   ]
  }
 ],
 "metadata": {
  "colab": {
   "provenance": []
  },
  "kernelspec": {
   "display_name": "Python 3",
   "language": "python",
   "name": "python3"
  },
  "language_info": {
   "codemirror_mode": {
    "name": "ipython",
    "version": 3
   },
   "file_extension": ".py",
   "mimetype": "text/x-python",
   "name": "python",
   "nbconvert_exporter": "python",
   "pygments_lexer": "ipython3",
   "version": "3.13.0"
  },
  "widgets": {
   "application/vnd.jupyter.widget-state+json": {
    "state": {},
    "version_major": 2,
    "version_minor": 0
   }
  }
 },
 "nbformat": 4,
 "nbformat_minor": 5
}
