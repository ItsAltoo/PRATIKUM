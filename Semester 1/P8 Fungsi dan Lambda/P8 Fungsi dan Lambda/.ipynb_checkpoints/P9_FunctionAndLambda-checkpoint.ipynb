{
 "cells": [
  {
   "cell_type": "markdown",
   "id": "b3450a5a-c882-48e6-8aae-8be59018aedb",
   "metadata": {
    "id": "b3450a5a-c882-48e6-8aae-8be59018aedb"
   },
   "source": [
    "# **Modul Pertemuan 10: Fungsi dan Lambda**\n",
    "\n",
    "## **Pembahasan**\n",
    "\n",
    "Pada pertemuan kali ini, kita akan membahas dua konsep penting dalam Python, yaitu fungsi dan lambda. Pemahaman terhadap kedua konsep ini akan sangat membantu dalam menyusun kode yang lebih modular, rapi, dan efisien.\n",
    "\n",
    "### **1. Fungsi**\n",
    "\n",
    "Fungsi adalah kumpulan perintah yang dirancang untuk melakukan tugas tertentu. Dalam Python, fungsi dapat didefinisikan dengan kata kunci `def`. Fungsi ini dapat memiliki parameter sebagai input untuk diproses, dan bisa mengembalikan output menggunakan `return`.\n",
    "\n",
    "Berikut adalah contoh sederhana fungsi yang menghitung luas segitiga:\n",
    "\n",
    "   <img src=\"Screenshot (1).png\" alt=\"Deskripsi Gambar\" width=\"450\" style=\"margin-left: 30px;\" />\n",
    "\n",
    "#### **Manfaat menggunakan fungsi:**\n",
    "1. **Reusabilitas Kode:** Fungsi memungkinkan kita untuk menggunakan kembali kode tanpa perlu menulis ulang.\n",
    "2. **Modularitas:** Program yang kompleks dapat dibagi menjadi beberapa fungsi yang lebih kecil dan mudah dikelola.\n",
    "\n",
    "### **2. Parameter pada Fungsi**\n",
    "\n",
    "Parameter digunakan untuk memberikan data yang akan diproses oleh fungsi. Fungsi dapat memiliki parameter opsional (default) atau wajib diisi oleh pengguna. Misalnya, berikut contoh fungsi dengan parameter default:\n",
    "\n",
    "   <img src=\"Screenshot (2).png\" alt=\"Deskripsi Gambar\" width=\"450\" style=\"margin-left: 30px;\" />\n",
    "\n",
    "Pada contoh di atas, jika nilai pi tidak diberikan, maka secara default fungsi akan menggunakan 3.14.\n",
    "\n",
    "### **3. Fungsi dengan Nilai Balik (Return Value)**\n",
    "\n",
    "Fungsi dapat mengembalikan nilai menggunakan perintah `return`. Nilai yang dikembalikan dapat digunakan oleh bagian lain dari program. Berikut contoh fungsi yang mengembalikan nilai balik:\n",
    "\n",
    "   <img src=\"Screenshot (3).png\" alt=\"Deskripsi Gambar\" width=\"450\" style=\"margin-left: 30px;\" />\n",
    "\n",
    "### **4. Fungsi Rekursif**\n",
    "\n",
    "Fungsi rekursif adalah fungsi yang memanggil dirinya sendiri di dalam tubuh fungsi tersebut. Fungsi rekursif sangat berguna untuk memecah masalah yang kompleks menjadi sub-masalah yang lebih kecil.\n",
    "\n",
    "Berikut contoh sederhana dari fungsi rekursif:\n",
    "\n",
    "   <img src=\"Screenshot (4).png\" alt=\"Deskripsi Gambar\" width=\"350\" style=\"margin-left: 30px;\" />\n",
    "   \n",
    "### **5. Fungsi Lambda**\n",
    "\n",
    "Fungsi lambda adalah fungsi anonim yang didefinisikan tanpa menggunakan nama. Fungsi ini biasanya digunakan untuk tugas-tugas sederhana yang membutuhkan satu baris kode.\n",
    "\n",
    "Contoh fungsi lambda:\n",
    "\n",
    "   <img src=\"Screenshot (5).png\" alt=\"Deskripsi Gambar\" width=\"350\" style=\"margin-left: 30px;\" />\n",
    "\n",
    "Lambda sering digunakan bersama fungsi seperti `map()` dan `filter()` untuk melakukan operasi cepat.\n",
    "\n",
    "---\n",
    "\n",
    "## **Tugas**\n",
    "\n",
    "Setelah memahami konsep-konsep di atas, selanjutnya adalah latihan soal. Pada setiap soal, kerjakan dengan benar sesuai dengan instruksi.\n",
    "**Note:** Gunakan logika pemrograman bukan cuman ngikutin gambar. Baca betul-betul apa yang di intruksikan!!\n"
   ]
  },
  {
   "attachments": {},
   "cell_type": "markdown",
   "id": "e989c82b-4c5e-4eaf-9152-4a4c9a494b65",
   "metadata": {},
   "source": [
    "### **1. Soal Fungsi**\n",
    "\n",
    "#### Soal 1\n",
    "Buatlah sebuah fungsi bernama ```volume_kubus``` yang menghitung volume sebuah kubus dengan parameter panjang sisi menggunakan ```return``` . Volume kubus dihitung dengan rumus: \\begin{equation}( V = s^3 ).\\end{equation}\n",
    "Berikut adalah **format fungsi** yang **salah**:\n",
    "\n",
    "   <img src=\"Screenshot (6).png\" alt=\"Deskripsi Gambar\" width=\"250\" style=\"margin-left: 30px;\" />\n",
    "   \n",
    "- Perbaiki lalu jelaskan apa yang salah dari **format fungsi** tersebut\n"
   ]
  },
  {
   "cell_type": "code",
   "execution_count": 1,
   "id": "b4beb5da-51a9-47ff-a732-d6cf9247ae74",
   "metadata": {
    "id": "ea6a12c4-1360-4bfe-a05f-4098604926bc"
   },
   "outputs": [],
   "source": [
    "# Ketikan Code Disini lalu Jalankan (Run)\n"
   ]
  },
  {
   "attachments": {},
   "cell_type": "markdown",
   "id": "e5f438bd-f3c6-4dda-980f-21b9b9fc4125",
   "metadata": {},
   "source": [
    "#### Soal 2\n",
    "Buatlah sebuah fungsi bernama `cek_genap` yang menerima satu parameter bilangan bulat dan mengembalikan `True` jika bilangan tersebut genap, dan `False` jika ganjil.\n",
    "\n",
    "\n"
   ]
  },
  {
   "cell_type": "code",
   "execution_count": 2,
   "id": "d952ff4f-fbe5-465e-a064-b997bb5aa1a0",
   "metadata": {
    "id": "ea6a12c4-1360-4bfe-a05f-4098604926bc"
   },
   "outputs": [],
   "source": [
    "# Ketikan Code Disini lalu Jalankan (Run)\n"
   ]
  },
  {
   "attachments": {},
   "cell_type": "markdown",
   "id": "cd9029d1-efb9-470a-86ab-d4398ff9bf7d",
   "metadata": {},
   "source": [
    "#### Soal 3\n",
    "Modifikasi dan perbaikilah fungsi di soal 2 menjadi fungsi lambda. Jelaskan kenapa bisa begitu!"
   ]
  },
  {
   "cell_type": "code",
   "execution_count": 3,
   "id": "b66bfaa8-ddd5-48b8-82a6-51ce2b3fc73f",
   "metadata": {
    "id": "ea6a12c4-1360-4bfe-a05f-4098604926bc"
   },
   "outputs": [],
   "source": [
    "# Ketikan Code Disini lalu Jalankan (Run)\n"
   ]
  },
  {
   "attachments": {},
   "cell_type": "markdown",
   "id": "b4a48e8a-56e1-46b9-8f73-254be026c712",
   "metadata": {},
   "source": [
    "#### Soal 4\n",
    "Buatlah fungsi rekursif yang menghitung faktorial dari sebuah bilangan bulat positif. Faktorial dari n dinyatakan sebagai\n",
    "\\begin{equation}\n",
    "n! = n \\times (n-1) \\times (n-2) \\times \\dots \\times 1\n",
    "\\end{equation}\n",
    "\n",
    "Berikut contoh pemanggilan fungsi:\n",
    "   \n",
    "   <img src=\"Screenshot (7).png\" alt=\"Deskripsi Gambar\" width=\"250\" style=\"margin-left: 30px;\" />\n",
    "\n",
    "- Jelaskan outputnya kenapa begitu, dari alur perhitungan sampai ke alur code\n"
   ]
  },
  {
   "cell_type": "code",
   "execution_count": 3,
   "id": "a0a08a3c-ebff-45bc-949d-c9b72eb7f9d7",
   "metadata": {
    "id": "ea6a12c4-1360-4bfe-a05f-4098604926bc"
   },
   "outputs": [],
   "source": [
    "# Ketikan Code Disini lalu Jalankan (Run)\n"
   ]
  },
  {
   "cell_type": "markdown",
   "id": "28e24639-72f7-4d78-8169-b805c5bee744",
   "metadata": {},
   "source": [
    "### **2. Soal Lambda**\n",
    "\n",
    "#### Soal 5\n",
    "Buatlah sebuah lambda function yang menerima dua parameter `x` dan `y`, dan mengembalikan nilai `x` pangkat `y`. Jelaskan code dan outputnya\n"
   ]
  },
  {
   "cell_type": "code",
   "execution_count": null,
   "id": "b3f87cea-e50a-46fd-820f-bc12703db8da",
   "metadata": {
    "id": "ea6a12c4-1360-4bfe-a05f-4098604926bc"
   },
   "outputs": [],
   "source": [
    "# Ketikan Code Disini lalu Jalankan (Run)\n"
   ]
  },
  {
   "cell_type": "markdown",
   "id": "e209067c-8f21-42d5-9a2a-8c7e753e4488",
   "metadata": {},
   "source": [
    "\n",
    "#### Soal 6\n",
    "Gunakan fungsi lambda untuk memfilter bilangan genap dari daftar berikut menggunakan `filter()`:\n",
    "\n",
    "   <img src=\"Screenshot (7).png\" alt=\"Deskripsi Gambar\" width=\"250\" style=\"margin-left: 30px;\" />\n",
    "\n",
    "jelaskan code dan output nya!\n",
    "\n",
    "---\n"
   ]
  },
  {
   "cell_type": "code",
   "execution_count": 11,
   "id": "4815cd3f-46c7-4bdd-b5c2-832718a85d39",
   "metadata": {
    "id": "ea6a12c4-1360-4bfe-a05f-4098604926bc"
   },
   "outputs": [],
   "source": [
    "# Ketikan Code Disini lalu Jalankan (Run)\n"
   ]
  },
  {
   "cell_type": "markdown",
   "id": "100a88f2-117e-419e-b456-844dc22bb899",
   "metadata": {},
   "source": [
    "<span style=\"color:red; font-size: 20px;\">\n",
    "<b>Tugas Mandiri </b>\n",
    "</span>\n",
    "\n",
    "- Buatlah aplikasi sederhana menggunakan studikasus yang kalian tentukan sendiri dengan menggunakan modularisasi built-in and user defined, yang di mana menampilkan hasil dan bisa di lihat file nya menggunakan fungsi ```dir()```.\n",
    "- Jelaskan program."
   ]
  },
  {
   "cell_type": "code",
   "execution_count": 11,
   "id": "9b372de8-ac25-424f-ba50-a7ca18bf1871",
   "metadata": {
    "id": "ea6a12c4-1360-4bfe-a05f-4098604926bc"
   },
   "outputs": [],
   "source": [
    "# Ketikan Code Disini lalu Jalankan (Run)\n"
   ]
  },
  {
   "cell_type": "code",
   "execution_count": null,
   "id": "93cdda36-f71b-4995-a92f-b5682f5246f6",
   "metadata": {},
   "outputs": [],
   "source": [
    "# Jelaskan  Kesimpulan dari Pertemuan kali ini Dengan Format Markdown, Min.3 Baris\n",
    "# Note: nilai plus buat yang masukkan gambar, visualisasi penjelasan, dan table penjelasan\n"
   ]
  }
 ],
 "metadata": {
  "colab": {
   "provenance": []
  },
  "kernelspec": {
   "display_name": "Python 3 (ipykernel)",
   "language": "python",
   "name": "python3"
  },
  "language_info": {
   "codemirror_mode": {
    "name": "ipython",
    "version": 3
   },
   "file_extension": ".py",
   "mimetype": "text/x-python",
   "name": "python",
   "nbconvert_exporter": "python",
   "pygments_lexer": "ipython3",
   "version": "3.12.2"
  },
  "widgets": {
   "application/vnd.jupyter.widget-state+json": {
    "state": {},
    "version_major": 2,
    "version_minor": 0
   }
  }
 },
 "nbformat": 4,
 "nbformat_minor": 5
}
