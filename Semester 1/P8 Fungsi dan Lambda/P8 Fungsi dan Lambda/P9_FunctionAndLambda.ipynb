{
 "cells": [
  {
   "cell_type": "markdown",
   "id": "b3450a5a-c882-48e6-8aae-8be59018aedb",
   "metadata": {
    "id": "b3450a5a-c882-48e6-8aae-8be59018aedb"
   },
   "source": [
    "# **Modul Pertemuan 10: Fungsi dan Lambda**\n",
    "\n",
    "## **Pembahasan**\n",
    "\n",
    "Pada pertemuan kali ini, kita akan membahas dua konsep penting dalam Python, yaitu fungsi dan lambda. Pemahaman terhadap kedua konsep ini akan sangat membantu dalam menyusun kode yang lebih modular, rapi, dan efisien.\n",
    "\n",
    "### **1. Fungsi**\n",
    "\n",
    "Fungsi adalah kumpulan perintah yang dirancang untuk melakukan tugas tertentu. Dalam Python, fungsi dapat didefinisikan dengan kata kunci `def`. Fungsi ini dapat memiliki parameter sebagai input untuk diproses, dan bisa mengembalikan output menggunakan `return`.\n",
    "\n",
    "Berikut adalah contoh sederhana fungsi yang menghitung luas segitiga:\n",
    "\n",
    "   <img src=\"Screenshot (1).png\" alt=\"Deskripsi Gambar\" width=\"450\" style=\"margin-left: 30px;\" />\n",
    "\n",
    "#### **Manfaat menggunakan fungsi:**\n",
    "1. **Reusabilitas Kode:** Fungsi memungkinkan kita untuk menggunakan kembali kode tanpa perlu menulis ulang.\n",
    "2. **Modularitas:** Program yang kompleks dapat dibagi menjadi beberapa fungsi yang lebih kecil dan mudah dikelola.\n",
    "\n",
    "### **2. Parameter pada Fungsi**\n",
    "\n",
    "Parameter digunakan untuk memberikan data yang akan diproses oleh fungsi. Fungsi dapat memiliki parameter opsional (default) atau wajib diisi oleh pengguna. Misalnya, berikut contoh fungsi dengan parameter default:\n",
    "\n",
    "   <img src=\"Screenshot (2).png\" alt=\"Deskripsi Gambar\" width=\"450\" style=\"margin-left: 30px;\" />\n",
    "\n",
    "Pada contoh di atas, jika nilai pi tidak diberikan, maka secara default fungsi akan menggunakan 3.14.\n",
    "\n",
    "### **3. Fungsi dengan Nilai Balik (Return Value)**\n",
    "\n",
    "Fungsi dapat mengembalikan nilai menggunakan perintah `return`. Nilai yang dikembalikan dapat digunakan oleh bagian lain dari program. Berikut contoh fungsi yang mengembalikan nilai balik:\n",
    "\n",
    "   <img src=\"Screenshot (3).png\" alt=\"Deskripsi Gambar\" width=\"450\" style=\"margin-left: 30px;\" />\n",
    "\n",
    "### **4. Fungsi Rekursif**\n",
    "\n",
    "Fungsi rekursif adalah fungsi yang memanggil dirinya sendiri di dalam tubuh fungsi tersebut. Fungsi rekursif sangat berguna untuk memecah masalah yang kompleks menjadi sub-masalah yang lebih kecil.\n",
    "\n",
    "Berikut contoh sederhana dari fungsi rekursif:\n",
    "\n",
    "   <img src=\"Screenshot (4).png\" alt=\"Deskripsi Gambar\" width=\"350\" style=\"margin-left: 30px;\" />\n",
    "   \n",
    "### **5. Fungsi Lambda**\n",
    "\n",
    "Fungsi lambda adalah fungsi anonim yang didefinisikan tanpa menggunakan nama. Fungsi ini biasanya digunakan untuk tugas-tugas sederhana yang membutuhkan satu baris kode.\n",
    "\n",
    "Contoh fungsi lambda:\n",
    "\n",
    "   <img src=\"Screenshot (5).png\" alt=\"Deskripsi Gambar\" width=\"350\" style=\"margin-left: 30px;\" />\n",
    "\n",
    "Lambda sering digunakan bersama fungsi seperti `map()` dan `filter()` untuk melakukan operasi cepat.\n",
    "\n",
    "---\n",
    "\n",
    "## **Tugas**\n",
    "\n",
    "Setelah memahami konsep-konsep di atas, selanjutnya adalah latihan soal. Pada setiap soal, kerjakan dengan benar sesuai dengan instruksi.\n",
    "**Note:** Gunakan logika pemrograman bukan cuman ngikutin gambar. Baca betul-betul apa yang di intruksikan!!\n"
   ]
  },
  {
   "attachments": {},
   "cell_type": "markdown",
   "id": "e989c82b-4c5e-4eaf-9152-4a4c9a494b65",
   "metadata": {},
   "source": [
    "### **1. Soal Fungsi**\n",
    "\n",
    "#### Soal 1\n",
    "Buatlah sebuah fungsi bernama ```volume_kubus``` yang menghitung volume sebuah kubus dengan parameter panjang sisi menggunakan ```return``` . Volume kubus dihitung dengan rumus: \\begin{equation}( V = s^3 ).\\end{equation}\n",
    "Berikut adalah **format fungsi** yang **salah**:\n",
    "\n",
    "   <img src=\"Screenshot (6).png\" alt=\"Deskripsi Gambar\" width=\"250\" style=\"margin-left: 30px;\" />\n",
    "   \n",
    "- Perbaiki lalu jelaskan apa yang salah dari **format fungsi** tersebut\n"
   ]
  },
  {
   "cell_type": "code",
   "execution_count": 2,
   "id": "b4beb5da-51a9-47ff-a732-d6cf9247ae74",
   "metadata": {
    "id": "ea6a12c4-1360-4bfe-a05f-4098604926bc"
   },
   "outputs": [
    {
     "data": {
      "text/plain": [
       "125"
      ]
     },
     "execution_count": 2,
     "metadata": {},
     "output_type": "execute_result"
    }
   ],
   "source": [
    "# Ketikan Code Disini lalu Jalankan (Run)\n",
    "def volume_kubus(s): #pada fungsi dengan nama volume_kubus(s) dengan param s\n",
    "    return s ** 3   #return mengembalikan nilai s pangkat 3\n",
    "    \n",
    "volume_kubus(5) #fungsi volume_kubus(5) yang di isi dengan argument 5\n",
    "#dan akan menghasilkan output 125 karena 5 pangkat 3 sama saja dengan 5 x 5 x 5 = 125"
   ]
  },
  {
   "attachments": {},
   "cell_type": "markdown",
   "id": "e5f438bd-f3c6-4dda-980f-21b9b9fc4125",
   "metadata": {},
   "source": [
    "#### Soal 2\n",
    "Buatlah sebuah fungsi bernama `cek_genap` yang menerima satu parameter bilangan bulat dan mengembalikan `True` jika bilangan tersebut genap, dan `False` jika ganjil.\n",
    "\n",
    "\n"
   ]
  },
  {
   "cell_type": "code",
   "execution_count": 20,
   "id": "d952ff4f-fbe5-465e-a064-b997bb5aa1a0",
   "metadata": {
    "id": "ea6a12c4-1360-4bfe-a05f-4098604926bc"
   },
   "outputs": [
    {
     "data": {
      "text/plain": [
       "False"
      ]
     },
     "execution_count": 20,
     "metadata": {},
     "output_type": "execute_result"
    }
   ],
   "source": [
    "# Ketikan Code Disini lalu Jalankan (Run)\n",
    "def cek_genap(genap):\n",
    "    if genap % 2 == 0:\n",
    "        return True\n",
    "    else:\n",
    "        return False\n",
    "    \n",
    "cek_genap(3)"
   ]
  },
  {
   "attachments": {},
   "cell_type": "markdown",
   "id": "cd9029d1-efb9-470a-86ab-d4398ff9bf7d",
   "metadata": {},
   "source": [
    "#### Soal 3\n",
    "Modifikasi dan perbaikilah fungsi di soal 2 menjadi fungsi lambda. Jelaskan kenapa bisa begitu!"
   ]
  },
  {
   "cell_type": "code",
   "execution_count": null,
   "id": "b66bfaa8-ddd5-48b8-82a6-51ce2b3fc73f",
   "metadata": {
    "id": "ea6a12c4-1360-4bfe-a05f-4098604926bc"
   },
   "outputs": [
    {
     "data": {
      "text/plain": [
       "False"
      ]
     },
     "execution_count": 19,
     "metadata": {},
     "output_type": "execute_result"
    }
   ],
   "source": [
    "# Ketikan Code Disini lalu Jalankan (Run)\n",
    "check_genap = lambda genap: genap % 2 == 0 #jika nilainya di modulo 2 sama dengan 0,maka nilainya true,jika tidak 0 maka false\n",
    "\n",
    "check_genap(3) #jika argument yang di isi adalah bilang bulat maka nilainya true jika ganjil false dengan type data Boolean"
   ]
  },
  {
   "attachments": {},
   "cell_type": "markdown",
   "id": "b4a48e8a-56e1-46b9-8f73-254be026c712",
   "metadata": {},
   "source": [
    "#### Soal 4\n",
    "Buatlah fungsi rekursif yang menghitung faktorial dari sebuah bilangan bulat positif. Faktorial dari n dinyatakan sebagai\n",
    "\\begin{equation}\n",
    "n! = n \\times (n-1) \\times (n-2) \\times \\dots \\times 1\n",
    "\\end{equation}\n",
    "\n",
    "Berikut contoh pemanggilan fungsi:\n",
    "   \n",
    "   <img src=\"Screenshot (7).png\" alt=\"Deskripsi Gambar\" width=\"250\" style=\"margin-left: 30px;\" />\n",
    "\n",
    "- Jelaskan outputnya kenapa begitu, dari alur perhitungan sampai ke alur code\n"
   ]
  },
  {
   "cell_type": "code",
   "execution_count": null,
   "id": "a0a08a3c-ebff-45bc-949d-c9b72eb7f9d7",
   "metadata": {
    "id": "ea6a12c4-1360-4bfe-a05f-4098604926bc"
   },
   "outputs": [
    {
     "data": {
      "text/plain": [
       "120"
      ]
     },
     "execution_count": 22,
     "metadata": {},
     "output_type": "execute_result"
    }
   ],
   "source": [
    "# Ketikan Code Disini lalu Jalankan (Run)\n",
    "def faktorial(n):\n",
    "    if n == 1: #jika argument yang di masukkan sama dengan 1 maka return,jika tidak akan masuk ke opsi  else\n",
    "        return 1\n",
    "    else:\n",
    "        return n * faktorial(n-1)#jika nilai kondisi false maka,mengembalikan nilai n adalah 5 dikalikan faktorial(5-1) => 5 * 4\n",
    "\n",
    "faktorial(5) #memanggil fungsi faktorial dengan argument 5\n",
    "\n",
    "#contoh alur perhitungannya:\n",
    "# faktorial(5 * 4)\n",
    "# faktorial(5 * 4 * 3)#\n",
    "# faktorial(5 * 4 * 3 * 2)#\n",
    "# faktorial(5 * 4 * 3 * 2 * 1)#\n",
    "# faktorial(5 * 4 * 3 * 2)#\n",
    "# faktorial(5 * 4 * 6)#\n",
    "# faktorial(5 * 24)#\n",
    "# faktorial(120)\n",
    "# maka output yang di hasilkan 120#"
   ]
  },
  {
   "cell_type": "markdown",
   "id": "28e24639-72f7-4d78-8169-b805c5bee744",
   "metadata": {},
   "source": [
    "### **2. Soal Lambda**\n",
    "\n",
    "#### Soal 5\n",
    "Buatlah sebuah lambda function yang menerima dua parameter `x` dan `y`, dan mengembalikan nilai `x` pangkat `y`. Jelaskan code dan outputnya\n"
   ]
  },
  {
   "cell_type": "code",
   "execution_count": null,
   "id": "b3f87cea-e50a-46fd-820f-bc12703db8da",
   "metadata": {
    "id": "ea6a12c4-1360-4bfe-a05f-4098604926bc"
   },
   "outputs": [
    {
     "data": {
      "text/plain": [
       "64"
      ]
     },
     "execution_count": 23,
     "metadata": {},
     "output_type": "execute_result"
    }
   ],
   "source": [
    "# Ketikan Code Disini lalu Jalankan (Run)\n",
    "index = lambda x,y: x ** y #pada fungsi lambda dengan param x dan y,dengan tugas x ** y atau  x pangkat y\n",
    "\n",
    "index(4,3) #jika argument x = 4 dan y = 3 maka 4 x 4 x 4 = 64 atau 4 pangkat 3"
   ]
  },
  {
   "cell_type": "markdown",
   "id": "e209067c-8f21-42d5-9a2a-8c7e753e4488",
   "metadata": {},
   "source": [
    "\n",
    "#### Soal 6\n",
    "Gunakan fungsi lambda untuk memfilter bilangan genap dari daftar berikut menggunakan `filter()`:\n",
    "\n",
    "   <img src=\"Screenshot (8).png\" alt=\"Deskripsi Gambar\" width=\"250\" style=\"margin-left: 30px;\" />\n",
    "\n",
    "jelaskan code dan output nya!\n",
    "\n",
    "---\n"
   ]
  },
  {
   "cell_type": "code",
   "execution_count": null,
   "id": "4815cd3f-46c7-4bdd-b5c2-832718a85d39",
   "metadata": {
    "id": "ea6a12c4-1360-4bfe-a05f-4098604926bc"
   },
   "outputs": [
    {
     "name": "stdout",
     "output_type": "stream",
     "text": [
      "[2, 4, 6, 8, 10]\n"
     ]
    }
   ],
   "source": [
    "# Ketikan Code Disini lalu Jalankan (Run)\n",
    "angka = [1,2,3,4,5,6,7,8,9,10]\n",
    "\n",
    "genap = list(filter(lambda x:x % 2 == 0,angka))# pada varibale genap dengan isi list dengan method filter dengan isi fungsi x % 2 == 0,pada variable atau list angka\n",
    "\n",
    "print(genap)#dan menghasilkan bilangan genap yang ada pada list angka\n",
    "\n"
   ]
  },
  {
   "cell_type": "markdown",
   "id": "100a88f2-117e-419e-b456-844dc22bb899",
   "metadata": {},
   "source": [
    "<span style=\"color:red; font-size: 20px;\">\n",
    "<b>Tugas Mandiri </b>\n",
    "</span>\n",
    "\n",
    "- Buatlah program sederhana menggunakan studikasus yang kalian temukan sendiri meenggunakan perulangan def rekursif, dimana menggunakan perulangan tanpa menggunakan perulangan.\n",
    "- Jelaskan program."
   ]
  },
  {
   "cell_type": "code",
   "execution_count": null,
   "id": "9b372de8-ac25-424f-ba50-a7ca18bf1871",
   "metadata": {
    "id": "ea6a12c4-1360-4bfe-a05f-4098604926bc"
   },
   "outputs": [
    {
     "name": "stdout",
     "output_type": "stream",
     "text": [
      "1\n",
      "2\n",
      "3\n",
      "4\n",
      "5\n",
      "6\n",
      "7\n",
      "8\n",
      "9\n",
      "10\n"
     ]
    }
   ],
   "source": [
    "# Ketikan Code Disini lalu Jalankan (Run)\n",
    "def hitung(n):\n",
    "    print(n) #print n atau angka yang di masukkan pada argument fungsi hitung\n",
    "    if n < 10: #jika nilai 1 maka true\n",
    "        hitung(n + 1) #nilai satu akan di tambkan 1,dan mengulang fungsinya dengan argument hitung(2),seterusnya hingga kondisi terpenuhi\n",
    "        \n",
    "        \n",
    "hitung(1) # ada fungsi hitung(n) dengan argument n-nya adalah 1 atau dimulai dari angka 1"
   ]
  },
  {
   "cell_type": "code",
   "execution_count": null,
   "id": "93cdda36-f71b-4995-a92f-b5682f5246f6",
   "metadata": {},
   "outputs": [],
   "source": [
    "# Jelaskan  Kesimpulan dari Pertemuan kali ini Dengan Format Markdown, Min.3 Baris\n",
    "# Note: nilai plus buat yang masukkan gambar, visualisasi penjelasan, dan table penjelasan\n"
   ]
  },
  {
   "cell_type": "markdown",
   "id": "9ec5f8a9",
   "metadata": {},
   "source": [
    "## **Pertemuan 9**\n",
    "\n",
    "pada pertemuan hari ini saya telah mempelajari fungsi dan lambda<br>\n",
    "<br>\n",
    "\n",
    "### apa sih fungsi itu?<br>\n",
    "<br>\n",
    "\n",
    "Fungsi adalah kumpulan perintah yang dirancang untuk melakukan tugas tertentu. Dalam Python, fungsi dapat didefinisikan dengan kata kunci `def`. Fungsi ini dapat memiliki parameter sebagai input untuk diproses, dan bisa mengembalikan output menggunakan `return`.\n",
    "<br><br>\n",
    "\n",
    "<img src=\"Cuplikan layar 2024-11-09 102121.png\"><br>\n",
    "\n",
    "## Gimana cara kerja fungsi di atas?\n",
    "<br>\n",
    "~ pada fungsi dengan nama volume_kubus(s) dengan param s<br>\n",
    "~~ return mengembalikan nilai s pangkat 3<br>\n",
    "~~ fungsi volume_kubus(5) yang di isi dengan argument 5<br>\n",
    "<br>\n",
    "dan akan menghasilkan output 125 karena 5 pangkat 3 sama saja dengan 5 x 5 x 5 = 125\n",
    "\n",
    "<br>\n",
    "\n",
    "### dan apa itu lambda?<br>\n",
    "\n",
    "Fungsi lambda adalah fungsi anonim yang didefinisikan tanpa menggunakan nama. Fungsi ini biasanya digunakan untuk tugas-tugas sederhana yang membutuhkan satu baris kode.\n",
    "<br><br>\n",
    "\n",
    "<img src=\"Cuplikan layar 2024-11-09 102153.png\"><br>\n",
    "\n",
    "## Gimana cara kerja fungsi lambda di atas?\n",
    "\n",
    "~ pada fungsi lambda dengan param x dan y,dengan tugas x ** y atau  x pangkat y<br>\n",
    "~~ jika argument x = 4 dan y = 3 maka 4 x 4 x 4 = 64 atau 4 pangkat 3<br>\n",
    "\n",
    "\n",
    "\n"
   ]
  }
 ],
 "metadata": {
  "colab": {
   "provenance": []
  },
  "kernelspec": {
   "display_name": "Python 3",
   "language": "python",
   "name": "python3"
  },
  "language_info": {
   "codemirror_mode": {
    "name": "ipython",
    "version": 3
   },
   "file_extension": ".py",
   "mimetype": "text/x-python",
   "name": "python",
   "nbconvert_exporter": "python",
   "pygments_lexer": "ipython3",
   "version": "3.13.0"
  },
  "widgets": {
   "application/vnd.jupyter.widget-state+json": {
    "state": {},
    "version_major": 2,
    "version_minor": 0
   }
  }
 },
 "nbformat": 4,
 "nbformat_minor": 5
}
