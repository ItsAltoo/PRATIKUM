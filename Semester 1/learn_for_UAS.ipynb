{
 "cells": [
  {
   "cell_type": "code",
   "execution_count": 1,
   "metadata": {},
   "outputs": [],
   "source": [
    "class Buku:\n",
    "    \n",
    "    def __init__(self,judul: str,pengarang:str,tahun_terbit:int):\n",
    "        self.judul = judul\n",
    "        self.pengarang = pengarang\n",
    "        self.tahun_terbit = tahun_terbit\n",
    "        \n",
    "    def deskripsi(self):\n",
    "        \"\"\" Menampilkan Deskripsi \"\"\"\n",
    "        print(f\"\"\" \n",
    "Judul : {self.judul}\n",
    "Pengarang : {self.pengarang}\n",
    "Tahun terbit : {self.tahun_terbit} \n",
    "              \"\"\")\n",
    "        \n",
    "\n",
    "class Buku2:\n",
    "    judul = 'Buku'\n",
    "    pengarang = 'Saya'\n",
    "    tahun_terbit = '2024'\n",
    "    \n",
    "    def deskripsi(self):\n",
    "        print(f\"\"\" \n",
    "Judul : {self.judul}\n",
    "Pengarang : {self.pengarang}\n",
    "Tahun terbit : {self.tahun_terbit}\n",
    "              \"\"\")"
   ]
  },
  {
   "cell_type": "markdown",
   "metadata": {},
   "source": [
    "`def __init__` adalah sebuah construktor yang dmna untuk membuat atribut atau variable agar bisa digunakan di dalam class `Buku`<br>\n",
    "fungsi `deskripsi()` menampilkan deskripsi dari judul,pengarang,dan tahun terbit yang telah user tuliskan"
   ]
  },
  {
   "cell_type": "code",
   "execution_count": 3,
   "metadata": {},
   "outputs": [
    {
     "name": "stdout",
     "output_type": "stream",
     "text": [
      " \n",
      "Judul : luqman\n",
      "Pengarang : Saya\n",
      "Tahun terbit : 2024\n",
      "              \n",
      "buku tiga : \n",
      "None\n",
      " \n",
      "Judul : life of pi\n",
      "Pengarang : Yann Martel\n",
      "Tahun terbit : 2012 \n",
      "              \n",
      " \n",
      "Judul : Rich dad poor dad\n",
      "Pengarang : Robert kiyosaki\n",
      "Tahun terbit : 1997 \n",
      "              \n"
     ]
    }
   ],
   "source": [
    "# inheritance \n",
    "class Mahasiswa(Buku):\n",
    "    def __init__(self, judul, pengarang, tahun_terbit,nama_mahasiswa,nim):\n",
    "        super().__init__(judul, pengarang,tahun_terbit)\n",
    "        self.nama_mahasiswa = nama_mahasiswa\n",
    "        self.nim = nim\n",
    "        self.buku_dipinjam = [judul]\n",
    "    \n",
    "    \n",
    "    def simpan_ke_file(self):\n",
    "        with open('./data_peminjaman.txt','a')as file:\n",
    "             file.write(f\"\"\" \n",
    "Nama : {self.nama_mahasiswa}\n",
    "NIM : {self.nim}\n",
    "Buku Dipinjam : {self.judul}\n",
    "\"\"\")\n",
    "\n",
    "\n",
    "buku_pertama = Mahasiswa('life of pi','Yann Martel',2012,'Ten','1250')\n",
    "buku_kedua = Mahasiswa('Rich dad poor dad','Robert kiyosaki',1997,'Ten','1250',)\n",
    "buku_ketiga = Buku2()\n",
    "buku_ketiga.judul = 'luqman'\n",
    "print(f\"buku tiga : \\n{buku_ketiga.deskripsi()}\")\n",
    "\n",
    "\n",
    "buku_pertama.deskripsi()\n",
    "buku_pertama.simpan_ke_file()\n",
    "\n",
    "buku_kedua.deskripsi()\n",
    "buku_kedua.simpan_ke_file()"
   ]
  },
  {
   "cell_type": "markdown",
   "metadata": {},
   "source": [
    "## Inheritance\n",
    "\n",
    "Inherintance adalah sebuah metode pewarisan atribut dan fungsi pada class `Parent` ke sebuah class `Child`,yang dmna class `Parent` tersebut adalah class `Buku`,dan class `Mahasiswa` sebagai `Child` class \n",
    "\n",
    "pada class `Mahasiswa` sebagai `Child` dan mengambil class `Parent` pada `Buku` <br>\n",
    "`class Mahasiswa(Buku)` untuk memanggil parentnya <br>\n",
    "`def __init__()` sebagai konstruktor dan jika kita ingin menambahkan atribut atau fungsi yang ada pada class `Buku` dengan menggunakan `super().__init__()`"
   ]
  }
 ],
 "metadata": {
  "kernelspec": {
   "display_name": "Python 3",
   "language": "python",
   "name": "python3"
  },
  "language_info": {
   "codemirror_mode": {
    "name": "ipython",
    "version": 3
   },
   "file_extension": ".py",
   "mimetype": "text/x-python",
   "name": "python",
   "nbconvert_exporter": "python",
   "pygments_lexer": "ipython3",
   "version": "3.13.0"
  }
 },
 "nbformat": 4,
 "nbformat_minor": 2
}
